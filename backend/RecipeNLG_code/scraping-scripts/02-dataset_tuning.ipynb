{
 "cells": [
  {
   "cell_type": "markdown",
   "metadata": {},
   "source": [
    "# Prequesities"
   ]
  },
  {
   "cell_type": "code",
   "execution_count": 1,
   "metadata": {},
   "outputs": [],
   "source": [
    "import dask.dataframe as dd\n",
    "import pandas as pd\n",
    "import dask\n",
    "\n",
    "import matplotlib\n",
    "from matplotlib.pyplot import hist\n",
    "from matplotlib.pyplot import boxplot\n",
    "import matplotlib.pyplot as plt\n",
    "\n",
    "%matplotlib inline\n",
    "\n",
    "import json\n",
    "import re"
   ]
  },
  {
   "cell_type": "code",
   "execution_count": 2,
   "metadata": {},
   "outputs": [],
   "source": [
    "version = '0.9.2'\n",
    "new_version = '0.9.3'"
   ]
  },
  {
   "cell_type": "code",
   "execution_count": 3,
   "metadata": {},
   "outputs": [],
   "source": [
    "def make_dir_plot(dataframe, limit = 20):\n",
    "    dir_len_list = list(map(lambda x: len(x),dataframe.directions))\n",
    "    print(sum(dir_len_list)/len(dir_len_list))\n",
    "    filtered = list(filter(lambda x: x < limit , dir_len_list))\n",
    "    print(len(filtered))\n",
    "    return hist(filtered, bins = range(0,limit+1, limit//20))\n",
    "\n",
    "def make_ing_plot(dataframe, limit = 20):\n",
    "    ing_len_list = list(map(lambda x: len(x),dataframe.ingredients))\n",
    "    print(sum(ing_len_list)/len(ing_len_list))\n",
    "    filtered = list(filter(lambda x: x < limit , ing_len_list))\n",
    "    print(len(filtered))\n",
    "    return hist(filtered, bins = range(0,limit+1, limit//20))"
   ]
  },
  {
   "cell_type": "code",
   "execution_count": 4,
   "metadata": {},
   "outputs": [],
   "source": [
    "def splitList(inputList: list):\n",
    "    outputList = list()\n",
    "    if len(inputList) > 1: # edition splitting only lines length of 1\n",
    "        return inputList\n",
    "    for i in inputList:\n",
    "        outputList.extend(list(map(lambda x: x.strip(), i.split('\\n'))))\n",
    "    return outputList"
   ]
  },
  {
   "cell_type": "code",
   "execution_count": 5,
   "metadata": {},
   "outputs": [],
   "source": [
    "input_data = ['xdd\\n       xdd\\nxdd\\nxdd']\n",
    "assert len(splitList(input_data)) == 4"
   ]
  },
  {
   "cell_type": "code",
   "execution_count": 6,
   "metadata": {},
   "outputs": [],
   "source": [
    "def trim_and_remove_empty_lines(inputList: list):\n",
    "    result = list(map(lambda x: x.strip(), inputList))\n",
    "    return list(filter(lambda x: len(x) > 0, result))"
   ]
  },
  {
   "cell_type": "code",
   "execution_count": 7,
   "metadata": {},
   "outputs": [],
   "source": [
    "test_data = [\" \"]*15\n",
    "assert len(trim_and_remove_empty_lines(test_data)) == 0\n",
    "test_data = [\" \", \"xD\"]\n",
    "assert len(trim_and_remove_empty_lines(test_data)) == 1"
   ]
  },
  {
   "cell_type": "markdown",
   "metadata": {},
   "source": [
    "# Read data"
   ]
  },
  {
   "cell_type": "code",
   "execution_count": 8,
   "metadata": {},
   "outputs": [
    {
     "data": {
      "text/html": [
       "<div>\n",
       "<style scoped>\n",
       "    .dataframe tbody tr th:only-of-type {\n",
       "        vertical-align: middle;\n",
       "    }\n",
       "\n",
       "    .dataframe tbody tr th {\n",
       "        vertical-align: top;\n",
       "    }\n",
       "\n",
       "    .dataframe thead th {\n",
       "        text-align: right;\n",
       "    }\n",
       "</style>\n",
       "<table border=\"1\" class=\"dataframe\">\n",
       "  <thead>\n",
       "    <tr style=\"text-align: right;\">\n",
       "      <th></th>\n",
       "      <th>title</th>\n",
       "      <th>ingredients</th>\n",
       "      <th>directions</th>\n",
       "      <th>link</th>\n",
       "    </tr>\n",
       "  </thead>\n",
       "  <tbody>\n",
       "    <tr>\n",
       "      <th>count</th>\n",
       "      <td>1755013</td>\n",
       "      <td>1755013</td>\n",
       "      <td>1755013</td>\n",
       "      <td>1755013</td>\n",
       "    </tr>\n",
       "    <tr>\n",
       "      <th>unique</th>\n",
       "      <td>965216</td>\n",
       "      <td>1731675</td>\n",
       "      <td>1717376</td>\n",
       "      <td>1754626</td>\n",
       "    </tr>\n",
       "    <tr>\n",
       "      <th>top</th>\n",
       "      <td>chicken casserole</td>\n",
       "      <td>[\"Zxcvbnm\"]</td>\n",
       "      <td>[]</td>\n",
       "      <td>https://www.allrecipes.com/recipe/215239/three...</td>\n",
       "    </tr>\n",
       "    <tr>\n",
       "      <th>freq</th>\n",
       "      <td>4198</td>\n",
       "      <td>123</td>\n",
       "      <td>417</td>\n",
       "      <td>4</td>\n",
       "    </tr>\n",
       "  </tbody>\n",
       "</table>\n",
       "</div>"
      ],
      "text/plain": [
       "                    title  ingredients directions  \\\n",
       "count             1755013      1755013    1755013   \n",
       "unique             965216      1731675    1717376   \n",
       "top     chicken casserole  [\"Zxcvbnm\"]         []   \n",
       "freq                 4198          123        417   \n",
       "\n",
       "                                                     link  \n",
       "count                                             1755013  \n",
       "unique                                            1754626  \n",
       "top     https://www.allrecipes.com/recipe/215239/three...  \n",
       "freq                                                    4  "
      ]
     },
     "execution_count": 8,
     "metadata": {},
     "output_type": "execute_result"
    }
   ],
   "source": [
    "df = pd.read_csv('./0-datasets/v-'+version+'-single.csv')\n",
    "df.describe()"
   ]
  },
  {
   "cell_type": "markdown",
   "metadata": {},
   "source": [
    "# Explore unicode characters in recipes\n",
    "* custom handling of sertain characters (e.g. fractions)\n",
    "* leaving sertain characters as they are\n",
    "    - degrees sign [link](http://www.fileformat.info/info/unicode/char/b0/index.htm)\n",
    "* default handling of other characters"
   ]
  },
  {
   "cell_type": "code",
   "execution_count": 9,
   "metadata": {},
   "outputs": [
    {
     "data": {
      "text/plain": [
       "['\\\\u00e9']"
      ]
     },
     "execution_count": 9,
     "metadata": {},
     "output_type": "execute_result"
    }
   ],
   "source": [
    "test = df.loc[df.ingredients.map(lambda x: \"\\\\u\" in x)].iloc[0].ingredients\n",
    "p = re.compile(\"\\\\\\\\u[0-9A-Fa-f]{4}\") # match json parsed unicode characters\n",
    "p.findall(test)"
   ]
  },
  {
   "cell_type": "code",
   "execution_count": 10,
   "metadata": {},
   "outputs": [
    {
     "name": "stdout",
     "output_type": "stream",
     "text": [
      "Distinct unicodes 1053\n",
      "All unicodes 2129826\n"
     ]
    }
   ],
   "source": [
    "ing_unicodes = list(filter(lambda x: len(x) > 0, list(df.ingredients.map(lambda x: p.findall(x)))))\n",
    "dir_unicodes = list(filter(lambda x: len(x) > 0, list(df.directions.map(lambda x: p.findall(x)))))\n",
    "all_unicodes = ing_unicodes + dir_unicodes\n",
    "flatten = lambda l: [item for sublist in l for item in sublist]\n",
    "all_unicodes = flatten(all_unicodes)\n",
    "print('Distinct unicodes', len(set(all_unicodes)))\n",
    "print('All unicodes', len(all_unicodes))"
   ]
  },
  {
   "cell_type": "raw",
   "metadata": {},
   "source": [
    "# prepared list of characters to be replaced\n",
    "# mostly fractions\n",
    "# based on most common characters\n",
    "# import collections\n",
    "# counter=collections.Counter(all_unicodes)\n",
    "# print(counter.most_common(50))\n",
    "# replace_list = [\n",
    "#     ('\\\\u2044', '/'),('\\\\u00b0', 'DEGREE_SIGN'),('\\\\u00bd', '1/2'),('\\\\u00bc', '1/4'),\n",
    "#     ('\\\\u00be', '3/4'),('\\\\u00e9', 'e'),('\\\\u2019', \"'\"),('\\\\u00ae', '(R)'),\n",
    "#     ('\\\\u2013', '-'),('\\\\u00ba', 'DEGREE_SIGN'),('\\\\u00a0', ' '),('\\\\u00f1', 'n'),\n",
    "#     ('\\\\u2153', '1/3'),('\\\\u2152', '1/10'),('\\\\u2151', '1/9'),('\\\\u2150', '1/7'),\n",
    "#     ('\\\\u2154', '2/3'),('\\\\u2155', '1/5'),('\\\\u2156', '2/5'),('\\\\u2157', '3/5'),\n",
    "#     ('\\\\u2158', '4/5'),('\\\\u2159', '1/6'),('\\\\u215a', '5/6'),('\\\\u215b', '1/8'),\n",
    "#     ('\\\\u215c', '3/8'),('\\\\u215d', '5/8'),('\\\\u215e', '7/8'),('\\\\u201d', '\"'),\n",
    "#     ('\\\\u2014', '-'),('\\\\u00e8', 'e'),('\\\\u201c', '\"'),('\\\\u2033', '\"'),\n",
    "#     ('\\\\u2022', ''),('\\\\u00d7', 'x'),('\\\\u00ee', 'i'),('\\\\u2026', '...'),\n",
    "#     ('\\\\u00c2', 'A'),('\\\\u2122', 'TM'),('\\\\u2018', \"'\"),('\\\\u00ad', '-'),('\\\\u2028', ' '),\n",
    "# ]"
   ]
  },
  {
   "cell_type": "markdown",
   "metadata": {},
   "source": [
    "## Parse JSON to list of lines"
   ]
  },
  {
   "cell_type": "code",
   "execution_count": 11,
   "metadata": {},
   "outputs": [
    {
     "data": {
      "text/html": [
       "<div>\n",
       "<style scoped>\n",
       "    .dataframe tbody tr th:only-of-type {\n",
       "        vertical-align: middle;\n",
       "    }\n",
       "\n",
       "    .dataframe tbody tr th {\n",
       "        vertical-align: top;\n",
       "    }\n",
       "\n",
       "    .dataframe thead th {\n",
       "        text-align: right;\n",
       "    }\n",
       "</style>\n",
       "<table border=\"1\" class=\"dataframe\">\n",
       "  <thead>\n",
       "    <tr style=\"text-align: right;\">\n",
       "      <th></th>\n",
       "      <th>title</th>\n",
       "      <th>ingredients</th>\n",
       "      <th>directions</th>\n",
       "      <th>link</th>\n",
       "    </tr>\n",
       "  </thead>\n",
       "  <tbody>\n",
       "    <tr>\n",
       "      <th>0</th>\n",
       "      <td>saucy shrimp casserole</td>\n",
       "      <td>[1/4  c. margarine, 1/4  c. flour, 2  c. milk,...</td>\n",
       "      <td>[Make, cream, sauce, with, margarine, flour, m...</td>\n",
       "      <td>http://www.cookbooks.com/Recipe-Details.aspx?i...</td>\n",
       "    </tr>\n",
       "    <tr>\n",
       "      <th>1</th>\n",
       "      <td>no-bake nut cookies</td>\n",
       "      <td>[1  c. firmly packed brown sugar, 1/2  c. evap...</td>\n",
       "      <td>[In a heavy 2-quart saucepan, mix brown sugar,...</td>\n",
       "      <td>http://www.cookbooks.com/Recipe-Details.aspx?i...</td>\n",
       "    </tr>\n",
       "    <tr>\n",
       "      <th>2</th>\n",
       "      <td>jewell ball's chicken</td>\n",
       "      <td>[1 small  jar chipped beef, cut up, 4  boned c...</td>\n",
       "      <td>[Place chipped beef on bottom of baking dish.,...</td>\n",
       "      <td>http://www.cookbooks.com/Recipe-Details.aspx?i...</td>\n",
       "    </tr>\n",
       "    <tr>\n",
       "      <th>3</th>\n",
       "      <td>creamy corn</td>\n",
       "      <td>[2 (16 oz.)  pkg. frozen corn, 1 (8 oz.)  pkg....</td>\n",
       "      <td>[In a slow cooker, combine all ingredients. Co...</td>\n",
       "      <td>http://www.cookbooks.com/Recipe-Details.aspx?i...</td>\n",
       "    </tr>\n",
       "    <tr>\n",
       "      <th>4</th>\n",
       "      <td>chicken funny</td>\n",
       "      <td>[1  large whole chicken, 2 (10 1/2 oz.)  cans ...</td>\n",
       "      <td>[Boil and debone chicken., Put bite size piece...</td>\n",
       "      <td>http://www.cookbooks.com/Recipe-Details.aspx?i...</td>\n",
       "    </tr>\n",
       "  </tbody>\n",
       "</table>\n",
       "</div>"
      ],
      "text/plain": [
       "                    title                                        ingredients  \\\n",
       "0  saucy shrimp casserole  [1/4  c. margarine, 1/4  c. flour, 2  c. milk,...   \n",
       "1     no-bake nut cookies  [1  c. firmly packed brown sugar, 1/2  c. evap...   \n",
       "2   jewell ball's chicken  [1 small  jar chipped beef, cut up, 4  boned c...   \n",
       "3             creamy corn  [2 (16 oz.)  pkg. frozen corn, 1 (8 oz.)  pkg....   \n",
       "4           chicken funny  [1  large whole chicken, 2 (10 1/2 oz.)  cans ...   \n",
       "\n",
       "                                          directions  \\\n",
       "0  [Make, cream, sauce, with, margarine, flour, m...   \n",
       "1  [In a heavy 2-quart saucepan, mix brown sugar,...   \n",
       "2  [Place chipped beef on bottom of baking dish.,...   \n",
       "3  [In a slow cooker, combine all ingredients. Co...   \n",
       "4  [Boil and debone chicken., Put bite size piece...   \n",
       "\n",
       "                                                link  \n",
       "0  http://www.cookbooks.com/Recipe-Details.aspx?i...  \n",
       "1  http://www.cookbooks.com/Recipe-Details.aspx?i...  \n",
       "2  http://www.cookbooks.com/Recipe-Details.aspx?i...  \n",
       "3  http://www.cookbooks.com/Recipe-Details.aspx?i...  \n",
       "4  http://www.cookbooks.com/Recipe-Details.aspx?i...  "
      ]
     },
     "execution_count": 11,
     "metadata": {},
     "output_type": "execute_result"
    }
   ],
   "source": [
    "df.directions = df.directions.map(json.loads).map(trim_and_remove_empty_lines)\n",
    "df.ingredients = df.ingredients.map(json.loads).map(trim_and_remove_empty_lines)\n",
    "df.head()"
   ]
  },
  {
   "cell_type": "raw",
   "metadata": {},
   "source": [
    "## that takes veeery long\n",
    "df.describe()"
   ]
  },
  {
   "cell_type": "markdown",
   "metadata": {},
   "source": [
    "## Handle unicode characters"
   ]
  },
  {
   "cell_type": "code",
   "execution_count": 12,
   "metadata": {},
   "outputs": [],
   "source": [
    "replace_list = [\n",
    "    ('\\u2044', '/'),('\\u00b0', 'DEGREE_SIGN'),('\\u00bd', '1/2'),('\\u00bc', '1/4'),\n",
    "    ('\\u00be', '3/4'),('\\u00e9', 'e'),('\\u2019', \"'\"),('\\u00ae', '(R)'),\n",
    "    ('\\u2013', '-'),('\\u00ba', 'DEGREE_SIGN'),('\\u00a0', ' '),('\\u00f1', 'n'),\n",
    "    ('\\u2153', '1/3'),('\\u2152', '1/10'),('\\u2151', '1/9'),('\\u2150', '1/7'),\n",
    "    ('\\u2154', '2/3'),('\\u2155', '1/5'),('\\u2156', '2/5'),('\\u2157', '3/5'),\n",
    "    ('\\u2158', '4/5'),('\\u2159', '1/6'),('\\u215a', '5/6'),('\\u215b', '1/8'),\n",
    "    ('\\u215c', '3/8'),('\\u215d', '5/8'),('\\u215e', '7/8'),('\\u201d', '\"'),\n",
    "    ('\\u2014', '-'),('\\u00e8', 'e'),('\\u201c', '\"'),('\\u2033', '\"'),\n",
    "    ('\\u2022', ''),('\\u00d7', 'x'),('\\u00ee', 'i'),('\\u2026', '...'),\n",
    "    ('\\u00c2', 'A'),('\\u2122', 'TM'),('\\u2018', \"'\"),('\\u00ad', '-'),('\\u2028', ' '),\n",
    "]"
   ]
  },
  {
   "cell_type": "code",
   "execution_count": 13,
   "metadata": {},
   "outputs": [
    {
     "name": "stdout",
     "output_type": "stream",
     "text": [
      "⁄½°–× ",
      "½“\n"
     ]
    },
    {
     "data": {
      "text/plain": [
       "'1212'"
      ]
     },
     "execution_count": 13,
     "metadata": {},
     "output_type": "execute_result"
    }
   ],
   "source": [
    "# example\n",
    "import unicodedata\n",
    "t = u\"\\u2044\\u00bd\\uf0b7\\u00b0\\u2013\\u00d7\\u2028\\u00bd\\u201c\"\n",
    "print(t)\n",
    "# https://docs.python.org/3/library/unicodedata.html#unicodedata.normalize\n",
    "unicodedata.normalize('NFKD', t).encode('ascii','ignore').decode(\"utf-8\")"
   ]
  },
  {
   "cell_type": "code",
   "execution_count": 14,
   "metadata": {},
   "outputs": [],
   "source": [
    "# function replaces characters based on list\n",
    "def replacer(arg: str):\n",
    "    for k, v in replace_list:\n",
    "        arg = arg.replace(k, v)\n",
    "    return arg"
   ]
  },
  {
   "cell_type": "code",
   "execution_count": 15,
   "metadata": {},
   "outputs": [],
   "source": [
    "def parse_line(line: str):\n",
    "    line = replacer(line)\n",
    "    if not line.isascii():\n",
    "        line = unicodedata.normalize('NFKD', line).encode('ascii','ignore').decode(\"utf-8\")\n",
    "    # bring back degree sign\n",
    "    return line.replace('DEGREE_SIGN', '\\u00b0')"
   ]
  },
  {
   "cell_type": "code",
   "execution_count": 16,
   "metadata": {},
   "outputs": [],
   "source": [
    "def parse_list_of_lines(lst: list):\n",
    "    return list(map(parse_line, lst))"
   ]
  },
  {
   "cell_type": "code",
   "execution_count": 17,
   "metadata": {},
   "outputs": [],
   "source": [
    "df.ingredients = df.ingredients.map(parse_list_of_lines)\n",
    "df.directions = df.directions.map(parse_list_of_lines)"
   ]
  },
  {
   "cell_type": "markdown",
   "metadata": {},
   "source": [
    "## Split directions separated by endline character\n",
    "In Pandas"
   ]
  },
  {
   "cell_type": "code",
   "execution_count": 18,
   "metadata": {},
   "outputs": [
    {
     "name": "stdout",
     "output_type": "stream",
     "text": [
      "5.061236013636366\n",
      "1740788\n"
     ]
    },
    {
     "data": {
      "image/png": "[encoded data removed]",
      "text/plain": [
       "<Figure size 432x288 with 1 Axes>"
      ]
     },
     "metadata": {
      "needs_background": "light"
     },
     "output_type": "display_data"
    }
   ],
   "source": [
    "h1 = make_dir_plot(df)\n",
    "plt.title(\"Number of recipes per number instructions lines \\n before resolving the issue\")\n",
    "plt.ylabel(\"Number of recipes\")\n",
    "plt.xlabel(\"Number of instructions lines\")\n",
    "plt.xticks(list(range(0,21,2)))\n",
    "plt.savefig('dir-frequency-before.png')"
   ]
  },
  {
   "cell_type": "code",
   "execution_count": 19,
   "metadata": {},
   "outputs": [],
   "source": [
    "# split directions\n",
    "df.directions = df.directions.map(splitList)\n",
    "df.ingredients = df.ingredients.map(splitList)"
   ]
  },
  {
   "cell_type": "code",
   "execution_count": 20,
   "metadata": {},
   "outputs": [
    {
     "name": "stdout",
     "output_type": "stream",
     "text": [
      "5.3066934546923585\n",
      "1738554\n"
     ]
    },
    {
     "data": {
      "image/png": "[encoded data removed]",
      "text/plain": [
       "<Figure size 432x288 with 1 Axes>"
      ]
     },
     "metadata": {
      "needs_background": "light"
     },
     "output_type": "display_data"
    }
   ],
   "source": [
    "h2 = make_dir_plot(df)\n",
    "plt.title(\"Number of recipes per number instructions lines \\n after resolving the issue\")\n",
    "plt.ylabel(\"Number of recipes\")\n",
    "plt.xlabel(\"Number of instructions lines\")\n",
    "plt.xticks(list(range(0,21,2)))\n",
    "plt.savefig('dir-frequency-after.png')"
   ]
  },
  {
   "cell_type": "markdown",
   "metadata": {},
   "source": [
    "## Drop test recipes"
   ]
  },
  {
   "cell_type": "code",
   "execution_count": 21,
   "metadata": {},
   "outputs": [
    {
     "data": {
      "text/html": [
       "<div>\n",
       "<style scoped>\n",
       "    .dataframe tbody tr th:only-of-type {\n",
       "        vertical-align: middle;\n",
       "    }\n",
       "\n",
       "    .dataframe tbody tr th {\n",
       "        vertical-align: top;\n",
       "    }\n",
       "\n",
       "    .dataframe thead th {\n",
       "        text-align: right;\n",
       "    }\n",
       "</style>\n",
       "<table border=\"1\" class=\"dataframe\">\n",
       "  <thead>\n",
       "    <tr style=\"text-align: right;\">\n",
       "      <th></th>\n",
       "      <th>title</th>\n",
       "      <th>ingredients</th>\n",
       "      <th>directions</th>\n",
       "      <th>link</th>\n",
       "    </tr>\n",
       "  </thead>\n",
       "  <tbody>\n",
       "    <tr>\n",
       "      <th>1439850</th>\n",
       "      <td>test</td>\n",
       "      <td>[138 grams test]</td>\n",
       "      <td>[canceled]</td>\n",
       "      <td>https://food52.com/recipes/73656-test</td>\n",
       "    </tr>\n",
       "    <tr>\n",
       "      <th>1441682</th>\n",
       "      <td>test</td>\n",
       "      <td>[ssklfjsf, 1 teaspoon salt, 2 bunches bread, k...</td>\n",
       "      <td>[cook whatever, sdflkjasdf]</td>\n",
       "      <td>https://food52.com/recipes/22121-test</td>\n",
       "    </tr>\n",
       "    <tr>\n",
       "      <th>1449857</th>\n",
       "      <td>test</td>\n",
       "      <td>[1  test, 1  test, 1  test]</td>\n",
       "      <td>[jvghjfcvhcm, hgj,gu,]</td>\n",
       "      <td>https://food52.com/recipes/32281-test</td>\n",
       "    </tr>\n",
       "    <tr>\n",
       "      <th>1452659</th>\n",
       "      <td>test</td>\n",
       "      <td>[1 cup test]</td>\n",
       "      <td>[test]</td>\n",
       "      <td>https://food52.com/recipes/77156-test</td>\n",
       "    </tr>\n",
       "    <tr>\n",
       "      <th>1453521</th>\n",
       "      <td>test</td>\n",
       "      <td>[1  test]</td>\n",
       "      <td>[test]</td>\n",
       "      <td>https://food52.com/recipes/54987-test</td>\n",
       "    </tr>\n",
       "    <tr>\n",
       "      <th>1465618</th>\n",
       "      <td>test</td>\n",
       "      <td>[2 cups food]</td>\n",
       "      <td>[test]</td>\n",
       "      <td>https://food52.com/recipes/77155-test</td>\n",
       "    </tr>\n",
       "    <tr>\n",
       "      <th>1466138</th>\n",
       "      <td>test</td>\n",
       "      <td>[1 cup test]</td>\n",
       "      <td>[test]</td>\n",
       "      <td>https://food52.com/recipes/20978-test</td>\n",
       "    </tr>\n",
       "    <tr>\n",
       "      <th>1470427</th>\n",
       "      <td>test</td>\n",
       "      <td>[test1, 1 cup test, test2, 2 cups test]</td>\n",
       "      <td>[test, test]</td>\n",
       "      <td>https://food52.com/recipes/27743-test</td>\n",
       "    </tr>\n",
       "    <tr>\n",
       "      <th>1470505</th>\n",
       "      <td>test</td>\n",
       "      <td>[test, 1 handful test, test2, 1 dash 1]</td>\n",
       "      <td>[just for testing purposes.]</td>\n",
       "      <td>https://food52.com/recipes/11621-test</td>\n",
       "    </tr>\n",
       "    <tr>\n",
       "      <th>1475231</th>\n",
       "      <td>test</td>\n",
       "      <td>[1  1]</td>\n",
       "      <td>[1]</td>\n",
       "      <td>https://food52.com/recipes/33019-test</td>\n",
       "    </tr>\n",
       "    <tr>\n",
       "      <th>1477067</th>\n",
       "      <td>test</td>\n",
       "      <td>[1 cup test]</td>\n",
       "      <td>[test]</td>\n",
       "      <td>https://food52.com/recipes/12927-test</td>\n",
       "    </tr>\n",
       "  </tbody>\n",
       "</table>\n",
       "</div>"
      ],
      "text/plain": [
       "        title                                        ingredients  \\\n",
       "1439850  test                                   [138 grams test]   \n",
       "1441682  test  [ssklfjsf, 1 teaspoon salt, 2 bunches bread, k...   \n",
       "1449857  test                        [1  test, 1  test, 1  test]   \n",
       "1452659  test                                       [1 cup test]   \n",
       "1453521  test                                          [1  test]   \n",
       "1465618  test                                      [2 cups food]   \n",
       "1466138  test                                       [1 cup test]   \n",
       "1470427  test            [test1, 1 cup test, test2, 2 cups test]   \n",
       "1470505  test            [test, 1 handful test, test2, 1 dash 1]   \n",
       "1475231  test                                             [1  1]   \n",
       "1477067  test                                       [1 cup test]   \n",
       "\n",
       "                           directions                                   link  \n",
       "1439850                    [canceled]  https://food52.com/recipes/73656-test  \n",
       "1441682   [cook whatever, sdflkjasdf]  https://food52.com/recipes/22121-test  \n",
       "1449857        [jvghjfcvhcm, hgj,gu,]  https://food52.com/recipes/32281-test  \n",
       "1452659                        [test]  https://food52.com/recipes/77156-test  \n",
       "1453521                        [test]  https://food52.com/recipes/54987-test  \n",
       "1465618                        [test]  https://food52.com/recipes/77155-test  \n",
       "1466138                        [test]  https://food52.com/recipes/20978-test  \n",
       "1470427                  [test, test]  https://food52.com/recipes/27743-test  \n",
       "1470505  [just for testing purposes.]  https://food52.com/recipes/11621-test  \n",
       "1475231                           [1]  https://food52.com/recipes/33019-test  \n",
       "1477067                        [test]  https://food52.com/recipes/12927-test  "
      ]
     },
     "execution_count": 21,
     "metadata": {},
     "output_type": "execute_result"
    }
   ],
   "source": [
    "df.loc[df.title == 'test']"
   ]
  },
  {
   "cell_type": "code",
   "execution_count": 22,
   "metadata": {},
   "outputs": [],
   "source": [
    "# pandas\n",
    "df = df.drop(df.loc[df.title == 'test'].index)"
   ]
  },
  {
   "cell_type": "markdown",
   "metadata": {},
   "source": [
    "## Filter out recipes without instructions or ingredients"
   ]
  },
  {
   "cell_type": "code",
   "execution_count": 23,
   "metadata": {},
   "outputs": [],
   "source": [
    "df = df.loc[df.directions.map(len) > 0]\n",
    "df = df.loc[df.ingredients.map(len) > 0]"
   ]
  },
  {
   "cell_type": "markdown",
   "metadata": {},
   "source": [
    "## Dealing with single word instructions"
   ]
  },
  {
   "cell_type": "code",
   "execution_count": 24,
   "metadata": {},
   "outputs": [
    {
     "data": {
      "text/plain": [
       "['http://www.cookbooks.com/Recipe-Details.aspx?id=619430']"
      ]
     },
     "execution_count": 24,
     "metadata": {},
     "output_type": "execute_result"
    }
   ],
   "source": [
    "list(df[df.index == 0].link)"
   ]
  },
  {
   "cell_type": "raw",
   "metadata": {},
   "source": [
    "# example invalid recipe\n",
    "list(df[df.index == 0].directions)"
   ]
  },
  {
   "cell_type": "code",
   "execution_count": 25,
   "metadata": {},
   "outputs": [
    {
     "name": "stdout",
     "output_type": "stream",
     "text": [
      "Title:\t saucy shrimp casserole\n",
      "Ingredients:\t ['1/4  c. margarine', '1/4  c. flour', '2  c. milk', '1  tsp. salt', '1/2  tsp. Worcestershire sauce', 'dash of pepper', '8  oz. Cracker Barrel cheese, shredded', '6  hard boiled eggs', '1  lb. cooked shrimp']\n",
      "Dricetions:\t ['Make', 'cream', 'sauce', 'with', 'margarine, flour, milk, salt, Worcestershire', 'sauce', 'and\\tdash', 'of pepper.', 'Add cheese; stir until', 'melted.', 'Alternate', 'layers of hard boiled eggs (sliced) cooked', 'shrimp,', 'and', 'cheese', 'sauce', 'in 1 1/2 quart casserole. Bake 20 to 25 minutes at 350°.']\n",
      "Link:\t http://www.cookbooks.com/Recipe-Details.aspx?id=619430\n"
     ]
    }
   ],
   "source": [
    "print(\"Title:\\t\", df.iloc[0].title)\n",
    "print(\"Ingredients:\\t\", df.iloc[0].ingredients)\n",
    "print(\"Dricetions:\\t\", df.iloc[0].directions)\n",
    "print(\"Link:\\t\", df.iloc[0].link)"
   ]
  },
  {
   "cell_type": "code",
   "execution_count": 26,
   "metadata": {},
   "outputs": [],
   "source": [
    "def find_single_word_directions(directions: list):\n",
    "    total_spaces = 0\n",
    "    for d in directions:\n",
    "        total_spaces += d.count(' ')\n",
    "    if total_spaces/len(directions) > 2:\n",
    "        return False\n",
    "    return True\n",
    "    "
   ]
  },
  {
   "cell_type": "code",
   "execution_count": 27,
   "metadata": {},
   "outputs": [
    {
     "data": {
      "text/plain": [
       "True"
      ]
     },
     "execution_count": 27,
     "metadata": {},
     "output_type": "execute_result"
    }
   ],
   "source": [
    "find_single_word_directions(df[df.index == 0].directions)"
   ]
  },
  {
   "cell_type": "code",
   "execution_count": 28,
   "metadata": {},
   "outputs": [],
   "source": [
    "s = df.directions.map(find_single_word_directions).astype('bool')"
   ]
  },
  {
   "cell_type": "code",
   "execution_count": 29,
   "metadata": {},
   "outputs": [
    {
     "data": {
      "text/plain": [
       "26830"
      ]
     },
     "execution_count": 29,
     "metadata": {},
     "output_type": "execute_result"
    }
   ],
   "source": [
    "sum(list(s))"
   ]
  },
  {
   "cell_type": "markdown",
   "metadata": {},
   "source": [
    "If the function is right, there is less then 30k recipes with single word instructions. It will be easiest to drop them."
   ]
  },
  {
   "cell_type": "code",
   "execution_count": 30,
   "metadata": {},
   "outputs": [],
   "source": [
    "df = df.drop(df.loc[df.directions.map(find_single_word_directions)].index)"
   ]
  },
  {
   "cell_type": "markdown",
   "metadata": {},
   "source": [
    "## Apply title key"
   ]
  },
  {
   "cell_type": "code",
   "execution_count": 31,
   "metadata": {},
   "outputs": [
    {
     "data": {
      "text/plain": [
       "title          932691\n",
       "ingredients    932691\n",
       "directions     932691\n",
       "link           932691\n",
       "dtype: int64"
      ]
     },
     "execution_count": 31,
     "metadata": {},
     "output_type": "execute_result"
    }
   ],
   "source": [
    "df.loc[df.title.map(lambda x: x == x.lower())].count()"
   ]
  },
  {
   "cell_type": "code",
   "execution_count": 32,
   "metadata": {},
   "outputs": [],
   "source": [
    "df.title = df.title.map(lambda x: x.title())"
   ]
  },
  {
   "cell_type": "markdown",
   "metadata": {},
   "source": [
    "## Drop recipes with ambigious title"
   ]
  },
  {
   "cell_type": "code",
   "execution_count": 33,
   "metadata": {},
   "outputs": [
    {
     "data": {
      "text/html": [
       "<div>\n",
       "<style scoped>\n",
       "    .dataframe tbody tr th:only-of-type {\n",
       "        vertical-align: middle;\n",
       "    }\n",
       "\n",
       "    .dataframe tbody tr th {\n",
       "        vertical-align: top;\n",
       "    }\n",
       "\n",
       "    .dataframe thead th {\n",
       "        text-align: right;\n",
       "    }\n",
       "</style>\n",
       "<table border=\"1\" class=\"dataframe\">\n",
       "  <thead>\n",
       "    <tr style=\"text-align: right;\">\n",
       "      <th></th>\n",
       "      <th>title</th>\n",
       "      <th>ingredients</th>\n",
       "      <th>directions</th>\n",
       "      <th>link</th>\n",
       "    </tr>\n",
       "  </thead>\n",
       "  <tbody>\n",
       "    <tr>\n",
       "      <th>941614</th>\n",
       "      <td>2-2-2</td>\n",
       "      <td>[2  lb. stew beef cubes, 2  cans cream of mush...</td>\n",
       "      <td>[Mix all ingredients together in a crock-pot i...</td>\n",
       "      <td>http://www.cookbooks.com/Recipe-Details.aspx?i...</td>\n",
       "    </tr>\n",
       "    <tr>\n",
       "      <th>1092397</th>\n",
       "      <td>747</td>\n",
       "      <td>[1    ounce    vodka, 1    ounce    Rose's lim...</td>\n",
       "      <td>[Build in a highball glass.]</td>\n",
       "      <td>https://www.food.com/recipe/747-260750</td>\n",
       "    </tr>\n",
       "    <tr>\n",
       "      <th>1336448</th>\n",
       "      <td>泡芙酱/北海道酱</td>\n",
       "      <td>[10  Egg yolk, 200 g Sugar, 1000 g Milk, 50 g ...</td>\n",
       "      <td>[Heat milk, butter and half of the sugar till ...</td>\n",
       "      <td>https://www.epicurious.com/recipes/member/view...</td>\n",
       "    </tr>\n",
       "    <tr>\n",
       "      <th>1353919</th>\n",
       "      <td>فتة مصرية بالخل والثوم</td>\n",
       "      <td>[1 kg     , 2 loaves    , 1/2 kg , 1 head  , 6...</td>\n",
       "      <td>[      ,               ,            ,        ,...</td>\n",
       "      <td>https://www.epicurious.com/recipes/member/view...</td>\n",
       "    </tr>\n",
       "    <tr>\n",
       "      <th>1385616</th>\n",
       "      <td>آموزش ساخت ربات اینستاگرام</td>\n",
       "      <td>[5 2/3 cup]</td>\n",
       "      <td>[combine egg with water...., then put water in...</td>\n",
       "      <td>https://www.epicurious.com/recipes/member/view...</td>\n",
       "    </tr>\n",
       "    <tr>\n",
       "      <th>1390344</th>\n",
       "      <td></td>\n",
       "      <td>[Ingredients:,  2 teaspoons coconut oil,  1/2 ...</td>\n",
       "      <td>[Directions:, , 1. Heat oil in a medium sauce ...</td>\n",
       "      <td>https://www.epicurious.com/recipes/member/view...</td>\n",
       "    </tr>\n",
       "    <tr>\n",
       "      <th>1404938</th>\n",
       "      <td>龙水</td>\n",
       "      <td>[3 ounces Vodka (preferably citrus flavored), ...</td>\n",
       "      <td>[Combine ingredients in a glass, Serve over ice]</td>\n",
       "      <td>https://www.epicurious.com/recipes/member/view...</td>\n",
       "    </tr>\n",
       "    <tr>\n",
       "      <th>1415925</th>\n",
       "      <td>水果蛋糕</td>\n",
       "      <td>[(1)[url=http://www.wholesales-nike-shoes.com]...</td>\n",
       "      <td>[:[url=http://www.shopping-trends.com]cheap ni...</td>\n",
       "      <td>https://www.epicurious.com/recipes/member/view...</td>\n",
       "    </tr>\n",
       "    <tr>\n",
       "      <th>1417832</th>\n",
       "      <td>مسقعة قرنبيط</td>\n",
       "      <td>[1 bunch 1.  , 1 bunch 2. , 1 bunch 3. , 1 bun...</td>\n",
       "      <td>[1.   10   , 2.          , 3.    11  13     , ...</td>\n",
       "      <td>https://www.epicurious.com/recipes/member/view...</td>\n",
       "    </tr>\n",
       "    <tr>\n",
       "      <th>1424237</th>\n",
       "      <td></td>\n",
       "      <td>[Muslos de pollo con hueso, Sal, pimienta, tom...</td>\n",
       "      <td>[Se lava el pollo muy bien y se seca., En un s...</td>\n",
       "      <td>https://www.epicurious.com/recipes/member/view...</td>\n",
       "    </tr>\n",
       "    <tr>\n",
       "      <th>1453159</th>\n",
       "      <td>123</td>\n",
       "      <td>[10 teaspoons Etiam ligula eros, aliquam ut ul...</td>\n",
       "      <td>[Etiam ligula eros, aliquam ut ullamcorper qui...</td>\n",
       "      <td>https://food52.com/recipes/32175-123</td>\n",
       "    </tr>\n",
       "  </tbody>\n",
       "</table>\n",
       "</div>"
      ],
      "text/plain": [
       "                               title  \\\n",
       "941614                         2-2-2   \n",
       "1092397                          747   \n",
       "1336448                    泡芙酱/北海道酱    \n",
       "1353919      فتة مصرية بالخل والثوم    \n",
       "1385616  آموزش ساخت ربات اینستاگرام    \n",
       "1390344                                \n",
       "1404938                          龙水    \n",
       "1415925                        水果蛋糕    \n",
       "1417832                مسقعة قرنبيط    \n",
       "1424237                                \n",
       "1453159                          123   \n",
       "\n",
       "                                               ingredients  \\\n",
       "941614   [2  lb. stew beef cubes, 2  cans cream of mush...   \n",
       "1092397  [1    ounce    vodka, 1    ounce    Rose's lim...   \n",
       "1336448  [10  Egg yolk, 200 g Sugar, 1000 g Milk, 50 g ...   \n",
       "1353919  [1 kg     , 2 loaves    , 1/2 kg , 1 head  , 6...   \n",
       "1385616                                        [5 2/3 cup]   \n",
       "1390344  [Ingredients:,  2 teaspoons coconut oil,  1/2 ...   \n",
       "1404938  [3 ounces Vodka (preferably citrus flavored), ...   \n",
       "1415925  [(1)[url=http://www.wholesales-nike-shoes.com]...   \n",
       "1417832  [1 bunch 1.  , 1 bunch 2. , 1 bunch 3. , 1 bun...   \n",
       "1424237  [Muslos de pollo con hueso, Sal, pimienta, tom...   \n",
       "1453159  [10 teaspoons Etiam ligula eros, aliquam ut ul...   \n",
       "\n",
       "                                                directions  \\\n",
       "941614   [Mix all ingredients together in a crock-pot i...   \n",
       "1092397                       [Build in a highball glass.]   \n",
       "1336448  [Heat milk, butter and half of the sugar till ...   \n",
       "1353919  [      ,               ,            ,        ,...   \n",
       "1385616  [combine egg with water...., then put water in...   \n",
       "1390344  [Directions:, , 1. Heat oil in a medium sauce ...   \n",
       "1404938   [Combine ingredients in a glass, Serve over ice]   \n",
       "1415925  [:[url=http://www.shopping-trends.com]cheap ni...   \n",
       "1417832  [1.   10   , 2.          , 3.    11  13     , ...   \n",
       "1424237  [Se lava el pollo muy bien y se seca., En un s...   \n",
       "1453159  [Etiam ligula eros, aliquam ut ullamcorper qui...   \n",
       "\n",
       "                                                      link  \n",
       "941614   http://www.cookbooks.com/Recipe-Details.aspx?i...  \n",
       "1092397             https://www.food.com/recipe/747-260750  \n",
       "1336448  https://www.epicurious.com/recipes/member/view...  \n",
       "1353919  https://www.epicurious.com/recipes/member/view...  \n",
       "1385616  https://www.epicurious.com/recipes/member/view...  \n",
       "1390344  https://www.epicurious.com/recipes/member/view...  \n",
       "1404938  https://www.epicurious.com/recipes/member/view...  \n",
       "1415925  https://www.epicurious.com/recipes/member/view...  \n",
       "1417832  https://www.epicurious.com/recipes/member/view...  \n",
       "1424237  https://www.epicurious.com/recipes/member/view...  \n",
       "1453159               https://food52.com/recipes/32175-123  "
      ]
     },
     "execution_count": 33,
     "metadata": {},
     "output_type": "execute_result"
    }
   ],
   "source": [
    "df.loc[df.title.map(lambda x: x == x.lower())]"
   ]
  },
  {
   "cell_type": "code",
   "execution_count": 34,
   "metadata": {},
   "outputs": [],
   "source": [
    "df = df.loc[df.title.map(lambda x: x != x.lower())]"
   ]
  },
  {
   "cell_type": "markdown",
   "metadata": {},
   "source": [
    "# Remove extra spaces in middle text"
   ]
  },
  {
   "cell_type": "code",
   "execution_count": 35,
   "metadata": {},
   "outputs": [],
   "source": [
    "def inner_space_removal(input_list: list):\n",
    "    t = json.dumps(input_list)\n",
    "    t = t.replace('\\\\\\n', ' ')\n",
    "    t = t.replace('\\\\\\t', ' ')\n",
    "    while t.find('  ') >= 0:\n",
    "        t = t.replace('  ', ' ')\n",
    "    return json.loads(t)"
   ]
  },
  {
   "cell_type": "code",
   "execution_count": 36,
   "metadata": {},
   "outputs": [],
   "source": [
    "df.ingredients = df.ingredients.map(inner_space_removal)\n",
    "df.directions = df.directions.map(inner_space_removal)"
   ]
  },
  {
   "cell_type": "markdown",
   "metadata": {},
   "source": [
    "# Calculate statistics"
   ]
  },
  {
   "cell_type": "code",
   "execution_count": 37,
   "metadata": {},
   "outputs": [],
   "source": [
    "def get_domain(url: str) -> str:\n",
    "    w = url.split('//')[1]\n",
    "    return w.split('/')[0]\n",
    "\n",
    "assert get_domain('http://food.com/recipes') == 'food.com'"
   ]
  },
  {
   "cell_type": "code",
   "execution_count": 38,
   "metadata": {},
   "outputs": [],
   "source": [
    "source = df.link.map(get_domain)\n",
    "ingredients_count = df.ingredients.map(len)\n",
    "directions_count = df.directions.map(len)\n",
    "df.insert(4, 'source', source)\n",
    "df.insert(5, \"ingredients_count\", ingredients_count)\n",
    "df.insert(6, \"directions_count\", directions_count)"
   ]
  },
  {
   "cell_type": "code",
   "execution_count": 39,
   "metadata": {},
   "outputs": [
    {
     "data": {
      "text/html": [
       "<div>\n",
       "<style scoped>\n",
       "    .dataframe tbody tr th:only-of-type {\n",
       "        vertical-align: middle;\n",
       "    }\n",
       "\n",
       "    .dataframe tbody tr th {\n",
       "        vertical-align: top;\n",
       "    }\n",
       "\n",
       "    .dataframe thead tr th {\n",
       "        text-align: left;\n",
       "    }\n",
       "\n",
       "    .dataframe thead tr:last-of-type th {\n",
       "        text-align: right;\n",
       "    }\n",
       "</style>\n",
       "<table border=\"1\" class=\"dataframe\">\n",
       "  <thead>\n",
       "    <tr>\n",
       "      <th></th>\n",
       "      <th>title</th>\n",
       "      <th colspan=\"3\" halign=\"left\">ingredients_count</th>\n",
       "      <th colspan=\"3\" halign=\"left\">directions_count</th>\n",
       "    </tr>\n",
       "    <tr>\n",
       "      <th></th>\n",
       "      <th>count</th>\n",
       "      <th>min</th>\n",
       "      <th>mean</th>\n",
       "      <th>max</th>\n",
       "      <th>min</th>\n",
       "      <th>mean</th>\n",
       "      <th>max</th>\n",
       "    </tr>\n",
       "    <tr>\n",
       "      <th>source</th>\n",
       "      <th></th>\n",
       "      <th></th>\n",
       "      <th></th>\n",
       "      <th></th>\n",
       "      <th></th>\n",
       "      <th></th>\n",
       "      <th></th>\n",
       "    </tr>\n",
       "  </thead>\n",
       "  <tbody>\n",
       "    <tr>\n",
       "      <th>food52.com</th>\n",
       "      <td>49354</td>\n",
       "      <td>1</td>\n",
       "      <td>11.087673</td>\n",
       "      <td>49</td>\n",
       "      <td>1</td>\n",
       "      <td>5.664100</td>\n",
       "      <td>55</td>\n",
       "    </tr>\n",
       "    <tr>\n",
       "      <th>recipes-plus.com</th>\n",
       "      <td>20567</td>\n",
       "      <td>1</td>\n",
       "      <td>10.001605</td>\n",
       "      <td>48</td>\n",
       "      <td>1</td>\n",
       "      <td>3.453785</td>\n",
       "      <td>12</td>\n",
       "    </tr>\n",
       "    <tr>\n",
       "      <th>tastykitchen.com</th>\n",
       "      <td>51331</td>\n",
       "      <td>1</td>\n",
       "      <td>10.122265</td>\n",
       "      <td>45</td>\n",
       "      <td>1</td>\n",
       "      <td>5.422454</td>\n",
       "      <td>48</td>\n",
       "    </tr>\n",
       "    <tr>\n",
       "      <th>www.allrecipes.com</th>\n",
       "      <td>62021</td>\n",
       "      <td>1</td>\n",
       "      <td>9.277841</td>\n",
       "      <td>52</td>\n",
       "      <td>1</td>\n",
       "      <td>3.406411</td>\n",
       "      <td>27</td>\n",
       "    </tr>\n",
       "    <tr>\n",
       "      <th>www.cookbooks.com</th>\n",
       "      <td>931071</td>\n",
       "      <td>1</td>\n",
       "      <td>7.485713</td>\n",
       "      <td>407</td>\n",
       "      <td>1</td>\n",
       "      <td>5.066922</td>\n",
       "      <td>71</td>\n",
       "    </tr>\n",
       "    <tr>\n",
       "      <th>www.epicurious.com</th>\n",
       "      <td>102193</td>\n",
       "      <td>1</td>\n",
       "      <td>10.019855</td>\n",
       "      <td>82</td>\n",
       "      <td>1</td>\n",
       "      <td>5.787637</td>\n",
       "      <td>89</td>\n",
       "    </tr>\n",
       "    <tr>\n",
       "      <th>www.food.com</th>\n",
       "      <td>294735</td>\n",
       "      <td>1</td>\n",
       "      <td>9.713163</td>\n",
       "      <td>50</td>\n",
       "      <td>1</td>\n",
       "      <td>6.901040</td>\n",
       "      <td>107</td>\n",
       "    </tr>\n",
       "    <tr>\n",
       "      <th>www.myrecipes.com</th>\n",
       "      <td>69736</td>\n",
       "      <td>1</td>\n",
       "      <td>9.591947</td>\n",
       "      <td>44</td>\n",
       "      <td>1</td>\n",
       "      <td>3.470044</td>\n",
       "      <td>42</td>\n",
       "    </tr>\n",
       "    <tr>\n",
       "      <th>www.seriouseats.com</th>\n",
       "      <td>26674</td>\n",
       "      <td>1</td>\n",
       "      <td>10.435368</td>\n",
       "      <td>49</td>\n",
       "      <td>1</td>\n",
       "      <td>4.556609</td>\n",
       "      <td>40</td>\n",
       "    </tr>\n",
       "    <tr>\n",
       "      <th>www.tasteofhome.com</th>\n",
       "      <td>54435</td>\n",
       "      <td>1</td>\n",
       "      <td>10.008524</td>\n",
       "      <td>36</td>\n",
       "      <td>1</td>\n",
       "      <td>2.712850</td>\n",
       "      <td>34</td>\n",
       "    </tr>\n",
       "    <tr>\n",
       "      <th>www.yummly.com</th>\n",
       "      <td>65529</td>\n",
       "      <td>1</td>\n",
       "      <td>9.516870</td>\n",
       "      <td>62</td>\n",
       "      <td>1</td>\n",
       "      <td>4.966976</td>\n",
       "      <td>56</td>\n",
       "    </tr>\n",
       "  </tbody>\n",
       "</table>\n",
       "</div>"
      ],
      "text/plain": [
       "                      title ingredients_count                  \\\n",
       "                      count               min       mean  max   \n",
       "source                                                          \n",
       "food52.com            49354                 1  11.087673   49   \n",
       "recipes-plus.com      20567                 1  10.001605   48   \n",
       "tastykitchen.com      51331                 1  10.122265   45   \n",
       "www.allrecipes.com    62021                 1   9.277841   52   \n",
       "www.cookbooks.com    931071                 1   7.485713  407   \n",
       "www.epicurious.com   102193                 1  10.019855   82   \n",
       "www.food.com         294735                 1   9.713163   50   \n",
       "www.myrecipes.com     69736                 1   9.591947   44   \n",
       "www.seriouseats.com   26674                 1  10.435368   49   \n",
       "www.tasteofhome.com   54435                 1  10.008524   36   \n",
       "www.yummly.com        65529                 1   9.516870   62   \n",
       "\n",
       "                    directions_count                 \n",
       "                                 min      mean  max  \n",
       "source                                               \n",
       "food52.com                         1  5.664100   55  \n",
       "recipes-plus.com                   1  3.453785   12  \n",
       "tastykitchen.com                   1  5.422454   48  \n",
       "www.allrecipes.com                 1  3.406411   27  \n",
       "www.cookbooks.com                  1  5.066922   71  \n",
       "www.epicurious.com                 1  5.787637   89  \n",
       "www.food.com                       1  6.901040  107  \n",
       "www.myrecipes.com                  1  3.470044   42  \n",
       "www.seriouseats.com                1  4.556609   40  \n",
       "www.tasteofhome.com                1  2.712850   34  \n",
       "www.yummly.com                     1  4.966976   56  "
      ]
     },
     "execution_count": 39,
     "metadata": {},
     "output_type": "execute_result"
    }
   ],
   "source": [
    "df.groupby([\"source\"]).agg({\n",
    "    'title': 'count',\n",
    "    'ingredients_count': ['min', 'mean', 'max'],\n",
    "    'directions_count': ['min', 'mean', 'max']\n",
    "})"
   ]
  },
  {
   "cell_type": "code",
   "execution_count": 40,
   "metadata": {},
   "outputs": [
    {
     "data": {
      "text/html": [
       "<div>\n",
       "<style scoped>\n",
       "    .dataframe tbody tr th:only-of-type {\n",
       "        vertical-align: middle;\n",
       "    }\n",
       "\n",
       "    .dataframe tbody tr th {\n",
       "        vertical-align: top;\n",
       "    }\n",
       "\n",
       "    .dataframe thead th {\n",
       "        text-align: right;\n",
       "    }\n",
       "</style>\n",
       "<table border=\"1\" class=\"dataframe\">\n",
       "  <thead>\n",
       "    <tr style=\"text-align: right;\">\n",
       "      <th></th>\n",
       "      <th>title</th>\n",
       "      <th>ingredients_count</th>\n",
       "      <th>directions_count</th>\n",
       "    </tr>\n",
       "  </thead>\n",
       "  <tbody>\n",
       "    <tr>\n",
       "      <th>count</th>\n",
       "      <td>1727646.0</td>\n",
       "      <td>NaN</td>\n",
       "      <td>NaN</td>\n",
       "    </tr>\n",
       "    <tr>\n",
       "      <th>max</th>\n",
       "      <td>NaN</td>\n",
       "      <td>407.000000</td>\n",
       "      <td>107.000000</td>\n",
       "    </tr>\n",
       "    <tr>\n",
       "      <th>mean</th>\n",
       "      <td>NaN</td>\n",
       "      <td>8.578222</td>\n",
       "      <td>5.220961</td>\n",
       "    </tr>\n",
       "    <tr>\n",
       "      <th>min</th>\n",
       "      <td>NaN</td>\n",
       "      <td>1.000000</td>\n",
       "      <td>1.000000</td>\n",
       "    </tr>\n",
       "  </tbody>\n",
       "</table>\n",
       "</div>"
      ],
      "text/plain": [
       "           title  ingredients_count  directions_count\n",
       "count  1727646.0                NaN               NaN\n",
       "max          NaN         407.000000        107.000000\n",
       "mean         NaN           8.578222          5.220961\n",
       "min          NaN           1.000000          1.000000"
      ]
     },
     "execution_count": 40,
     "metadata": {},
     "output_type": "execute_result"
    }
   ],
   "source": [
    "df.agg({\n",
    "    'title': 'count',\n",
    "    'ingredients_count': ['min', 'mean', 'max'],\n",
    "    'directions_count': ['min', 'mean', 'max']\n",
    "})"
   ]
  },
  {
   "cell_type": "raw",
   "metadata": {},
   "source": [
    "df.loc[df.directions_count == 107].directions.iloc[0]"
   ]
  },
  {
   "cell_type": "raw",
   "metadata": {},
   "source": [
    "df.loc[df.directions_count == 107].link.iloc[0]"
   ]
  },
  {
   "cell_type": "code",
   "execution_count": 41,
   "metadata": {},
   "outputs": [
    {
     "data": {
      "text/plain": [
       "Index(['title', 'ingredients', 'directions', 'link'], dtype='object')"
      ]
     },
     "execution_count": 41,
     "metadata": {},
     "output_type": "execute_result"
    }
   ],
   "source": [
    "df = df.drop(columns = ['source', 'ingredients_count', 'directions_count'])\n",
    "df.columns"
   ]
  },
  {
   "cell_type": "markdown",
   "metadata": {},
   "source": [
    "# Store tuned dataset"
   ]
  },
  {
   "cell_type": "code",
   "execution_count": 42,
   "metadata": {},
   "outputs": [],
   "source": [
    "df.to_json('0-datasets/v-' + new_version + '-single.json')"
   ]
  },
  {
   "cell_type": "code",
   "execution_count": 43,
   "metadata": {},
   "outputs": [],
   "source": [
    "df.ingredients = df.ingredients.map(json.dumps)\n",
    "df.directions = df.directions.map(json.dumps)"
   ]
  },
  {
   "cell_type": "code",
   "execution_count": 44,
   "metadata": {},
   "outputs": [],
   "source": [
    "df.to_csv('0-datasets/v-' + new_version + '-single.csv', index=False)"
   ]
  },
  {
   "cell_type": "raw",
   "metadata": {},
   "source": [
    "dd.from_pandas(df, npartitions=20).to_csv('0-datasets/v' + new_version + '/dataset-*.csv', index=False)"
   ]
  }
 ],
 "metadata": {
  "kernelspec": {
   "display_name": "Python 3",
   "language": "python",
   "name": "python3"
  },
  "language_info": {
   "codemirror_mode": {
    "name": "ipython",
    "version": 3
   },
   "file_extension": ".py",
   "mimetype": "text/x-python",
   "name": "python",
   "nbconvert_exporter": "python",
   "pygments_lexer": "ipython3",
   "version": "3.7.7"
  }
 },
 "nbformat": 4,
 "nbformat_minor": 4
}
