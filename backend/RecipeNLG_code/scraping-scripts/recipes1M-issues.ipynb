{
 "cells": [
  {
   "cell_type": "code",
   "execution_count": 1,
   "metadata": {},
   "outputs": [],
   "source": [
    "import pandas as pd\n",
    "import json\n",
    "import tikzplotlib"
   ]
  },
  {
   "cell_type": "code",
   "execution_count": 2,
   "metadata": {},
   "outputs": [
    {
     "data": {
      "text/html": [
       "<div>\n",
       "<style scoped>\n",
       "    .dataframe tbody tr th:only-of-type {\n",
       "        vertical-align: middle;\n",
       "    }\n",
       "\n",
       "    .dataframe tbody tr th {\n",
       "        vertical-align: top;\n",
       "    }\n",
       "\n",
       "    .dataframe thead th {\n",
       "        text-align: right;\n",
       "    }\n",
       "</style>\n",
       "<table border=\"1\" class=\"dataframe\">\n",
       "  <thead>\n",
       "    <tr style=\"text-align: right;\">\n",
       "      <th></th>\n",
       "      <th>title</th>\n",
       "      <th>ingredients</th>\n",
       "      <th>directions</th>\n",
       "      <th>link</th>\n",
       "      <th>source</th>\n",
       "    </tr>\n",
       "  </thead>\n",
       "  <tbody>\n",
       "    <tr>\n",
       "      <th>0</th>\n",
       "      <td>Kale Carrot And Apple Calcium Booster Juice Fo...</td>\n",
       "      <td>[2 kale leaves, 2 celery ribs, 1/3 cup parsley...</td>\n",
       "      <td>[Wash and cut each vegetable and feed through ...</td>\n",
       "      <td>www.food.com/recipe/kale-carrot-and-apple-calc...</td>\n",
       "      <td>Gathered</td>\n",
       "    </tr>\n",
       "    <tr>\n",
       "      <th>1</th>\n",
       "      <td>Chocolade Pudding - Chocolate Pudding</td>\n",
       "      <td>[1 cup milk, 1 ounce chocolate, 1/2 cup sugar,...</td>\n",
       "      <td>[Heat milk with chocolate in the top of a doub...</td>\n",
       "      <td>www.food.com/recipe/chocolade-pudding-chocolat...</td>\n",
       "      <td>Gathered</td>\n",
       "    </tr>\n",
       "    <tr>\n",
       "      <th>2</th>\n",
       "      <td>Haluski</td>\n",
       "      <td>[1 cabbage, green, core removed and leaves sep...</td>\n",
       "      <td>[Bring a large pot of water to a boil. Add the...</td>\n",
       "      <td>www.food.com/recipe/haluski-407129</td>\n",
       "      <td>Gathered</td>\n",
       "    </tr>\n",
       "    <tr>\n",
       "      <th>3</th>\n",
       "      <td>Cajun Style White Bean Soup</td>\n",
       "      <td>[8 ounces great northern beans, water, to cove...</td>\n",
       "      <td>[Put rinsed beans, in a 4 quart dutch oven and...</td>\n",
       "      <td>www.food.com/recipe/cajun-style-white-bean-sou...</td>\n",
       "      <td>Gathered</td>\n",
       "    </tr>\n",
       "    <tr>\n",
       "      <th>4</th>\n",
       "      <td>Toddler Tamer Tea</td>\n",
       "      <td>[1 chamomile tea bag, 2 tablespoons honey, 4 o...</td>\n",
       "      <td>[Place the tea bag in a microwave safe cup., C...</td>\n",
       "      <td>www.food.com/recipe/toddler-tamer-tea-188781</td>\n",
       "      <td>Gathered</td>\n",
       "    </tr>\n",
       "  </tbody>\n",
       "</table>\n",
       "</div>"
      ],
      "text/plain": [
       "                                               title  \\\n",
       "0  Kale Carrot And Apple Calcium Booster Juice Fo...   \n",
       "1              Chocolade Pudding - Chocolate Pudding   \n",
       "2                                            Haluski   \n",
       "3                        Cajun Style White Bean Soup   \n",
       "4                                  Toddler Tamer Tea   \n",
       "\n",
       "                                         ingredients  \\\n",
       "0  [2 kale leaves, 2 celery ribs, 1/3 cup parsley...   \n",
       "1  [1 cup milk, 1 ounce chocolate, 1/2 cup sugar,...   \n",
       "2  [1 cabbage, green, core removed and leaves sep...   \n",
       "3  [8 ounces great northern beans, water, to cove...   \n",
       "4  [1 chamomile tea bag, 2 tablespoons honey, 4 o...   \n",
       "\n",
       "                                          directions  \\\n",
       "0  [Wash and cut each vegetable and feed through ...   \n",
       "1  [Heat milk with chocolate in the top of a doub...   \n",
       "2  [Bring a large pot of water to a boil. Add the...   \n",
       "3  [Put rinsed beans, in a 4 quart dutch oven and...   \n",
       "4  [Place the tea bag in a microwave safe cup., C...   \n",
       "\n",
       "                                                link    source  \n",
       "0  www.food.com/recipe/kale-carrot-and-apple-calc...  Gathered  \n",
       "1  www.food.com/recipe/chocolade-pudding-chocolat...  Gathered  \n",
       "2                 www.food.com/recipe/haluski-407129  Gathered  \n",
       "3  www.food.com/recipe/cajun-style-white-bean-sou...  Gathered  \n",
       "4       www.food.com/recipe/toddler-tamer-tea-188781  Gathered  "
      ]
     },
     "execution_count": 2,
     "metadata": {},
     "output_type": "execute_result"
    }
   ],
   "source": [
    "df = pd.read_csv('train-positive-pairs.csv')\n",
    "df.ingredients = df.ingredients.map(json.loads)\n",
    "df.directions = df.directions.map(json.loads)\n",
    "df.head()"
   ]
  },
  {
   "cell_type": "code",
   "execution_count": 3,
   "metadata": {},
   "outputs": [
    {
     "data": {
      "text/plain": [
       "['2/13', '1/2', '1/12']"
      ]
     },
     "execution_count": 3,
     "metadata": {},
     "output_type": "execute_result"
    }
   ],
   "source": [
    "import re\n",
    "pattern = re.compile('[0-9]{1}/[0-9]{1,2}')\n",
    "pattern.findall('12/13 + 1/2 + 1/123')"
   ]
  },
  {
   "cell_type": "code",
   "execution_count": 4,
   "metadata": {},
   "outputs": [],
   "source": [
    "def number_of_fractions_in_line(arg: list) -> int:\n",
    "    s = ' '.join(arg)\n",
    "    p = re.compile('[0-9]{1}/[0-9]{1,2}')\n",
    "    return len(p.findall(s))"
   ]
  },
  {
   "cell_type": "code",
   "execution_count": 5,
   "metadata": {},
   "outputs": [],
   "source": [
    "df.insert(len(df.columns), 'directions_count', df.directions.map(len))\n",
    "df.insert(len(df.columns), 'fractions_count', df.ingredients.map(number_of_fractions_in_line))"
   ]
  },
  {
   "cell_type": "code",
   "execution_count": 6,
   "metadata": {},
   "outputs": [],
   "source": [
    "gathered = df.loc[df.source == 'Gathered']\n",
    "rec1M = df.loc[df.source == 'Recipes1M']\n",
    "assert gathered.shape == rec1M.shape"
   ]
  },
  {
   "cell_type": "markdown",
   "metadata": {},
   "source": [
    "# Number of directions"
   ]
  },
  {
   "cell_type": "code",
   "execution_count": 7,
   "metadata": {},
   "outputs": [
    {
     "data": {
      "text/html": [
       "<div>\n",
       "<style scoped>\n",
       "    .dataframe tbody tr th:only-of-type {\n",
       "        vertical-align: middle;\n",
       "    }\n",
       "\n",
       "    .dataframe tbody tr th {\n",
       "        vertical-align: top;\n",
       "    }\n",
       "\n",
       "    .dataframe thead th {\n",
       "        text-align: right;\n",
       "    }\n",
       "</style>\n",
       "<table border=\"1\" class=\"dataframe\">\n",
       "  <thead>\n",
       "    <tr style=\"text-align: right;\">\n",
       "      <th></th>\n",
       "      <th>title_gathered</th>\n",
       "      <th>ingredients_gathered</th>\n",
       "      <th>directions_gathered</th>\n",
       "      <th>link</th>\n",
       "      <th>directions_count_gathered</th>\n",
       "      <th>fractions_count_gathered</th>\n",
       "      <th>title_rec1M</th>\n",
       "      <th>ingredients_rec1M</th>\n",
       "      <th>directions_rec1M</th>\n",
       "      <th>directions_count_rec1M</th>\n",
       "      <th>fractions_count_rec1M</th>\n",
       "    </tr>\n",
       "  </thead>\n",
       "  <tbody>\n",
       "    <tr>\n",
       "      <th>0</th>\n",
       "      <td>Kale Carrot And Apple Calcium Booster Juice Fo...</td>\n",
       "      <td>[2 kale leaves, 2 celery ribs, 1/3 cup parsley...</td>\n",
       "      <td>[Wash and cut each vegetable and feed through ...</td>\n",
       "      <td>www.food.com/recipe/kale-carrot-and-apple-calc...</td>\n",
       "      <td>1</td>\n",
       "      <td>1</td>\n",
       "      <td>Kale Carrot and Apple Calcium Booster Juice fo...</td>\n",
       "      <td>[2 kale leaves, 2 celery ribs, 13 cup parsley,...</td>\n",
       "      <td>[Wash and cut each vegetable and feed through ...</td>\n",
       "      <td>1</td>\n",
       "      <td>0</td>\n",
       "    </tr>\n",
       "    <tr>\n",
       "      <th>1</th>\n",
       "      <td>Chocolade Pudding - Chocolate Pudding</td>\n",
       "      <td>[1 cup milk, 1 ounce chocolate, 1/2 cup sugar,...</td>\n",
       "      <td>[Heat milk with chocolate in the top of a doub...</td>\n",
       "      <td>www.food.com/recipe/chocolade-pudding-chocolat...</td>\n",
       "      <td>5</td>\n",
       "      <td>3</td>\n",
       "      <td>Chocolade Pudding - Chocolate Pudding</td>\n",
       "      <td>[1 cup milk, 1 ounce chocolate, 12 cup sugar, ...</td>\n",
       "      <td>[Heat milk with chocolate in the top of a doub...</td>\n",
       "      <td>5</td>\n",
       "      <td>0</td>\n",
       "    </tr>\n",
       "    <tr>\n",
       "      <th>2</th>\n",
       "      <td>Haluski</td>\n",
       "      <td>[1 cabbage, green, core removed and leaves sep...</td>\n",
       "      <td>[Bring a large pot of water to a boil. Add the...</td>\n",
       "      <td>www.food.com/recipe/haluski-407129</td>\n",
       "      <td>3</td>\n",
       "      <td>1</td>\n",
       "      <td>Haluski</td>\n",
       "      <td>[1 cabbage, green, core removed and leaves sep...</td>\n",
       "      <td>[Bring a large pot of water to a boil., Add th...</td>\n",
       "      <td>8</td>\n",
       "      <td>0</td>\n",
       "    </tr>\n",
       "    <tr>\n",
       "      <th>3</th>\n",
       "      <td>Cajun Style White Bean Soup</td>\n",
       "      <td>[8 ounces great northern beans, water, to cove...</td>\n",
       "      <td>[Put rinsed beans, in a 4 quart dutch oven and...</td>\n",
       "      <td>www.food.com/recipe/cajun-style-white-bean-sou...</td>\n",
       "      <td>3</td>\n",
       "      <td>5</td>\n",
       "      <td>Cajun Style White Bean Soup</td>\n",
       "      <td>[8 ounces great northern beans, water, to cove...</td>\n",
       "      <td>[Put rinsed beans, in a 4 quart dutch oven and...</td>\n",
       "      <td>8</td>\n",
       "      <td>0</td>\n",
       "    </tr>\n",
       "    <tr>\n",
       "      <th>4</th>\n",
       "      <td>Toddler Tamer Tea</td>\n",
       "      <td>[1 chamomile tea bag, 2 tablespoons honey, 4 o...</td>\n",
       "      <td>[Place the tea bag in a microwave safe cup., C...</td>\n",
       "      <td>www.food.com/recipe/toddler-tamer-tea-188781</td>\n",
       "      <td>8</td>\n",
       "      <td>0</td>\n",
       "      <td>Toddler Tamer Tea</td>\n",
       "      <td>[1 chamomile tea bag, 2 tablespoons honey, 4 o...</td>\n",
       "      <td>[Place the tea bag in a microwave safe cup., C...</td>\n",
       "      <td>8</td>\n",
       "      <td>0</td>\n",
       "    </tr>\n",
       "  </tbody>\n",
       "</table>\n",
       "</div>"
      ],
      "text/plain": [
       "                                      title_gathered  \\\n",
       "0  Kale Carrot And Apple Calcium Booster Juice Fo...   \n",
       "1              Chocolade Pudding - Chocolate Pudding   \n",
       "2                                            Haluski   \n",
       "3                        Cajun Style White Bean Soup   \n",
       "4                                  Toddler Tamer Tea   \n",
       "\n",
       "                                ingredients_gathered  \\\n",
       "0  [2 kale leaves, 2 celery ribs, 1/3 cup parsley...   \n",
       "1  [1 cup milk, 1 ounce chocolate, 1/2 cup sugar,...   \n",
       "2  [1 cabbage, green, core removed and leaves sep...   \n",
       "3  [8 ounces great northern beans, water, to cove...   \n",
       "4  [1 chamomile tea bag, 2 tablespoons honey, 4 o...   \n",
       "\n",
       "                                 directions_gathered  \\\n",
       "0  [Wash and cut each vegetable and feed through ...   \n",
       "1  [Heat milk with chocolate in the top of a doub...   \n",
       "2  [Bring a large pot of water to a boil. Add the...   \n",
       "3  [Put rinsed beans, in a 4 quart dutch oven and...   \n",
       "4  [Place the tea bag in a microwave safe cup., C...   \n",
       "\n",
       "                                                link  \\\n",
       "0  www.food.com/recipe/kale-carrot-and-apple-calc...   \n",
       "1  www.food.com/recipe/chocolade-pudding-chocolat...   \n",
       "2                 www.food.com/recipe/haluski-407129   \n",
       "3  www.food.com/recipe/cajun-style-white-bean-sou...   \n",
       "4       www.food.com/recipe/toddler-tamer-tea-188781   \n",
       "\n",
       "   directions_count_gathered  fractions_count_gathered  \\\n",
       "0                          1                         1   \n",
       "1                          5                         3   \n",
       "2                          3                         1   \n",
       "3                          3                         5   \n",
       "4                          8                         0   \n",
       "\n",
       "                                         title_rec1M  \\\n",
       "0  Kale Carrot and Apple Calcium Booster Juice fo...   \n",
       "1              Chocolade Pudding - Chocolate Pudding   \n",
       "2                                            Haluski   \n",
       "3                        Cajun Style White Bean Soup   \n",
       "4                                  Toddler Tamer Tea   \n",
       "\n",
       "                                   ingredients_rec1M  \\\n",
       "0  [2 kale leaves, 2 celery ribs, 13 cup parsley,...   \n",
       "1  [1 cup milk, 1 ounce chocolate, 12 cup sugar, ...   \n",
       "2  [1 cabbage, green, core removed and leaves sep...   \n",
       "3  [8 ounces great northern beans, water, to cove...   \n",
       "4  [1 chamomile tea bag, 2 tablespoons honey, 4 o...   \n",
       "\n",
       "                                    directions_rec1M  directions_count_rec1M  \\\n",
       "0  [Wash and cut each vegetable and feed through ...                       1   \n",
       "1  [Heat milk with chocolate in the top of a doub...                       5   \n",
       "2  [Bring a large pot of water to a boil., Add th...                       8   \n",
       "3  [Put rinsed beans, in a 4 quart dutch oven and...                       8   \n",
       "4  [Place the tea bag in a microwave safe cup., C...                       8   \n",
       "\n",
       "   fractions_count_rec1M  \n",
       "0                      0  \n",
       "1                      0  \n",
       "2                      0  \n",
       "3                      0  \n",
       "4                      0  "
      ]
     },
     "execution_count": 7,
     "metadata": {},
     "output_type": "execute_result"
    }
   ],
   "source": [
    "test = gathered.join(rec1M.set_index('link'), on='link', lsuffix='_gathered', rsuffix='_rec1M')\n",
    "test = test.drop(columns=['source_gathered', 'source_rec1M'])\n",
    "test.head()"
   ]
  },
  {
   "cell_type": "code",
   "execution_count": 8,
   "metadata": {},
   "outputs": [
    {
     "data": {
      "text/html": [
       "<div>\n",
       "<style scoped>\n",
       "    .dataframe tbody tr th:only-of-type {\n",
       "        vertical-align: middle;\n",
       "    }\n",
       "\n",
       "    .dataframe tbody tr th {\n",
       "        vertical-align: top;\n",
       "    }\n",
       "\n",
       "    .dataframe thead th {\n",
       "        text-align: right;\n",
       "    }\n",
       "</style>\n",
       "<table border=\"1\" class=\"dataframe\">\n",
       "  <thead>\n",
       "    <tr style=\"text-align: right;\">\n",
       "      <th></th>\n",
       "      <th>title_gathered</th>\n",
       "      <th>ingredients_gathered</th>\n",
       "      <th>directions_gathered</th>\n",
       "      <th>link</th>\n",
       "      <th>directions_count_gathered</th>\n",
       "      <th>fractions_count_gathered</th>\n",
       "      <th>title_rec1M</th>\n",
       "      <th>ingredients_rec1M</th>\n",
       "      <th>directions_rec1M</th>\n",
       "      <th>directions_count_rec1M</th>\n",
       "      <th>fractions_count_rec1M</th>\n",
       "    </tr>\n",
       "  </thead>\n",
       "  <tbody>\n",
       "    <tr>\n",
       "      <th>2</th>\n",
       "      <td>Haluski</td>\n",
       "      <td>[1 cabbage, green, core removed and leaves sep...</td>\n",
       "      <td>[Bring a large pot of water to a boil. Add the...</td>\n",
       "      <td>www.food.com/recipe/haluski-407129</td>\n",
       "      <td>3</td>\n",
       "      <td>1</td>\n",
       "      <td>Haluski</td>\n",
       "      <td>[1 cabbage, green, core removed and leaves sep...</td>\n",
       "      <td>[Bring a large pot of water to a boil., Add th...</td>\n",
       "      <td>8</td>\n",
       "      <td>0</td>\n",
       "    </tr>\n",
       "    <tr>\n",
       "      <th>3</th>\n",
       "      <td>Cajun Style White Bean Soup</td>\n",
       "      <td>[8 ounces great northern beans, water, to cove...</td>\n",
       "      <td>[Put rinsed beans, in a 4 quart dutch oven and...</td>\n",
       "      <td>www.food.com/recipe/cajun-style-white-bean-sou...</td>\n",
       "      <td>3</td>\n",
       "      <td>5</td>\n",
       "      <td>Cajun Style White Bean Soup</td>\n",
       "      <td>[8 ounces great northern beans, water, to cove...</td>\n",
       "      <td>[Put rinsed beans, in a 4 quart dutch oven and...</td>\n",
       "      <td>8</td>\n",
       "      <td>0</td>\n",
       "    </tr>\n",
       "    <tr>\n",
       "      <th>7</th>\n",
       "      <td>Risotto Coi Frutti Di Mare (Risotto With Seafood)</td>\n",
       "      <td>[1 lb small squid, cleaned and chopped into 1/...</td>\n",
       "      <td>[Separate the cleaned shrimp in two equal port...</td>\n",
       "      <td>www.food.com/recipe/risotto-coi-frutti-di-mare...</td>\n",
       "      <td>13</td>\n",
       "      <td>5</td>\n",
       "      <td>Risotto Coi Frutti Di Mare (Risotto With Seafood)</td>\n",
       "      <td>[1 lb small squid, cleaned and chopped into 1/...</td>\n",
       "      <td>[Separate the cleaned shrimp in two equal port...</td>\n",
       "      <td>29</td>\n",
       "      <td>1</td>\n",
       "    </tr>\n",
       "    <tr>\n",
       "      <th>8</th>\n",
       "      <td>Spinach With Sesame And Miso</td>\n",
       "      <td>[2 1/2 tablespoons sesame seeds, 2 tablespoons...</td>\n",
       "      <td>[Heat a wok or frying pan and add the sesame s...</td>\n",
       "      <td>www.food.com/recipe/spinach-with-sesame-and-mi...</td>\n",
       "      <td>10</td>\n",
       "      <td>3</td>\n",
       "      <td>Spinach With Sesame and Miso</td>\n",
       "      <td>[2 12 tablespoons sesame seeds, 2 tablespoons ...</td>\n",
       "      <td>[Heat a wok or frying pan and add the sesame s...</td>\n",
       "      <td>11</td>\n",
       "      <td>0</td>\n",
       "    </tr>\n",
       "    <tr>\n",
       "      <th>9</th>\n",
       "      <td>Easy Raw Chocolate Bark</td>\n",
       "      <td>[2 tablespoons raw organic coconut oil (soften...</td>\n",
       "      <td>[Well combine all ingredients., Taste mixture ...</td>\n",
       "      <td>www.food.com/recipe/easy-raw-chocolate-bark-49...</td>\n",
       "      <td>6</td>\n",
       "      <td>1</td>\n",
       "      <td>Easy Raw Chocolate Bark</td>\n",
       "      <td>[2 tablespoons raw organic coconut oil (soften...</td>\n",
       "      <td>[Well combine all ingredients., Taste mixture ...</td>\n",
       "      <td>7</td>\n",
       "      <td>0</td>\n",
       "    </tr>\n",
       "  </tbody>\n",
       "</table>\n",
       "</div>"
      ],
      "text/plain": [
       "                                      title_gathered  \\\n",
       "2                                            Haluski   \n",
       "3                        Cajun Style White Bean Soup   \n",
       "7  Risotto Coi Frutti Di Mare (Risotto With Seafood)   \n",
       "8                       Spinach With Sesame And Miso   \n",
       "9                            Easy Raw Chocolate Bark   \n",
       "\n",
       "                                ingredients_gathered  \\\n",
       "2  [1 cabbage, green, core removed and leaves sep...   \n",
       "3  [8 ounces great northern beans, water, to cove...   \n",
       "7  [1 lb small squid, cleaned and chopped into 1/...   \n",
       "8  [2 1/2 tablespoons sesame seeds, 2 tablespoons...   \n",
       "9  [2 tablespoons raw organic coconut oil (soften...   \n",
       "\n",
       "                                 directions_gathered  \\\n",
       "2  [Bring a large pot of water to a boil. Add the...   \n",
       "3  [Put rinsed beans, in a 4 quart dutch oven and...   \n",
       "7  [Separate the cleaned shrimp in two equal port...   \n",
       "8  [Heat a wok or frying pan and add the sesame s...   \n",
       "9  [Well combine all ingredients., Taste mixture ...   \n",
       "\n",
       "                                                link  \\\n",
       "2                 www.food.com/recipe/haluski-407129   \n",
       "3  www.food.com/recipe/cajun-style-white-bean-sou...   \n",
       "7  www.food.com/recipe/risotto-coi-frutti-di-mare...   \n",
       "8  www.food.com/recipe/spinach-with-sesame-and-mi...   \n",
       "9  www.food.com/recipe/easy-raw-chocolate-bark-49...   \n",
       "\n",
       "   directions_count_gathered  fractions_count_gathered  \\\n",
       "2                          3                         1   \n",
       "3                          3                         5   \n",
       "7                         13                         5   \n",
       "8                         10                         3   \n",
       "9                          6                         1   \n",
       "\n",
       "                                         title_rec1M  \\\n",
       "2                                            Haluski   \n",
       "3                        Cajun Style White Bean Soup   \n",
       "7  Risotto Coi Frutti Di Mare (Risotto With Seafood)   \n",
       "8                       Spinach With Sesame and Miso   \n",
       "9                            Easy Raw Chocolate Bark   \n",
       "\n",
       "                                   ingredients_rec1M  \\\n",
       "2  [1 cabbage, green, core removed and leaves sep...   \n",
       "3  [8 ounces great northern beans, water, to cove...   \n",
       "7  [1 lb small squid, cleaned and chopped into 1/...   \n",
       "8  [2 12 tablespoons sesame seeds, 2 tablespoons ...   \n",
       "9  [2 tablespoons raw organic coconut oil (soften...   \n",
       "\n",
       "                                    directions_rec1M  directions_count_rec1M  \\\n",
       "2  [Bring a large pot of water to a boil., Add th...                       8   \n",
       "3  [Put rinsed beans, in a 4 quart dutch oven and...                       8   \n",
       "7  [Separate the cleaned shrimp in two equal port...                      29   \n",
       "8  [Heat a wok or frying pan and add the sesame s...                      11   \n",
       "9  [Well combine all ingredients., Taste mixture ...                       7   \n",
       "\n",
       "   fractions_count_rec1M  \n",
       "2                      0  \n",
       "3                      0  \n",
       "7                      1  \n",
       "8                      0  \n",
       "9                      0  "
      ]
     },
     "execution_count": 8,
     "metadata": {},
     "output_type": "execute_result"
    }
   ],
   "source": [
    "uneven = test.loc[test.apply(lambda row: row.directions_count_gathered != row.directions_count_rec1M , axis=1)]\n",
    "uneven.head()"
   ]
  },
  {
   "cell_type": "code",
   "execution_count": 9,
   "metadata": {},
   "outputs": [
    {
     "name": "stdout",
     "output_type": "stream",
     "text": [
      "(224088, 11)\n",
      "(350141, 11)\n"
     ]
    }
   ],
   "source": [
    "print(uneven.shape)\n",
    "print(test.shape)"
   ]
  },
  {
   "cell_type": "code",
   "execution_count": 10,
   "metadata": {},
   "outputs": [],
   "source": [
    "# save sample of 100 recipes for manual checkup\n",
    "test.sample(n=100, random_state=0).to_csv('manual-checkup-sample.csv', index=False)"
   ]
  },
  {
   "cell_type": "raw",
   "metadata": {},
   "source": [
    "for i, row in uneven.sample(n=50, random_state=0).iterrows():\n",
    "    print('---------')\n",
    "    print(row.link)\n",
    "    print(len(row.directions_gathered))\n",
    "    print(row.directions_gathered)\n",
    "    print(len(row.directions_rec1M))\n",
    "    print(row.directions_rec1M)"
   ]
  },
  {
   "cell_type": "code",
   "execution_count": 11,
   "metadata": {},
   "outputs": [
    {
     "name": "stderr",
     "output_type": "stream",
     "text": [
      "[nltk_data] Downloading package punkt to /home/wojtek/nltk_data...\n",
      "[nltk_data]   Package punkt is already up-to-date!\n"
     ]
    }
   ],
   "source": [
    "import nltk\n",
    "nltk.download('punkt')\n",
    "from nltk import tokenize"
   ]
  },
  {
   "cell_type": "code",
   "execution_count": 12,
   "metadata": {},
   "outputs": [
    {
     "data": {
      "text/plain": [
       "(50209, 11)"
      ]
     },
     "execution_count": 12,
     "metadata": {},
     "output_type": "execute_result"
    }
   ],
   "source": [
    "test.loc[test.apply(lambda row: len(tokenize.sent_tokenize(' '.join(row.directions_gathered))) != row.directions_count_rec1M , axis=1)].shape"
   ]
  },
  {
   "cell_type": "code",
   "execution_count": 13,
   "metadata": {},
   "outputs": [
    {
     "data": {
      "text/plain": [
       "<matplotlib.axes._subplots.AxesSubplot at 0x7fa169f06650>"
      ]
     },
     "execution_count": 13,
     "metadata": {},
     "output_type": "execute_result"
    },
    {
     "data": {
      "image/png": "[encoded data removed]",
      "text/plain": [
       "<Figure size 432x288 with 1 Axes>"
      ]
     },
     "metadata": {
      "needs_background": "light"
     },
     "output_type": "display_data"
    }
   ],
   "source": [
    "test[['directions_count_gathered', 'directions_count_rec1M']].boxplot(sym='')"
   ]
  },
  {
   "cell_type": "code",
   "execution_count": 14,
   "metadata": {},
   "outputs": [],
   "source": [
    "experiment = test.apply(lambda row: len(tokenize.sent_tokenize(' '.join(row.directions_gathered))), axis=1)"
   ]
  },
  {
   "cell_type": "code",
   "execution_count": 15,
   "metadata": {},
   "outputs": [
    {
     "data": {
      "text/plain": [
       "<matplotlib.axes._subplots.AxesSubplot at 0x7fa167e78f90>"
      ]
     },
     "execution_count": 15,
     "metadata": {},
     "output_type": "execute_result"
    },
    {
     "data": {
      "image/png": "[encoded data removed]",
      "text/plain": [
       "<Figure size 432x288 with 1 Axes>"
      ]
     },
     "metadata": {
      "needs_background": "light"
     },
     "output_type": "display_data"
    }
   ],
   "source": [
    "pd.DataFrame(data={\n",
    "    'directions_count_rec1M': test.directions_count_rec1M,\n",
    "    'directions_count_altered': experiment\n",
    "}).boxplot(sym='')"
   ]
  },
  {
   "cell_type": "code",
   "execution_count": 16,
   "metadata": {},
   "outputs": [],
   "source": [
    "import matplotlib\n",
    "from matplotlib.pyplot import hist\n",
    "from matplotlib.pyplot import boxplot\n",
    "import matplotlib.pyplot as plt\n",
    "\n",
    "%matplotlib inline"
   ]
  },
  {
   "cell_type": "code",
   "execution_count": 17,
   "metadata": {},
   "outputs": [
    {
     "data": {
      "image/png": "[encoded data removed]",
      "text/plain": [
       "<Figure size 288x360 with 1 Axes>"
      ]
     },
     "metadata": {
      "needs_background": "light"
     },
     "output_type": "display_data"
    }
   ],
   "source": [
    "data = [\n",
    "    test.directions_count_rec1M,\n",
    "    test.directions_count_gathered,\n",
    "    experiment\n",
    "]\n",
    "\n",
    "fig, ax1 = plt.subplots(figsize=(4, 5))\n",
    "fig.canvas.set_window_title('A Boxplot Example')\n",
    "# fig.subplots_adjust(left=0.125, right=1, top=0.9, bottom=0.25)\n",
    "\n",
    "bp = ax1.boxplot(data, notch=0, sym='', vert=1, whis=1.5, showmeans=True)\n",
    "# plt.setp(bp['boxes'], color='black')\n",
    "# plt.setp(bp['whiskers'], color='black')\n",
    "# plt.setp(bp['fliers'], color='red', marker='+')\n",
    "\n",
    "# Add a horizontal grid to the plot, but make it very light in color\n",
    "# so we can use it for reading data values but not be distracting\n",
    "ax1.yaxis.grid(True, linestyle='-', which='major', color='lightgrey',alpha=0.5)\n",
    "\n",
    "# Hide these grid behind plot objects\n",
    "ax1.set_axisbelow(True)\n",
    "# ax1.set_title('Comparison of counts distribution\\nbetween datasets')\n",
    "# ax1.set_xlabel('Ditribution')\n",
    "ax1.set_ylabel('Number of lines')\n",
    "\n",
    "ax1.set_xticklabels(['Recipes1M+\\ninstructions', 'Gathered\\ninstructions', 'Experiment\\ninstructions'])\n",
    "\n",
    "plt.savefig('distr-comparison-issue.png', dpi=600)\n",
    "tikzplotlib.save('distr-comparison-issue.tex')\n",
    "plt.show()"
   ]
  },
  {
   "cell_type": "code",
   "execution_count": 18,
   "metadata": {},
   "outputs": [
    {
     "data": {
      "image/png": "[encoded data removed]",
      "text/plain": [
       "<Figure size 288x288 with 1 Axes>"
      ]
     },
     "metadata": {
      "needs_background": "light"
     },
     "output_type": "display_data"
    }
   ],
   "source": [
    "data = [\n",
    "    test.directions_count_rec1M,\n",
    "    test.directions_count_gathered,\n",
    "    experiment\n",
    "]\n",
    "\n",
    "fig, ax1 = plt.subplots(figsize=(4, 4))\n",
    "fig.canvas.set_window_title('A Boxplot Example')\n",
    "# fig.subplots_adjust(left=0.125, right=1, top=0.9, bottom=0.25)\n",
    "\n",
    "bp = ax1.boxplot(data, notch=0, sym='', vert=0, whis=1.5, showmeans=True)\n",
    "# plt.setp(bp['boxes'], color='black')\n",
    "# plt.setp(bp['whiskers'], color='black')\n",
    "# plt.setp(bp['fliers'], color='red', marker='+')\n",
    "\n",
    "# Add a horizontal grid to the plot, but make it very light in color\n",
    "# so we can use it for reading data values but not be distracting\n",
    "ax1.xaxis.grid(True, linestyle='-', which='major', color='lightgrey',alpha=0.5)\n",
    "\n",
    "# Hide these grid behind plot objects\n",
    "ax1.set_axisbelow(True)\n",
    "# ax1.set_title('Comparison of counts distribution\\nbetween datasets')\n",
    "# ax1.set_xlabel('Ditribution')\n",
    "ax1.set_xlabel('Number of lines')\n",
    "\n",
    "ax1.set_yticklabels(['Recipes1M+\\ninstructions', 'Gathered\\ninstructions', 'Experiment\\ninstructions'])\n",
    "\n",
    "plt.savefig('distr-comparison-issue-horizontal.png', dpi=600)\n",
    "tikzplotlib.save('distr-comparison-issue-horizontal.tex')\n",
    "plt.show()"
   ]
  },
  {
   "cell_type": "code",
   "execution_count": 19,
   "metadata": {},
   "outputs": [
    {
     "data": {
      "text/plain": [
       "count    350141.000000\n",
       "mean         10.416412\n",
       "std           6.704046\n",
       "min           1.000000\n",
       "25%           6.000000\n",
       "50%           9.000000\n",
       "75%          13.000000\n",
       "max         167.000000\n",
       "Name: directions_count_rec1M, dtype: float64"
      ]
     },
     "execution_count": 19,
     "metadata": {},
     "output_type": "execute_result"
    }
   ],
   "source": [
    "test.directions_count_rec1M.describe()"
   ]
  },
  {
   "cell_type": "code",
   "execution_count": 20,
   "metadata": {},
   "outputs": [
    {
     "data": {
      "text/plain": [
       "count    350141.000000\n",
       "mean          6.559149\n",
       "std           4.275013\n",
       "min           1.000000\n",
       "25%           4.000000\n",
       "50%           6.000000\n",
       "75%           8.000000\n",
       "max         107.000000\n",
       "Name: directions_count_gathered, dtype: float64"
      ]
     },
     "execution_count": 20,
     "metadata": {},
     "output_type": "execute_result"
    }
   ],
   "source": [
    "test.directions_count_gathered.describe()"
   ]
  },
  {
   "cell_type": "code",
   "execution_count": 21,
   "metadata": {},
   "outputs": [
    {
     "data": {
      "text/plain": [
       "count    350141.000000\n",
       "mean         10.281432\n",
       "std           6.550033\n",
       "min           1.000000\n",
       "25%           6.000000\n",
       "50%           9.000000\n",
       "75%          13.000000\n",
       "max         126.000000\n",
       "dtype: float64"
      ]
     },
     "execution_count": 21,
     "metadata": {},
     "output_type": "execute_result"
    }
   ],
   "source": [
    "experiment.describe()"
   ]
  },
  {
   "cell_type": "code",
   "execution_count": 44,
   "metadata": {},
   "outputs": [
    {
     "name": "stdout",
     "output_type": "stream",
     "text": [
      "Gathered vs Recipes1M+\n",
      "p= 0.0\n",
      "stat= 50.61323377651997\n",
      "---------------\n",
      "Experiment vs Recipes1M+\n",
      "p= 0.17056092268320913\n",
      "stat= 1.3704529912855934\n",
      "---------------\n",
      "Experiment vs Gathered\n",
      "p= 0.0\n",
      "stat= -72.67121630628813\n"
     ]
    }
   ],
   "source": [
    "import numpy as np\n",
    "from scipy.stats import ttest_rel, ttest_ind\n",
    "sample_size = 10000\n",
    "rng = np.random.default_rng(0)\n",
    "indexes = rng.choice(test.shape[0], size=sample_size)\n",
    "# print(indexes.shape)\n",
    "\n",
    "# gathered and recipes1m+ distribution differences\n",
    "stat, p = ttest_ind(test.directions_count_rec1M.iloc[indexes], test.directions_count_gathered.iloc[indexes])\n",
    "print('Gathered vs Recipes1M+')\n",
    "print('p=',p)\n",
    "print('stat=',stat)\n",
    "\n",
    "print('---------------')\n",
    "\n",
    "# experiment anr recipes1M+ distribution differences\n",
    "stat, p = ttest_ind(test.directions_count_rec1M.iloc[indexes], experiment.iloc[indexes])\n",
    "print('Experiment vs Recipes1M+')\n",
    "print('p=',p)\n",
    "print('stat=',stat)\n",
    "\n",
    "print('---------------')\n",
    "\n",
    "# measures impact of experiment\n",
    "stat, p = ttest_rel(test.directions_count_gathered.iloc[indexes], experiment.iloc[indexes])\n",
    "print('Experiment vs Gathered')\n",
    "print('p=',p)\n",
    "print('stat=',stat)"
   ]
  },
  {
   "cell_type": "markdown",
   "metadata": {},
   "source": [
    "# Fractions"
   ]
  },
  {
   "cell_type": "code",
   "execution_count": 25,
   "metadata": {},
   "outputs": [
    {
     "data": {
      "text/html": [
       "<div>\n",
       "<style scoped>\n",
       "    .dataframe tbody tr th:only-of-type {\n",
       "        vertical-align: middle;\n",
       "    }\n",
       "\n",
       "    .dataframe tbody tr th {\n",
       "        vertical-align: top;\n",
       "    }\n",
       "\n",
       "    .dataframe thead th {\n",
       "        text-align: right;\n",
       "    }\n",
       "</style>\n",
       "<table border=\"1\" class=\"dataframe\">\n",
       "  <thead>\n",
       "    <tr style=\"text-align: right;\">\n",
       "      <th></th>\n",
       "      <th>fractions_count_gathered</th>\n",
       "      <th>fractions_count_rec1M</th>\n",
       "    </tr>\n",
       "  </thead>\n",
       "  <tbody>\n",
       "    <tr>\n",
       "      <th>count</th>\n",
       "      <td>350141.000000</td>\n",
       "      <td>350141.000000</td>\n",
       "    </tr>\n",
       "    <tr>\n",
       "      <th>mean</th>\n",
       "      <td>3.312394</td>\n",
       "      <td>0.799975</td>\n",
       "    </tr>\n",
       "    <tr>\n",
       "      <th>std</th>\n",
       "      <td>2.605474</td>\n",
       "      <td>1.764564</td>\n",
       "    </tr>\n",
       "    <tr>\n",
       "      <th>min</th>\n",
       "      <td>0.000000</td>\n",
       "      <td>0.000000</td>\n",
       "    </tr>\n",
       "    <tr>\n",
       "      <th>25%</th>\n",
       "      <td>1.000000</td>\n",
       "      <td>0.000000</td>\n",
       "    </tr>\n",
       "    <tr>\n",
       "      <th>50%</th>\n",
       "      <td>3.000000</td>\n",
       "      <td>0.000000</td>\n",
       "    </tr>\n",
       "    <tr>\n",
       "      <th>75%</th>\n",
       "      <td>5.000000</td>\n",
       "      <td>1.000000</td>\n",
       "    </tr>\n",
       "    <tr>\n",
       "      <th>max</th>\n",
       "      <td>28.000000</td>\n",
       "      <td>22.000000</td>\n",
       "    </tr>\n",
       "  </tbody>\n",
       "</table>\n",
       "</div>"
      ],
      "text/plain": [
       "       fractions_count_gathered  fractions_count_rec1M\n",
       "count             350141.000000          350141.000000\n",
       "mean                   3.312394               0.799975\n",
       "std                    2.605474               1.764564\n",
       "min                    0.000000               0.000000\n",
       "25%                    1.000000               0.000000\n",
       "50%                    3.000000               0.000000\n",
       "75%                    5.000000               1.000000\n",
       "max                   28.000000              22.000000"
      ]
     },
     "execution_count": 25,
     "metadata": {},
     "output_type": "execute_result"
    }
   ],
   "source": [
    "test[['fractions_count_gathered', 'fractions_count_rec1M']].describe()"
   ]
  },
  {
   "cell_type": "code",
   "execution_count": 26,
   "metadata": {},
   "outputs": [
    {
     "data": {
      "text/plain": [
       "fractions_count_gathered  fractions_count_rec1M\n",
       "0                         0                        43176\n",
       "                          1                           10\n",
       "1                         0                        41411\n",
       "                          1                        11817\n",
       "                          2                           10\n",
       "                                                   ...  \n",
       "24                        1                            1\n",
       "                          4                            1\n",
       "25                        2                            1\n",
       "26                        9                            1\n",
       "28                        1                            1\n",
       "Name: link, Length: 225, dtype: int64"
      ]
     },
     "execution_count": 26,
     "metadata": {},
     "output_type": "execute_result"
    }
   ],
   "source": [
    "gpb = test.groupby(['fractions_count_gathered', 'fractions_count_rec1M']).link.count()\n",
    "gpb"
   ]
  },
  {
   "cell_type": "code",
   "execution_count": 27,
   "metadata": {},
   "outputs": [
    {
     "data": {
      "text/plain": [
       "fractions_count_gathered  fractions_count_rec1M\n",
       "3                         1                        6444\n",
       "                          2                        2805\n",
       "                          3                        8032\n",
       "                          4                          23\n",
       "                          5                           3\n",
       "                                                   ... \n",
       "24                        1                           1\n",
       "                          4                           1\n",
       "25                        2                           1\n",
       "26                        9                           1\n",
       "28                        1                           1\n",
       "Name: link, Length: 215, dtype: int64"
      ]
     },
     "execution_count": 27,
     "metadata": {},
     "output_type": "execute_result"
    }
   ],
   "source": [
    "gpb[5:][5:]"
   ]
  },
  {
   "cell_type": "code",
   "execution_count": 28,
   "metadata": {},
   "outputs": [
    {
     "data": {
      "text/plain": [
       "<matplotlib.axes._subplots.AxesSubplot at 0x7fa22c78af10>"
      ]
     },
     "execution_count": 28,
     "metadata": {},
     "output_type": "execute_result"
    },
    {
     "data": {
      "image/png": "[encoded data removed]",
      "text/plain": [
       "<Figure size 432x288 with 1 Axes>"
      ]
     },
     "metadata": {
      "needs_background": "light"
     },
     "output_type": "display_data"
    }
   ],
   "source": [
    "test[['fractions_count_gathered', 'fractions_count_rec1M']].plot.hist(bins=28, alpha=0.5)"
   ]
  },
  {
   "cell_type": "code",
   "execution_count": 29,
   "metadata": {},
   "outputs": [
    {
     "data": {
      "image/png": "[encoded data removed]",
      "text/plain": [
       "<Figure size 432x288 with 1 Axes>"
      ]
     },
     "metadata": {
      "needs_background": "light"
     },
     "output_type": "display_data"
    }
   ],
   "source": [
    "data = [\n",
    "    test.fractions_count_gathered,\n",
    "    test.fractions_count_rec1M\n",
    "]\n",
    "hist(data, bins=range(0, 15), alpha=0.7, stacked=True, label=['Gathered', 'Recipes1M'])\n",
    "plt.legend()\n",
    "plt.ylabel(\"Number of recipes\")\n",
    "plt.xlabel(\"Number of fractions in ingredients\")\n",
    "plt.savefig('fractions-stacked.png', dpi=600)"
   ]
  },
  {
   "cell_type": "code",
   "execution_count": 30,
   "metadata": {},
   "outputs": [
    {
     "data": {
      "image/png": "[encoded data removed]",
      "text/plain": [
       "<Figure size 432x288 with 1 Axes>"
      ]
     },
     "metadata": {
      "needs_background": "light"
     },
     "output_type": "display_data"
    }
   ],
   "source": [
    "data = [\n",
    "    test.fractions_count_gathered,\n",
    "    test.fractions_count_rec1M\n",
    "]\n",
    "n, beans, patches = hist(data, bins=range(0, 15), alpha=0.7, stacked=False, label=['Gathered', 'Recipes1M'], color=['lightsteelblue', 'midnightblue'])\n",
    "for p in patches[0]:\n",
    "    p.set_ec('black')\n",
    "#     p.set_hatch('///')\n",
    "# for p in patches[1]:\n",
    "#     p.set_hatch('\\\\\\\\')\n",
    "plt.legend()\n",
    "plt.ylabel(\"Number of recipes\")\n",
    "plt.xlabel(\"Number of fractions in ingredients\")\n",
    "tikzplotlib.save('fractions-not-stacked.tex')\n",
    "plt.savefig('fractions-not-stacked.png', dpi=600)"
   ]
  },
  {
   "cell_type": "code",
   "execution_count": 31,
   "metadata": {},
   "outputs": [
    {
     "data": {
      "image/png": "[encoded data removed]",
      "text/plain": [
       "<Figure size 432x288 with 1 Axes>"
      ]
     },
     "metadata": {
      "needs_background": "light"
     },
     "output_type": "display_data"
    }
   ],
   "source": [
    "data = [\n",
    "    test.fractions_count_gathered,\n",
    "    test.fractions_count_rec1M\n",
    "]\n",
    "hist(data, bins=range(0, 15), alpha=0.5, histtype='stepfilled', label=['Gathered', 'Recipes1M'])\n",
    "plt.legend()\n",
    "plt.ylabel(\"Number of recipes\")\n",
    "plt.xlabel(\"Number of fractions in ingredients\")\n",
    "plt.savefig('fractions-stepfilled.png', dpi=600)"
   ]
  },
  {
   "cell_type": "code",
   "execution_count": 32,
   "metadata": {},
   "outputs": [
    {
     "data": {
      "text/html": [
       "<div>\n",
       "<style scoped>\n",
       "    .dataframe tbody tr th:only-of-type {\n",
       "        vertical-align: middle;\n",
       "    }\n",
       "\n",
       "    .dataframe tbody tr th {\n",
       "        vertical-align: top;\n",
       "    }\n",
       "\n",
       "    .dataframe thead th {\n",
       "        text-align: right;\n",
       "    }\n",
       "</style>\n",
       "<table border=\"1\" class=\"dataframe\">\n",
       "  <thead>\n",
       "    <tr style=\"text-align: right;\">\n",
       "      <th></th>\n",
       "      <th>ingredients_gathered</th>\n",
       "      <th>ingredients_rec1M</th>\n",
       "      <th>link</th>\n",
       "    </tr>\n",
       "  </thead>\n",
       "  <tbody>\n",
       "    <tr>\n",
       "      <th>53608</th>\n",
       "      <td>[6 small avocados, 1 (16 ounce) container sour...</td>\n",
       "      <td>[4 avocados, 1 (16 ounce) container sour cream...</td>\n",
       "      <td>www.food.com/recipe/casa-ole-green-sauce-375991</td>\n",
       "    </tr>\n",
       "    <tr>\n",
       "      <th>297154</th>\n",
       "      <td>[2 cups plain 2% reduced-fat Greek yogurt]</td>\n",
       "      <td>[2 cups plain 2% reduced-fat Greek yogurt, 3/4...</td>\n",
       "      <td>www.myrecipes.com/recipe/almond-granola-greek-...</td>\n",
       "    </tr>\n",
       "    <tr>\n",
       "      <th>297161</th>\n",
       "      <td>[1 cup low-fat buttermilk, 3 tablespoons veget...</td>\n",
       "      <td>[1 cup low-fat buttermilk, 3 tablespoons veget...</td>\n",
       "      <td>www.myrecipes.com/recipe/multigrain-pancakes</td>\n",
       "    </tr>\n",
       "    <tr>\n",
       "      <th>297252</th>\n",
       "      <td>[2 tablespoons hot water, 1 tablespoon red win...</td>\n",
       "      <td>[1/4 cup Catalonian Pepper and Nut Sauce, 2 ta...</td>\n",
       "      <td>www.myrecipes.com/recipe/catalonian-salad-with...</td>\n",
       "    </tr>\n",
       "    <tr>\n",
       "      <th>297343</th>\n",
       "      <td>[10 (6-ounce) grouper fillets, 5 teaspoons can...</td>\n",
       "      <td>[10 (6-ounce) grouper fillets, 1/4 cup Cajun S...</td>\n",
       "      <td>www.myrecipes.com/recipe/blackened-grouper</td>\n",
       "    </tr>\n",
       "    <tr>\n",
       "      <th>297754</th>\n",
       "      <td>[1 pound reduced-fat extrafirm water-packed to...</td>\n",
       "      <td>[1 pound reduced-fat extrafirm water-packed to...</td>\n",
       "      <td>www.myrecipes.com/recipe/ginger-sesame-grilled...</td>\n",
       "    </tr>\n",
       "    <tr>\n",
       "      <th>298448</th>\n",
       "      <td>[9 tablespoons crumbled queso fresco]</td>\n",
       "      <td>[6 Arepas, 1 1/2 cups Simple Black Beans, rehe...</td>\n",
       "      <td>www.myrecipes.com/recipe/arepas-with-savory-to...</td>\n",
       "    </tr>\n",
       "    <tr>\n",
       "      <th>299709</th>\n",
       "      <td>[4 cups gourmet salad greens, 2 cups thinly sl...</td>\n",
       "      <td>[4 cups gourmet salad greens, 2 cups thinly sl...</td>\n",
       "      <td>www.myrecipes.com/recipe/mixed-greens-nectarin...</td>\n",
       "    </tr>\n",
       "    <tr>\n",
       "      <th>303550</th>\n",
       "      <td>[1 (18-ounce) package refrigerated sugar cooki...</td>\n",
       "      <td>[1 (18-ounce) package refrigerated sugar cooki...</td>\n",
       "      <td>www.myrecipes.com/recipe/fresh-fruit-pizza-wit...</td>\n",
       "    </tr>\n",
       "    <tr>\n",
       "      <th>310503</th>\n",
       "      <td>[1 whole Sheet Puffed Pastry, Thawed And Cut I...</td>\n",
       "      <td>[1 whole Sheet Puffed Pastry, Cut Into Half Or...</td>\n",
       "      <td>tastykitchen.com/recipes/desserts/quick-and-ea...</td>\n",
       "    </tr>\n",
       "  </tbody>\n",
       "</table>\n",
       "</div>"
      ],
      "text/plain": [
       "                                     ingredients_gathered  \\\n",
       "53608   [6 small avocados, 1 (16 ounce) container sour...   \n",
       "297154         [2 cups plain 2% reduced-fat Greek yogurt]   \n",
       "297161  [1 cup low-fat buttermilk, 3 tablespoons veget...   \n",
       "297252  [2 tablespoons hot water, 1 tablespoon red win...   \n",
       "297343  [10 (6-ounce) grouper fillets, 5 teaspoons can...   \n",
       "297754  [1 pound reduced-fat extrafirm water-packed to...   \n",
       "298448              [9 tablespoons crumbled queso fresco]   \n",
       "299709  [4 cups gourmet salad greens, 2 cups thinly sl...   \n",
       "303550  [1 (18-ounce) package refrigerated sugar cooki...   \n",
       "310503  [1 whole Sheet Puffed Pastry, Thawed And Cut I...   \n",
       "\n",
       "                                        ingredients_rec1M  \\\n",
       "53608   [4 avocados, 1 (16 ounce) container sour cream...   \n",
       "297154  [2 cups plain 2% reduced-fat Greek yogurt, 3/4...   \n",
       "297161  [1 cup low-fat buttermilk, 3 tablespoons veget...   \n",
       "297252  [1/4 cup Catalonian Pepper and Nut Sauce, 2 ta...   \n",
       "297343  [10 (6-ounce) grouper fillets, 1/4 cup Cajun S...   \n",
       "297754  [1 pound reduced-fat extrafirm water-packed to...   \n",
       "298448  [6 Arepas, 1 1/2 cups Simple Black Beans, rehe...   \n",
       "299709  [4 cups gourmet salad greens, 2 cups thinly sl...   \n",
       "303550  [1 (18-ounce) package refrigerated sugar cooki...   \n",
       "310503  [1 whole Sheet Puffed Pastry, Cut Into Half Or...   \n",
       "\n",
       "                                                     link  \n",
       "53608     www.food.com/recipe/casa-ole-green-sauce-375991  \n",
       "297154  www.myrecipes.com/recipe/almond-granola-greek-...  \n",
       "297161       www.myrecipes.com/recipe/multigrain-pancakes  \n",
       "297252  www.myrecipes.com/recipe/catalonian-salad-with...  \n",
       "297343         www.myrecipes.com/recipe/blackened-grouper  \n",
       "297754  www.myrecipes.com/recipe/ginger-sesame-grilled...  \n",
       "298448  www.myrecipes.com/recipe/arepas-with-savory-to...  \n",
       "299709  www.myrecipes.com/recipe/mixed-greens-nectarin...  \n",
       "303550  www.myrecipes.com/recipe/fresh-fruit-pizza-wit...  \n",
       "310503  tastykitchen.com/recipes/desserts/quick-and-ea...  "
      ]
     },
     "execution_count": 32,
     "metadata": {},
     "output_type": "execute_result"
    }
   ],
   "source": [
    "strange = test.loc[test.apply(lambda row: row.fractions_count_gathered==0 and row.fractions_count_rec1M==1, axis=1)][['ingredients_gathered', 'ingredients_rec1M', 'link']]\n",
    "strange   "
   ]
  },
  {
   "cell_type": "raw",
   "metadata": {},
   "source": [
    "for i, row in strange.iterrows():\n",
    "    print('---------------')\n",
    "    print(row.link)\n",
    "    print(row.ingredients_gathered)\n",
    "    print(row.ingredients_rec1M)"
   ]
  },
  {
   "cell_type": "code",
   "execution_count": 33,
   "metadata": {},
   "outputs": [
    {
     "data": {
      "text/plain": [
       "(256626, 11)"
      ]
     },
     "execution_count": 33,
     "metadata": {},
     "output_type": "execute_result"
    }
   ],
   "source": [
    "test.loc[test.apply(lambda row: row.fractions_count_gathered > row.fractions_count_rec1M, axis=1)].shape"
   ]
  },
  {
   "cell_type": "code",
   "execution_count": 34,
   "metadata": {},
   "outputs": [
    {
     "data": {
      "text/plain": [
       "(134, 11)"
      ]
     },
     "execution_count": 34,
     "metadata": {},
     "output_type": "execute_result"
    }
   ],
   "source": [
    "test.loc[test.apply(lambda row: row.fractions_count_gathered < row.fractions_count_rec1M, axis=1)].shape"
   ]
  },
  {
   "cell_type": "code",
   "execution_count": 35,
   "metadata": {},
   "outputs": [
    {
     "data": {
      "text/plain": [
       "(93381, 11)"
      ]
     },
     "execution_count": 35,
     "metadata": {},
     "output_type": "execute_result"
    }
   ],
   "source": [
    "test.loc[test.apply(lambda row: row.fractions_count_gathered == row.fractions_count_rec1M, axis=1)].shape"
   ]
  },
  {
   "cell_type": "raw",
   "metadata": {},
   "source": [
    "import dask.dataframe as dd\n",
    "recipes1M = dd.read_csv('0-datasets/rec1M/rec1M-*.csv')\n",
    "recipes1M = recipes1M.drop(['Unnamed: 0', 'id', 'partition'], axis=1)\n",
    "recipes1M = recipes1M.rename(columns={\"instructions\":\"directions\", \"url\":\"link\"})\n",
    "recipes1M.ingredients = recipes1M.ingredients.map(json.loads, meta=pd.Series([], dtype=object, name='ingredients'))\n",
    "recipes1M.directions = recipes1M.directions.map(json.loads, meta=pd.Series([], dtype=object, name='directions'))\n",
    "recipes1M.ingredients = recipes1M.ingredients.map(lambda x: list(map(lambda y: y['text'], x)), meta=pd.Series([], dtype=object, name='ingredients'))\n",
    "recipes1M.directions = recipes1M.directions.map(lambda x: list(map(lambda y: y['text'], x)), meta=pd.Series([], dtype=object, name='directions'))\n",
    "recipes1M.loc[recipes1M.link.map(lambda x: 'www.food.com/recipe/casa-ole-green-sauce-375991' in x)].compute().iloc[0].ingredients"
   ]
  },
  {
   "cell_type": "code",
   "execution_count": 36,
   "metadata": {},
   "outputs": [
    {
     "data": {
      "text/plain": [
       "(380, 11)"
      ]
     },
     "execution_count": 36,
     "metadata": {},
     "output_type": "execute_result"
    }
   ],
   "source": [
    "myrecipes = test.loc[test.link.map(lambda x: 'myrecipes' in x)]\n",
    "myrecipes.loc[myrecipes.apply(lambda row: len(row.ingredients_gathered) < len(row.ingredients_rec1M), axis=1)].shape"
   ]
  },
  {
   "cell_type": "code",
   "execution_count": 37,
   "metadata": {},
   "outputs": [
    {
     "data": {
      "text/plain": [
       "(880, 11)"
      ]
     },
     "execution_count": 37,
     "metadata": {},
     "output_type": "execute_result"
    }
   ],
   "source": [
    "test.loc[test.apply(lambda row: len(row.ingredients_gathered) < len(row.ingredients_rec1M), axis=1)].shape"
   ]
  }
 ],
 "metadata": {
  "kernelspec": {
   "display_name": "Python 3",
   "language": "python",
   "name": "python3"
  },
  "language_info": {
   "codemirror_mode": {
    "name": "ipython",
    "version": 3
   },
   "file_extension": ".py",
   "mimetype": "text/x-python",
   "name": "python",
   "nbconvert_exporter": "python",
   "pygments_lexer": "ipython3",
   "version": "3.7.7"
  }
 },
 "nbformat": 4,
 "nbformat_minor": 4
}
