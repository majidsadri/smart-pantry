{
 "cells": [
  {
   "cell_type": "code",
   "execution_count": 1,
   "metadata": {},
   "outputs": [],
   "source": [
    "import pandas as pd"
   ]
  },
  {
   "cell_type": "code",
   "execution_count": 3,
   "metadata": {},
   "outputs": [
    {
     "data": {
      "text/html": [
       "<div>\n",
       "<style scoped>\n",
       "    .dataframe tbody tr th:only-of-type {\n",
       "        vertical-align: middle;\n",
       "    }\n",
       "\n",
       "    .dataframe tbody tr th {\n",
       "        vertical-align: top;\n",
       "    }\n",
       "\n",
       "    .dataframe thead th {\n",
       "        text-align: right;\n",
       "    }\n",
       "</style>\n",
       "<table border=\"1\" class=\"dataframe\">\n",
       "  <thead>\n",
       "    <tr style=\"text-align: right;\">\n",
       "      <th></th>\n",
       "      <th>title</th>\n",
       "      <th>ingredients</th>\n",
       "      <th>directions</th>\n",
       "      <th>link</th>\n",
       "      <th>source</th>\n",
       "    </tr>\n",
       "  </thead>\n",
       "  <tbody>\n",
       "    <tr>\n",
       "      <th>0</th>\n",
       "      <td>Mostaccioli And Ground Beef Supper</td>\n",
       "      <td>[\"1/2 lb. pkg. mostaccioli (uncooked)\", \"1 lb....</td>\n",
       "      <td>[\"I prefer Creamettes brand mostaccioli.\"]</td>\n",
       "      <td>www.cookbooks.com/Recipe-Details.aspx?id=1028860</td>\n",
       "      <td>Gathered</td>\n",
       "    </tr>\n",
       "    <tr>\n",
       "      <th>1</th>\n",
       "      <td>Plum Cake</td>\n",
       "      <td>[\"2 c. flour\", \"1/2 tsp. soda\", \"1/4 tsp. salt...</td>\n",
       "      <td>[\"Combine; pour over cake.\"]</td>\n",
       "      <td>www.cookbooks.com/Recipe-Details.aspx?id=305055</td>\n",
       "      <td>Gathered</td>\n",
       "    </tr>\n",
       "    <tr>\n",
       "      <th>2</th>\n",
       "      <td>Cinnamon Rolls</td>\n",
       "      <td>[\"1 Tbsp. yeast\", \"1 c. warm water\", \"1/4 c. s...</td>\n",
       "      <td>[\"Let stand for 30 min.\"]</td>\n",
       "      <td>www.cookbooks.com/Recipe-Details.aspx?id=26495</td>\n",
       "      <td>Gathered</td>\n",
       "    </tr>\n",
       "    <tr>\n",
       "      <th>3</th>\n",
       "      <td>Never Fail Jelly Roll</td>\n",
       "      <td>[\"6 eggs, separated\", \"1 c. sugar\", \"1 c. flou...</td>\n",
       "      <td>[\"Bake 15 min. at 375\\u00b0F.\"]</td>\n",
       "      <td>www.cookbooks.com/Recipe-Details.aspx?id=28476</td>\n",
       "      <td>Gathered</td>\n",
       "    </tr>\n",
       "    <tr>\n",
       "      <th>4</th>\n",
       "      <td>Poulet Au Miel</td>\n",
       "      <td>[\"1/4 tasse de miel\", \"1/4 tasse de beurre\", \"...</td>\n",
       "      <td>[\"Faire chauffer le miel et lebeurre et la sau...</td>\n",
       "      <td>www.cookbooks.com/Recipe-Details.aspx?id=722806</td>\n",
       "      <td>Gathered</td>\n",
       "    </tr>\n",
       "  </tbody>\n",
       "</table>\n",
       "</div>"
      ],
      "text/plain": [
       "                                title  \\\n",
       "0  Mostaccioli And Ground Beef Supper   \n",
       "1                           Plum Cake   \n",
       "2                      Cinnamon Rolls   \n",
       "3               Never Fail Jelly Roll   \n",
       "4                      Poulet Au Miel   \n",
       "\n",
       "                                         ingredients  \\\n",
       "0  [\"1/2 lb. pkg. mostaccioli (uncooked)\", \"1 lb....   \n",
       "1  [\"2 c. flour\", \"1/2 tsp. soda\", \"1/4 tsp. salt...   \n",
       "2  [\"1 Tbsp. yeast\", \"1 c. warm water\", \"1/4 c. s...   \n",
       "3  [\"6 eggs, separated\", \"1 c. sugar\", \"1 c. flou...   \n",
       "4  [\"1/4 tasse de miel\", \"1/4 tasse de beurre\", \"...   \n",
       "\n",
       "                                          directions  \\\n",
       "0         [\"I prefer Creamettes brand mostaccioli.\"]   \n",
       "1                       [\"Combine; pour over cake.\"]   \n",
       "2                          [\"Let stand for 30 min.\"]   \n",
       "3                    [\"Bake 15 min. at 375\\u00b0F.\"]   \n",
       "4  [\"Faire chauffer le miel et lebeurre et la sau...   \n",
       "\n",
       "                                               link    source  \n",
       "0  www.cookbooks.com/Recipe-Details.aspx?id=1028860  Gathered  \n",
       "1   www.cookbooks.com/Recipe-Details.aspx?id=305055  Gathered  \n",
       "2    www.cookbooks.com/Recipe-Details.aspx?id=26495  Gathered  \n",
       "3    www.cookbooks.com/Recipe-Details.aspx?id=28476  Gathered  \n",
       "4   www.cookbooks.com/Recipe-Details.aspx?id=722806  Gathered  "
      ]
     },
     "execution_count": 3,
     "metadata": {},
     "output_type": "execute_result"
    }
   ],
   "source": [
    "lang = pd.read_csv('0-datasets/language.csv', index_col=0)\n",
    "lang.head()"
   ]
  },
  {
   "cell_type": "code",
   "execution_count": 5,
   "metadata": {},
   "outputs": [
    {
     "data": {
      "text/plain": [
       "(2977, 5)"
      ]
     },
     "execution_count": 5,
     "metadata": {},
     "output_type": "execute_result"
    }
   ],
   "source": [
    "lang.shape"
   ]
  },
  {
   "cell_type": "code",
   "execution_count": 6,
   "metadata": {},
   "outputs": [
    {
     "data": {
      "text/plain": [
       "(2234093, 5)"
      ]
     },
     "execution_count": 6,
     "metadata": {},
     "output_type": "execute_result"
    }
   ],
   "source": [
    "core = pd.read_csv('0-datasets/v-1.1.0-single-h.csv')\n",
    "core.shape"
   ]
  },
  {
   "cell_type": "code",
   "execution_count": 7,
   "metadata": {},
   "outputs": [
    {
     "data": {
      "text/html": [
       "<div>\n",
       "<style scoped>\n",
       "    .dataframe tbody tr th:only-of-type {\n",
       "        vertical-align: middle;\n",
       "    }\n",
       "\n",
       "    .dataframe tbody tr th {\n",
       "        vertical-align: top;\n",
       "    }\n",
       "\n",
       "    .dataframe thead th {\n",
       "        text-align: right;\n",
       "    }\n",
       "</style>\n",
       "<table border=\"1\" class=\"dataframe\">\n",
       "  <thead>\n",
       "    <tr style=\"text-align: right;\">\n",
       "      <th></th>\n",
       "      <th>title</th>\n",
       "      <th>ingredients</th>\n",
       "      <th>directions</th>\n",
       "      <th>link</th>\n",
       "      <th>source</th>\n",
       "    </tr>\n",
       "  </thead>\n",
       "  <tbody>\n",
       "    <tr>\n",
       "      <th>0</th>\n",
       "      <td>No-Bake Nut Cookies</td>\n",
       "      <td>[\"1 c. firmly packed brown sugar\", \"1/2 c. eva...</td>\n",
       "      <td>[\"In a heavy 2-quart saucepan, mix brown sugar...</td>\n",
       "      <td>www.cookbooks.com/Recipe-Details.aspx?id=44874</td>\n",
       "      <td>Gathered</td>\n",
       "    </tr>\n",
       "    <tr>\n",
       "      <th>1</th>\n",
       "      <td>Jewell Ball'S Chicken</td>\n",
       "      <td>[\"1 small jar chipped beef, cut up\", \"4 boned ...</td>\n",
       "      <td>[\"Place chipped beef on bottom of baking dish....</td>\n",
       "      <td>www.cookbooks.com/Recipe-Details.aspx?id=699419</td>\n",
       "      <td>Gathered</td>\n",
       "    </tr>\n",
       "    <tr>\n",
       "      <th>2</th>\n",
       "      <td>Creamy Corn</td>\n",
       "      <td>[\"2 (16 oz.) pkg. frozen corn\", \"1 (8 oz.) pkg...</td>\n",
       "      <td>[\"In a slow cooker, combine all ingredients. C...</td>\n",
       "      <td>www.cookbooks.com/Recipe-Details.aspx?id=10570</td>\n",
       "      <td>Gathered</td>\n",
       "    </tr>\n",
       "    <tr>\n",
       "      <th>3</th>\n",
       "      <td>Chicken Funny</td>\n",
       "      <td>[\"1 large whole chicken\", \"2 (10 1/2 oz.) cans...</td>\n",
       "      <td>[\"Boil and debone chicken.\", \"Put bite size pi...</td>\n",
       "      <td>www.cookbooks.com/Recipe-Details.aspx?id=897570</td>\n",
       "      <td>Gathered</td>\n",
       "    </tr>\n",
       "    <tr>\n",
       "      <th>4</th>\n",
       "      <td>Reeses Cups(Candy)</td>\n",
       "      <td>[\"1 c. peanut butter\", \"3/4 c. graham cracker ...</td>\n",
       "      <td>[\"Combine first four ingredients and press in ...</td>\n",
       "      <td>www.cookbooks.com/Recipe-Details.aspx?id=659239</td>\n",
       "      <td>Gathered</td>\n",
       "    </tr>\n",
       "  </tbody>\n",
       "</table>\n",
       "</div>"
      ],
      "text/plain": [
       "                   title                                        ingredients  \\\n",
       "0    No-Bake Nut Cookies  [\"1 c. firmly packed brown sugar\", \"1/2 c. eva...   \n",
       "1  Jewell Ball'S Chicken  [\"1 small jar chipped beef, cut up\", \"4 boned ...   \n",
       "2            Creamy Corn  [\"2 (16 oz.) pkg. frozen corn\", \"1 (8 oz.) pkg...   \n",
       "3          Chicken Funny  [\"1 large whole chicken\", \"2 (10 1/2 oz.) cans...   \n",
       "4   Reeses Cups(Candy)    [\"1 c. peanut butter\", \"3/4 c. graham cracker ...   \n",
       "\n",
       "                                          directions  \\\n",
       "0  [\"In a heavy 2-quart saucepan, mix brown sugar...   \n",
       "1  [\"Place chipped beef on bottom of baking dish....   \n",
       "2  [\"In a slow cooker, combine all ingredients. C...   \n",
       "3  [\"Boil and debone chicken.\", \"Put bite size pi...   \n",
       "4  [\"Combine first four ingredients and press in ...   \n",
       "\n",
       "                                              link    source  \n",
       "0   www.cookbooks.com/Recipe-Details.aspx?id=44874  Gathered  \n",
       "1  www.cookbooks.com/Recipe-Details.aspx?id=699419  Gathered  \n",
       "2   www.cookbooks.com/Recipe-Details.aspx?id=10570  Gathered  \n",
       "3  www.cookbooks.com/Recipe-Details.aspx?id=897570  Gathered  \n",
       "4  www.cookbooks.com/Recipe-Details.aspx?id=659239  Gathered  "
      ]
     },
     "execution_count": 7,
     "metadata": {},
     "output_type": "execute_result"
    }
   ],
   "source": [
    "core.head()"
   ]
  },
  {
   "cell_type": "code",
   "execution_count": 9,
   "metadata": {},
   "outputs": [],
   "source": [
    "# brutally inefficient but I'm lazy\n",
    "to_be_droped = set(lang.link)"
   ]
  },
  {
   "cell_type": "code",
   "execution_count": 13,
   "metadata": {},
   "outputs": [
    {
     "data": {
      "text/plain": [
       "(2231142, 5)"
      ]
     },
     "execution_count": 13,
     "metadata": {},
     "output_type": "execute_result"
    }
   ],
   "source": [
    "df = core.loc[core.link.map(lambda x: x not in to_be_droped)]\n",
    "df.shape"
   ]
  },
  {
   "cell_type": "code",
   "execution_count": 14,
   "metadata": {},
   "outputs": [],
   "source": [
    "df.to_csv('0-datasets/v-1.1.1-single-h.csv', index=False)"
   ]
  }
 ],
 "metadata": {
  "kernelspec": {
   "display_name": "Python 3",
   "language": "python",
   "name": "python3"
  },
  "language_info": {
   "codemirror_mode": {
    "name": "ipython",
    "version": 3
   },
   "file_extension": ".py",
   "mimetype": "text/x-python",
   "name": "python",
   "nbconvert_exporter": "python",
   "pygments_lexer": "ipython3",
   "version": "3.7.7"
  }
 },
 "nbformat": 4,
 "nbformat_minor": 4
}
