{
 "cells": [
  {
   "cell_type": "markdown",
   "metadata": {},
   "source": [
    "# Custom framework - preaparations\n",
    "This notebook prepares and tests functions to be used in custom spider to crawl food.com"
   ]
  },
  {
   "cell_type": "code",
   "execution_count": 1,
   "metadata": {},
   "outputs": [],
   "source": [
    "### imports\n",
    "import urllib.request\n",
    "\n",
    "import sys\n",
    "import time\n",
    "import json\n",
    "\n",
    "from bs4 import BeautifulSoup\n",
    "\n",
    "import multiprocessing as mp"
   ]
  },
  {
   "cell_type": "code",
   "execution_count": 2,
   "metadata": {},
   "outputs": [],
   "source": [
    "def foodcom_generator(begin, end):\n",
    "    with open('links.txt') as f:\n",
    "        links = list(map(lambda x: x.strip(), f.readlines()))\n",
    "    for i in range(begin, end):\n",
    "        yield links[i], i"
   ]
  },
  {
   "cell_type": "code",
   "execution_count": 3,
   "metadata": {},
   "outputs": [],
   "source": [
    "### use this assertions to check if your generator function does right\n",
    "test_generator = foodcom_generator\n",
    "\n",
    "temp = list(test_generator(0,4))\n",
    "assert type(temp) is list\n",
    "assert len(temp) == 4\n",
    "assert type(temp[0]) is tuple\n",
    "assert len(temp[0]) == 2\n",
    "for t1, t2 in temp:\n",
    "    assert type(t1) is str\n",
    "    assert len(t1) > 0\n",
    "    # dummy url check\n",
    "    assert t1.find('http://') == 0 or t1.find('https://') == 0\n",
    "    assert t1.find('.') > 0\n",
    "    assert type(t2) is int"
   ]
  },
  {
   "cell_type": "code",
   "execution_count": 4,
   "metadata": {},
   "outputs": [],
   "source": [
    "test_html_doc = urllib.request.urlopen('https://www.food.com/recipe/best-banana-bread-2886').read().decode('utf-8')\n",
    "test_soup = BeautifulSoup(test_html_doc, 'html.parser')"
   ]
  },
  {
   "cell_type": "code",
   "execution_count": 12,
   "metadata": {},
   "outputs": [],
   "source": [
    "def title_foodcom(soup):\n",
    "    return soup.find_all('h1')[0].get_text()"
   ]
  },
  {
   "cell_type": "code",
   "execution_count": 15,
   "metadata": {},
   "outputs": [],
   "source": [
    "def ingredients_foodcom(soup):\n",
    "    return list(map(lambda x: x.get_text(), soup.find_all('li', 'recipe-ingredients__item')))"
   ]
  },
  {
   "cell_type": "code",
   "execution_count": 13,
   "metadata": {},
   "outputs": [],
   "source": [
    "def directions_foodcom(soup):\n",
    "    return list(map(lambda x: x.get_text(), soup.find_all('li', 'recipe-directions__step')))"
   ]
  },
  {
   "cell_type": "code",
   "execution_count": 16,
   "metadata": {},
   "outputs": [],
   "source": [
    "#\n",
    "# use this code to test your functions on real life pages\n",
    "# note that not all urls from generator may be valid\n",
    "#\n",
    "### provide generator and proper functions\n",
    "test_generator = foodcom_generator\n",
    "test_ingredients = ingredients_foodcom\n",
    "test_directions = directions_foodcom\n",
    "test_title = title_foodcom\n",
    "\n",
    "for url, i in test_generator(0,4):\n",
    "    test_html_doc = urllib.request.urlopen(url).read().decode('utf-8')\n",
    "    test_soup = BeautifulSoup(test_html_doc, 'html.parser')\n",
    "    # assert title\n",
    "    title = test_title(test_soup)\n",
    "    assert type(title) is str\n",
    "    assert len(title) > 0\n",
    "    # assert ingredients\n",
    "    ing = test_ingredients(test_soup)\n",
    "    assert type(ing) is list\n",
    "    assert len(ing) > 0\n",
    "    for i in ing:\n",
    "        assert type(i) is str\n",
    "        assert len(i) > 0\n",
    "    direc = test_directions(test_soup)\n",
    "    assert type(direc) is list\n",
    "    assert len(direc) > 0\n",
    "    for i in direc:\n",
    "        assert type(i) is str\n",
    "        assert len(i) > 0"
   ]
  }
 ],
 "metadata": {
  "kernelspec": {
   "display_name": "Python 3",
   "language": "python",
   "name": "python3"
  },
  "language_info": {
   "codemirror_mode": {
    "name": "ipython",
    "version": 3
   },
   "file_extension": ".py",
   "mimetype": "text/x-python",
   "name": "python",
   "nbconvert_exporter": "python",
   "pygments_lexer": "ipython3",
   "version": "3.7.4"
  }
 },
 "nbformat": 4,
 "nbformat_minor": 4
}
