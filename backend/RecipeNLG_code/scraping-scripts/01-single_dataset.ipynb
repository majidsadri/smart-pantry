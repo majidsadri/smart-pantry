{
 "cells": [
  {
   "cell_type": "markdown",
   "metadata": {},
   "source": [
    "# Introduction\n",
    "This notebook is about gathering all scraped recipes into single dataset"
   ]
  },
  {
   "cell_type": "code",
   "execution_count": 1,
   "metadata": {},
   "outputs": [],
   "source": [
    "### imports\n",
    "import json\n",
    "\n",
    "import dask.bag as db\n",
    "import dask.dataframe as dd"
   ]
  },
  {
   "cell_type": "markdown",
   "metadata": {},
   "source": [
    "## Format veryfication\n",
    "Assure that all recipes have the same json structure"
   ]
  },
  {
   "cell_type": "code",
   "execution_count": 2,
   "metadata": {},
   "outputs": [],
   "source": [
    "def validate(recipe : dict):\n",
    "    try:\n",
    "        assert 'title' in recipe\n",
    "        assert 'link' in recipe\n",
    "        assert 'ingredients' in recipe\n",
    "        assert 'directions' in recipe\n",
    "    except:\n",
    "        print(recipe)\n",
    "        raise AssertionException('Invalid recipe format')"
   ]
  },
  {
   "cell_type": "markdown",
   "metadata": {},
   "source": [
    "# Source I\n",
    "JSON files in `packed` directiories of subfolders"
   ]
  },
  {
   "cell_type": "code",
   "execution_count": 3,
   "metadata": {},
   "outputs": [
    {
     "name": "stdout",
     "output_type": "stream",
     "text": [
      "./allrecipes/packed/packed-0.json\n",
      "./cookbooks/packed/packed-0.json\n",
      "./cookbooks/packed/packed-1.json\n",
      "./cookbooks/packed/packed-2.json\n",
      "./cookbooks/packed/packed-3.json\n",
      "./cookbooks/packed/packed-4.json\n",
      "./cookbooks/packed/packed-5.json\n",
      "./cookbooks/packed/packed-6.json\n",
      "./cookbooks/packed/packed-7.json\n",
      "./cookbooks/packed/packed-8.json\n",
      "./cookbooks/packed/packed-9.json\n",
      "./foodcom/packed/packed-0.json\n",
      "./foodcom/packed/packed-1.json\n",
      "./foodcom/packed/packed-2.json\n",
      "./recipes-plus/packed/packed-0.json\n"
     ]
    }
   ],
   "source": [
    "%%bash\n",
    "ls ./*/packed/packed*"
   ]
  },
  {
   "cell_type": "code",
   "execution_count": 4,
   "metadata": {},
   "outputs": [],
   "source": [
    "folders = ['cookbooks', 'allrecipes', 'foodcom', 'recipes-plus']\n",
    "s1 = db.read_text('./' + folders[0] + '/packed/packed-*.json').map(json.loads).flatten().to_dataframe()\n",
    "for folder in folders[1:]:\n",
    "    s1 = s1.append(db.read_text('./' + folder + '/packed/packed-*.json').map(json.loads).flatten().to_dataframe())"
   ]
  },
  {
   "cell_type": "code",
   "execution_count": 5,
   "metadata": {},
   "outputs": [
    {
     "data": {
      "text/plain": [
       "title          1332521\n",
       "ingredients    1332521\n",
       "directions     1332521\n",
       "link           1332521\n",
       "dtype: int64"
      ]
     },
     "execution_count": 5,
     "metadata": {},
     "output_type": "execute_result"
    }
   ],
   "source": [
    "s1.count().compute()"
   ]
  },
  {
   "cell_type": "markdown",
   "metadata": {},
   "source": [
    "# Source II\n",
    "JSON-line files in `0-mongo-dumps` directory"
   ]
  },
  {
   "cell_type": "code",
   "execution_count": 6,
   "metadata": {},
   "outputs": [
    {
     "name": "stdout",
     "output_type": "stream",
     "text": [
      "./0-mongo-dumps/scrapy_items_epicurious.jsonl\n",
      "./0-mongo-dumps/scrapy_items_food52.jsonl\n",
      "./0-mongo-dumps/scrapy_items_myrecipes.jsonl\n",
      "./0-mongo-dumps/scrapy_items_seriouseats.jsonl\n",
      "./0-mongo-dumps/scrapy_items_tasteofhome.jsonl\n",
      "./0-mongo-dumps/scrapy_items_tastykitchen.jsonl\n",
      "./0-mongo-dumps/scrapy_items_yummly.jsonl\n"
     ]
    }
   ],
   "source": [
    "%%bash\n",
    "ls ./0-mongo-dumps/scrapy_items*"
   ]
  },
  {
   "cell_type": "code",
   "execution_count": 7,
   "metadata": {},
   "outputs": [],
   "source": [
    "s2 = db.read_text('./0-mongo-dumps/scrapy_items*').map(json.loads).to_dataframe().drop(labels='_id', axis=1)"
   ]
  },
  {
   "cell_type": "code",
   "execution_count": 8,
   "metadata": {},
   "outputs": [
    {
     "data": {
      "text/plain": [
       "title          422492\n",
       "ingredients    422492\n",
       "directions     422492\n",
       "link           422492\n",
       "dtype: int64"
      ]
     },
     "execution_count": 8,
     "metadata": {},
     "output_type": "execute_result"
    }
   ],
   "source": [
    "s2.count().compute()"
   ]
  },
  {
   "cell_type": "markdown",
   "metadata": {},
   "source": [
    "## Overall"
   ]
  },
  {
   "cell_type": "code",
   "execution_count": 9,
   "metadata": {},
   "outputs": [],
   "source": [
    "dataset = s1.append(s2)"
   ]
  },
  {
   "cell_type": "code",
   "execution_count": 10,
   "metadata": {},
   "outputs": [
    {
     "data": {
      "text/plain": [
       "title          1755013\n",
       "ingredients    1755013\n",
       "directions     1755013\n",
       "link           1755013\n",
       "dtype: int64"
      ]
     },
     "execution_count": 10,
     "metadata": {},
     "output_type": "execute_result"
    }
   ],
   "source": [
    "dataset.count().compute()"
   ]
  },
  {
   "cell_type": "code",
   "execution_count": 11,
   "metadata": {},
   "outputs": [
    {
     "data": {
      "text/html": [
       "<div>\n",
       "<style scoped>\n",
       "    .dataframe tbody tr th:only-of-type {\n",
       "        vertical-align: middle;\n",
       "    }\n",
       "\n",
       "    .dataframe tbody tr th {\n",
       "        vertical-align: top;\n",
       "    }\n",
       "\n",
       "    .dataframe thead th {\n",
       "        text-align: right;\n",
       "    }\n",
       "</style>\n",
       "<table border=\"1\" class=\"dataframe\">\n",
       "  <thead>\n",
       "    <tr style=\"text-align: right;\">\n",
       "      <th></th>\n",
       "      <th>title</th>\n",
       "      <th>ingredients</th>\n",
       "      <th>directions</th>\n",
       "      <th>link</th>\n",
       "    </tr>\n",
       "  </thead>\n",
       "  <tbody>\n",
       "    <tr>\n",
       "      <td>0</td>\n",
       "      <td>saucy shrimp casserole</td>\n",
       "      <td>[1/4  c. margarine, 1/4  c. flour, 2  c. milk,...</td>\n",
       "      <td>[Make, cream, sauce, with, margarine, flour, m...</td>\n",
       "      <td>http://www.cookbooks.com/Recipe-Details.aspx?i...</td>\n",
       "    </tr>\n",
       "    <tr>\n",
       "      <td>1</td>\n",
       "      <td>no-bake nut cookies</td>\n",
       "      <td>[1  c. firmly packed brown sugar, 1/2  c. evap...</td>\n",
       "      <td>[In a heavy 2-quart saucepan, mix brown sugar,...</td>\n",
       "      <td>http://www.cookbooks.com/Recipe-Details.aspx?i...</td>\n",
       "    </tr>\n",
       "    <tr>\n",
       "      <td>2</td>\n",
       "      <td>jewell ball's chicken</td>\n",
       "      <td>[1 small  jar chipped beef, cut up, 4  boned c...</td>\n",
       "      <td>[Place chipped beef on bottom of baking dish.,...</td>\n",
       "      <td>http://www.cookbooks.com/Recipe-Details.aspx?i...</td>\n",
       "    </tr>\n",
       "    <tr>\n",
       "      <td>3</td>\n",
       "      <td>creamy corn</td>\n",
       "      <td>[2 (16 oz.)  pkg. frozen corn, 1 (8 oz.)  pkg....</td>\n",
       "      <td>[In a slow cooker, combine all ingredients. Co...</td>\n",
       "      <td>http://www.cookbooks.com/Recipe-Details.aspx?i...</td>\n",
       "    </tr>\n",
       "    <tr>\n",
       "      <td>4</td>\n",
       "      <td>chicken funny</td>\n",
       "      <td>[1  large whole chicken, 2 (10 1/2 oz.)  cans ...</td>\n",
       "      <td>[Boil and debone chicken., Put bite size piece...</td>\n",
       "      <td>http://www.cookbooks.com/Recipe-Details.aspx?i...</td>\n",
       "    </tr>\n",
       "  </tbody>\n",
       "</table>\n",
       "</div>"
      ],
      "text/plain": [
       "                    title                                        ingredients  \\\n",
       "0  saucy shrimp casserole  [1/4  c. margarine, 1/4  c. flour, 2  c. milk,...   \n",
       "1     no-bake nut cookies  [1  c. firmly packed brown sugar, 1/2  c. evap...   \n",
       "2   jewell ball's chicken  [1 small  jar chipped beef, cut up, 4  boned c...   \n",
       "3             creamy corn  [2 (16 oz.)  pkg. frozen corn, 1 (8 oz.)  pkg....   \n",
       "4           chicken funny  [1  large whole chicken, 2 (10 1/2 oz.)  cans ...   \n",
       "\n",
       "                                          directions  \\\n",
       "0  [Make, cream, sauce, with, margarine, flour, m...   \n",
       "1  [In a heavy 2-quart saucepan, mix brown sugar,...   \n",
       "2  [Place chipped beef on bottom of baking dish.,...   \n",
       "3  [In a slow cooker, combine all ingredients. Co...   \n",
       "4  [Boil and debone chicken., Put bite size piece...   \n",
       "\n",
       "                                                link  \n",
       "0  http://www.cookbooks.com/Recipe-Details.aspx?i...  \n",
       "1  http://www.cookbooks.com/Recipe-Details.aspx?i...  \n",
       "2  http://www.cookbooks.com/Recipe-Details.aspx?i...  \n",
       "3  http://www.cookbooks.com/Recipe-Details.aspx?i...  \n",
       "4  http://www.cookbooks.com/Recipe-Details.aspx?i...  "
      ]
     },
     "execution_count": 11,
     "metadata": {},
     "output_type": "execute_result"
    }
   ],
   "source": [
    "dataset.head()"
   ]
  },
  {
   "cell_type": "markdown",
   "metadata": {},
   "source": [
    "## Transform list of directions and ingredients do json strings"
   ]
  },
  {
   "cell_type": "code",
   "execution_count": 12,
   "metadata": {},
   "outputs": [
    {
     "data": {
      "text/plain": [
       "['1/4  c. margarine',\n",
       " '1/4  c. flour',\n",
       " '2  c. milk',\n",
       " '1  tsp. salt',\n",
       " '1/2  tsp. Worcestershire sauce',\n",
       " '  dash of pepper',\n",
       " '8  oz. Cracker Barrel cheese, shredded',\n",
       " '6  hard boiled eggs',\n",
       " '1  lb. cooked shrimp']"
      ]
     },
     "execution_count": 12,
     "metadata": {},
     "output_type": "execute_result"
    }
   ],
   "source": [
    "list(dataset.head()['ingredients'])[0]"
   ]
  },
  {
   "cell_type": "code",
   "execution_count": 13,
   "metadata": {},
   "outputs": [],
   "source": [
    "## run it only once or get mistakes\n",
    "dataset.ingredients = dataset.ingredients.map(json.dumps)\n",
    "dataset.directions = dataset.directions.map(json.dumps)"
   ]
  },
  {
   "cell_type": "code",
   "execution_count": 14,
   "metadata": {},
   "outputs": [
    {
     "data": {
      "text/html": [
       "<div>\n",
       "<style scoped>\n",
       "    .dataframe tbody tr th:only-of-type {\n",
       "        vertical-align: middle;\n",
       "    }\n",
       "\n",
       "    .dataframe tbody tr th {\n",
       "        vertical-align: top;\n",
       "    }\n",
       "\n",
       "    .dataframe thead th {\n",
       "        text-align: right;\n",
       "    }\n",
       "</style>\n",
       "<table border=\"1\" class=\"dataframe\">\n",
       "  <thead>\n",
       "    <tr style=\"text-align: right;\">\n",
       "      <th></th>\n",
       "      <th>title</th>\n",
       "      <th>ingredients</th>\n",
       "      <th>directions</th>\n",
       "      <th>link</th>\n",
       "    </tr>\n",
       "  </thead>\n",
       "  <tbody>\n",
       "    <tr>\n",
       "      <td>0</td>\n",
       "      <td>saucy shrimp casserole</td>\n",
       "      <td>[\"1/4  c. margarine\", \"1/4  c. flour\", \"2  c. ...</td>\n",
       "      <td>[\"Make\", \"cream\", \"sauce\", \"with\", \"margarine,...</td>\n",
       "      <td>http://www.cookbooks.com/Recipe-Details.aspx?i...</td>\n",
       "    </tr>\n",
       "    <tr>\n",
       "      <td>1</td>\n",
       "      <td>no-bake nut cookies</td>\n",
       "      <td>[\"1  c. firmly packed brown sugar\", \"1/2  c. e...</td>\n",
       "      <td>[\"In a heavy 2-quart saucepan, mix brown sugar...</td>\n",
       "      <td>http://www.cookbooks.com/Recipe-Details.aspx?i...</td>\n",
       "    </tr>\n",
       "    <tr>\n",
       "      <td>2</td>\n",
       "      <td>jewell ball's chicken</td>\n",
       "      <td>[\"1 small  jar chipped beef, cut up\", \"4  bone...</td>\n",
       "      <td>[\"Place chipped beef on bottom of baking dish....</td>\n",
       "      <td>http://www.cookbooks.com/Recipe-Details.aspx?i...</td>\n",
       "    </tr>\n",
       "    <tr>\n",
       "      <td>3</td>\n",
       "      <td>creamy corn</td>\n",
       "      <td>[\"2 (16 oz.)  pkg. frozen corn\", \"1 (8 oz.)  p...</td>\n",
       "      <td>[\"In a slow cooker, combine all ingredients. C...</td>\n",
       "      <td>http://www.cookbooks.com/Recipe-Details.aspx?i...</td>\n",
       "    </tr>\n",
       "    <tr>\n",
       "      <td>4</td>\n",
       "      <td>chicken funny</td>\n",
       "      <td>[\"1  large whole chicken\", \"2 (10 1/2 oz.)  ca...</td>\n",
       "      <td>[\"Boil and debone chicken.\", \"Put bite size pi...</td>\n",
       "      <td>http://www.cookbooks.com/Recipe-Details.aspx?i...</td>\n",
       "    </tr>\n",
       "  </tbody>\n",
       "</table>\n",
       "</div>"
      ],
      "text/plain": [
       "                    title                                        ingredients  \\\n",
       "0  saucy shrimp casserole  [\"1/4  c. margarine\", \"1/4  c. flour\", \"2  c. ...   \n",
       "1     no-bake nut cookies  [\"1  c. firmly packed brown sugar\", \"1/2  c. e...   \n",
       "2   jewell ball's chicken  [\"1 small  jar chipped beef, cut up\", \"4  bone...   \n",
       "3             creamy corn  [\"2 (16 oz.)  pkg. frozen corn\", \"1 (8 oz.)  p...   \n",
       "4           chicken funny  [\"1  large whole chicken\", \"2 (10 1/2 oz.)  ca...   \n",
       "\n",
       "                                          directions  \\\n",
       "0  [\"Make\", \"cream\", \"sauce\", \"with\", \"margarine,...   \n",
       "1  [\"In a heavy 2-quart saucepan, mix brown sugar...   \n",
       "2  [\"Place chipped beef on bottom of baking dish....   \n",
       "3  [\"In a slow cooker, combine all ingredients. C...   \n",
       "4  [\"Boil and debone chicken.\", \"Put bite size pi...   \n",
       "\n",
       "                                                link  \n",
       "0  http://www.cookbooks.com/Recipe-Details.aspx?i...  \n",
       "1  http://www.cookbooks.com/Recipe-Details.aspx?i...  \n",
       "2  http://www.cookbooks.com/Recipe-Details.aspx?i...  \n",
       "3  http://www.cookbooks.com/Recipe-Details.aspx?i...  \n",
       "4  http://www.cookbooks.com/Recipe-Details.aspx?i...  "
      ]
     },
     "execution_count": 14,
     "metadata": {},
     "output_type": "execute_result"
    }
   ],
   "source": [
    "dataset.head()"
   ]
  },
  {
   "cell_type": "markdown",
   "metadata": {},
   "source": [
    "# Export"
   ]
  },
  {
   "cell_type": "code",
   "execution_count": 15,
   "metadata": {},
   "outputs": [],
   "source": [
    "version = '0.9.2'"
   ]
  },
  {
   "cell_type": "code",
   "execution_count": 16,
   "metadata": {},
   "outputs": [
    {
     "data": {
      "text/plain": [
       "['/home/wojtek/recipes/scraping/0-datasets/v-0.9.2/dataset-00.csv',\n",
       " '/home/wojtek/recipes/scraping/0-datasets/v-0.9.2/dataset-01.csv',\n",
       " '/home/wojtek/recipes/scraping/0-datasets/v-0.9.2/dataset-02.csv',\n",
       " '/home/wojtek/recipes/scraping/0-datasets/v-0.9.2/dataset-03.csv',\n",
       " '/home/wojtek/recipes/scraping/0-datasets/v-0.9.2/dataset-04.csv',\n",
       " '/home/wojtek/recipes/scraping/0-datasets/v-0.9.2/dataset-05.csv',\n",
       " '/home/wojtek/recipes/scraping/0-datasets/v-0.9.2/dataset-06.csv',\n",
       " '/home/wojtek/recipes/scraping/0-datasets/v-0.9.2/dataset-07.csv',\n",
       " '/home/wojtek/recipes/scraping/0-datasets/v-0.9.2/dataset-08.csv',\n",
       " '/home/wojtek/recipes/scraping/0-datasets/v-0.9.2/dataset-09.csv',\n",
       " '/home/wojtek/recipes/scraping/0-datasets/v-0.9.2/dataset-10.csv',\n",
       " '/home/wojtek/recipes/scraping/0-datasets/v-0.9.2/dataset-11.csv',\n",
       " '/home/wojtek/recipes/scraping/0-datasets/v-0.9.2/dataset-12.csv',\n",
       " '/home/wojtek/recipes/scraping/0-datasets/v-0.9.2/dataset-13.csv',\n",
       " '/home/wojtek/recipes/scraping/0-datasets/v-0.9.2/dataset-14.csv',\n",
       " '/home/wojtek/recipes/scraping/0-datasets/v-0.9.2/dataset-15.csv',\n",
       " '/home/wojtek/recipes/scraping/0-datasets/v-0.9.2/dataset-16.csv',\n",
       " '/home/wojtek/recipes/scraping/0-datasets/v-0.9.2/dataset-17.csv',\n",
       " '/home/wojtek/recipes/scraping/0-datasets/v-0.9.2/dataset-18.csv',\n",
       " '/home/wojtek/recipes/scraping/0-datasets/v-0.9.2/dataset-19.csv',\n",
       " '/home/wojtek/recipes/scraping/0-datasets/v-0.9.2/dataset-20.csv',\n",
       " '/home/wojtek/recipes/scraping/0-datasets/v-0.9.2/dataset-21.csv']"
      ]
     },
     "execution_count": 16,
     "metadata": {},
     "output_type": "execute_result"
    }
   ],
   "source": [
    "dataset.to_csv('./0-datasets/v-'+version+'/dataset-*.csv', index=False)"
   ]
  },
  {
   "cell_type": "code",
   "execution_count": 17,
   "metadata": {},
   "outputs": [
    {
     "data": {
      "text/plain": [
       "['/home/wojtek/recipes/scraping/0-datasets/v-0.9.2-single.csv']"
      ]
     },
     "execution_count": 17,
     "metadata": {},
     "output_type": "execute_result"
    }
   ],
   "source": [
    "dataset.to_csv('./0-datasets/v-'+version+'-single.csv', single_file=True, index=False)"
   ]
  }
 ],
 "metadata": {
  "kernelspec": {
   "display_name": "Python 3",
   "language": "python",
   "name": "python3"
  },
  "language_info": {
   "codemirror_mode": {
    "name": "ipython",
    "version": 3
   },
   "file_extension": ".py",
   "mimetype": "text/x-python",
   "name": "python",
   "nbconvert_exporter": "python",
   "pygments_lexer": "ipython3",
   "version": "3.7.7"
  }
 },
 "nbformat": 4,
 "nbformat_minor": 4
}
