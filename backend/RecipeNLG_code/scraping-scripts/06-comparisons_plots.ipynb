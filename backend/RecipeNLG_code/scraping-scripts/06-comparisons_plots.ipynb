{
 "cells": [
  {
   "cell_type": "code",
   "execution_count": 1,
   "metadata": {},
   "outputs": [],
   "source": [
    "import pandas as pd\n",
    "import dask.dataframe as dd\n",
    "import json\n",
    "\n",
    "import matplotlib\n",
    "from matplotlib.pyplot import hist\n",
    "from matplotlib.pyplot import boxplot\n",
    "import matplotlib.pyplot as plt\n",
    "import tikzplotlib\n",
    "\n",
    "%matplotlib inline"
   ]
  },
  {
   "cell_type": "code",
   "execution_count": 2,
   "metadata": {},
   "outputs": [],
   "source": [
    "def get_domain(url: str) -> str:\n",
    "    if '//' in url:\n",
    "        w = url.split('//')[1]\n",
    "    else:\n",
    "        w = url\n",
    "    return w.split('/')[0]\n",
    "\n",
    "assert get_domain('http://food.com/recipes') == 'food.com'"
   ]
  },
  {
   "cell_type": "markdown",
   "metadata": {},
   "source": [
    "# Recipe1M+"
   ]
  },
  {
   "cell_type": "code",
   "execution_count": 3,
   "metadata": {},
   "outputs": [],
   "source": [
    "recipes1M = dd.read_csv('0-datasets/rec1M/rec1M-*.csv')\n",
    "recipes1M = recipes1M.drop(['Unnamed: 0', 'id', 'partition'], axis=1)\n",
    "recipes1M = recipes1M.rename(columns={\"instructions\":\"directions\", \"url\":\"link\"})\n",
    "recipes1M.ingredients = recipes1M.ingredients.map(json.loads, meta=pd.Series([], dtype=object, name='ingredients'))\n",
    "recipes1M.directions = recipes1M.directions.map(json.loads, meta=pd.Series([], dtype=object, name='directions'))\n",
    "recipes1M.ingredients = recipes1M.ingredients.map(lambda x: list(map(lambda y: y['text'], x)), meta=pd.Series([], dtype=object, name='ingredients'))\n",
    "recipes1M.directions = recipes1M.directions.map(lambda x: list(map(lambda y: y['text'], x)), meta=pd.Series([], dtype=object, name='directions'))\n",
    "# rec1M_df = recipes1M.compute()\n",
    "# rec1M_df.head()"
   ]
  },
  {
   "cell_type": "raw",
   "metadata": {},
   "source": [
    "source = rec1M_df.link.map(get_domain)\n",
    "ingredients_count = rec1M_df.ingredients.map(len)\n",
    "directions_count = rec1M_df.directions.map(len)\n",
    "rec1M_df.insert(4, 'source', source)\n",
    "rec1M_df.insert(5, \"ingredients_count\", ingredients_count)\n",
    "rec1M_df.insert(6, \"directions_count\", directions_count)"
   ]
  },
  {
   "cell_type": "code",
   "execution_count": 4,
   "metadata": {},
   "outputs": [],
   "source": [
    "rec1M_df = pd.DataFrame(data = {\n",
    "    'page': recipes1M.link.compute().map(get_domain),\n",
    "    'ingredients_count': recipes1M.ingredients.map(len).compute(),\n",
    "    'directions_count': recipes1M.directions.map(len).compute()\n",
    "})"
   ]
  },
  {
   "cell_type": "code",
   "execution_count": 5,
   "metadata": {},
   "outputs": [
    {
     "data": {
      "text/html": [
       "<div>\n",
       "<style scoped>\n",
       "    .dataframe tbody tr th:only-of-type {\n",
       "        vertical-align: middle;\n",
       "    }\n",
       "\n",
       "    .dataframe tbody tr th {\n",
       "        vertical-align: top;\n",
       "    }\n",
       "\n",
       "    .dataframe thead th {\n",
       "        text-align: right;\n",
       "    }\n",
       "</style>\n",
       "<table border=\"1\" class=\"dataframe\">\n",
       "  <thead>\n",
       "    <tr style=\"text-align: right;\">\n",
       "      <th></th>\n",
       "      <th>page</th>\n",
       "      <th>ingredients_count</th>\n",
       "      <th>directions_count</th>\n",
       "    </tr>\n",
       "  </thead>\n",
       "  <tbody>\n",
       "    <tr>\n",
       "      <th>count</th>\n",
       "      <td>1029720.0</td>\n",
       "      <td>NaN</td>\n",
       "      <td>NaN</td>\n",
       "    </tr>\n",
       "    <tr>\n",
       "      <th>max</th>\n",
       "      <td>NaN</td>\n",
       "      <td>99.000000</td>\n",
       "      <td>167.000000</td>\n",
       "    </tr>\n",
       "    <tr>\n",
       "      <th>mean</th>\n",
       "      <td>NaN</td>\n",
       "      <td>9.328161</td>\n",
       "      <td>10.456821</td>\n",
       "    </tr>\n",
       "    <tr>\n",
       "      <th>median</th>\n",
       "      <td>NaN</td>\n",
       "      <td>9.000000</td>\n",
       "      <td>9.000000</td>\n",
       "    </tr>\n",
       "    <tr>\n",
       "      <th>min</th>\n",
       "      <td>NaN</td>\n",
       "      <td>1.000000</td>\n",
       "      <td>1.000000</td>\n",
       "    </tr>\n",
       "  </tbody>\n",
       "</table>\n",
       "</div>"
      ],
      "text/plain": [
       "             page  ingredients_count  directions_count\n",
       "count   1029720.0                NaN               NaN\n",
       "max           NaN          99.000000        167.000000\n",
       "mean          NaN           9.328161         10.456821\n",
       "median        NaN           9.000000          9.000000\n",
       "min           NaN           1.000000          1.000000"
      ]
     },
     "execution_count": 5,
     "metadata": {},
     "output_type": "execute_result"
    }
   ],
   "source": [
    "rec1M_df.agg({\n",
    "    'page': 'count',\n",
    "    'ingredients_count': ['min', 'mean', 'median', 'max'],\n",
    "    'directions_count': ['min', 'mean', 'median', 'max']\n",
    "})"
   ]
  },
  {
   "cell_type": "code",
   "execution_count": 6,
   "metadata": {},
   "outputs": [],
   "source": [
    "rec1M_ingr = list(rec1M_df.ingredients_count)\n",
    "rec1M_inst = list(rec1M_df.directions_count)"
   ]
  },
  {
   "cell_type": "markdown",
   "metadata": {},
   "source": [
    "# Gathered Data"
   ]
  },
  {
   "cell_type": "code",
   "execution_count": 7,
   "metadata": {},
   "outputs": [],
   "source": [
    "gathered = dd.read_csv('0-datasets/v-0.9.3-single.csv')\n",
    "gathered.ingredients = gathered.ingredients.map(json.loads, meta=pd.Series([], dtype=object, name='ingredients'))\n",
    "gathered.directions = gathered.directions.map(json.loads, meta=pd.Series([], dtype=object, name='directions'))\n",
    "# gathered = gathered.compute()\n",
    "# gathered.head()"
   ]
  },
  {
   "cell_type": "raw",
   "metadata": {},
   "source": [
    "source = gathered.link.map(get_domain)\n",
    "ingredients_count = gathered.ingredients.map(len)\n",
    "directions_count = gathered.directions.map(len)\n",
    "gathered.insert(4, 'source', source)\n",
    "gathered.insert(5, \"ingredients_count\", ingredients_count)\n",
    "gathered.insert(6, \"directions_count\", directions_count)"
   ]
  },
  {
   "cell_type": "code",
   "execution_count": 8,
   "metadata": {},
   "outputs": [],
   "source": [
    "gathered_df = pd.DataFrame(data = {\n",
    "    'page': gathered.link.compute().map(get_domain),\n",
    "    'ingredients_count': gathered.ingredients.map(len).compute(),\n",
    "    'directions_count': gathered.directions.map(len).compute()\n",
    "})"
   ]
  },
  {
   "cell_type": "code",
   "execution_count": 9,
   "metadata": {},
   "outputs": [
    {
     "data": {
      "text/html": [
       "<div>\n",
       "<style scoped>\n",
       "    .dataframe tbody tr th:only-of-type {\n",
       "        vertical-align: middle;\n",
       "    }\n",
       "\n",
       "    .dataframe tbody tr th {\n",
       "        vertical-align: top;\n",
       "    }\n",
       "\n",
       "    .dataframe thead th {\n",
       "        text-align: right;\n",
       "    }\n",
       "</style>\n",
       "<table border=\"1\" class=\"dataframe\">\n",
       "  <thead>\n",
       "    <tr style=\"text-align: right;\">\n",
       "      <th></th>\n",
       "      <th>page</th>\n",
       "      <th>ingredients_count</th>\n",
       "      <th>directions_count</th>\n",
       "    </tr>\n",
       "  </thead>\n",
       "  <tbody>\n",
       "    <tr>\n",
       "      <th>count</th>\n",
       "      <td>1727646.0</td>\n",
       "      <td>NaN</td>\n",
       "      <td>NaN</td>\n",
       "    </tr>\n",
       "    <tr>\n",
       "      <th>max</th>\n",
       "      <td>NaN</td>\n",
       "      <td>407.000000</td>\n",
       "      <td>107.000000</td>\n",
       "    </tr>\n",
       "    <tr>\n",
       "      <th>mean</th>\n",
       "      <td>NaN</td>\n",
       "      <td>8.578222</td>\n",
       "      <td>5.220961</td>\n",
       "    </tr>\n",
       "    <tr>\n",
       "      <th>median</th>\n",
       "      <td>NaN</td>\n",
       "      <td>8.000000</td>\n",
       "      <td>5.000000</td>\n",
       "    </tr>\n",
       "    <tr>\n",
       "      <th>min</th>\n",
       "      <td>NaN</td>\n",
       "      <td>1.000000</td>\n",
       "      <td>1.000000</td>\n",
       "    </tr>\n",
       "  </tbody>\n",
       "</table>\n",
       "</div>"
      ],
      "text/plain": [
       "             page  ingredients_count  directions_count\n",
       "count   1727646.0                NaN               NaN\n",
       "max           NaN         407.000000        107.000000\n",
       "mean          NaN           8.578222          5.220961\n",
       "median        NaN           8.000000          5.000000\n",
       "min           NaN           1.000000          1.000000"
      ]
     },
     "execution_count": 9,
     "metadata": {},
     "output_type": "execute_result"
    }
   ],
   "source": [
    "gathered_df.agg({\n",
    "    'page': 'count',\n",
    "    'ingredients_count': ['min', 'mean', 'median', 'max'],\n",
    "    'directions_count': ['min', 'mean', 'median', 'max']\n",
    "})"
   ]
  },
  {
   "cell_type": "code",
   "execution_count": 10,
   "metadata": {},
   "outputs": [],
   "source": [
    "gathered_ingr = list(gathered_df.ingredients_count)\n",
    "gathered_inst = list(gathered_df.directions_count)"
   ]
  },
  {
   "cell_type": "raw",
   "metadata": {},
   "source": [
    "cookbooks_ingr = list(gathered.loc[gathered.source == 'www.cookbooks.com'].ingredients_count)\n",
    "rest_ingr = list(gathered.loc[gathered.source != 'www.cookbooks.com'].ingredients_count)\n",
    "cookbooks_inst = list(gathered.loc[gathered.source == 'www.cookbooks.com'].directions_count)\n",
    "rest_inst = list(gathered.loc[gathered.source != 'www.cookbooks.com'].directions_count)"
   ]
  },
  {
   "cell_type": "raw",
   "metadata": {},
   "source": [
    "gathered.loc[gathered.source == 'www.cookbooks.com'].agg({\n",
    "    'title': 'count',\n",
    "    'ingredients_count': ['min', 'mean', 'median', 'max'],\n",
    "    'directions_count': ['min', 'mean', 'median', 'max']\n",
    "})"
   ]
  },
  {
   "cell_type": "raw",
   "metadata": {},
   "source": [
    "gathered.loc[gathered.source != 'www.cookbooks.com'].agg({\n",
    "    'title': 'count',\n",
    "    'ingredients_count': ['min', 'mean', 'median', 'max'],\n",
    "    'directions_count': ['min', 'mean', 'median', 'max']\n",
    "})"
   ]
  },
  {
   "cell_type": "markdown",
   "metadata": {},
   "source": [
    "# Concatenated datasets - deduplicted"
   ]
  },
  {
   "cell_type": "raw",
   "metadata": {},
   "source": [
    "# no RAM :("
   ]
  },
  {
   "cell_type": "code",
   "execution_count": 11,
   "metadata": {},
   "outputs": [],
   "source": [
    "total = dd.read_csv('0-datasets/v-1.1.1-single-h.csv')\n",
    "total.ingredients = total.ingredients.map(json.loads, meta=pd.Series([], dtype=object, name='ingredients'))\n",
    "total.directions = total.directions.map(json.loads, meta=pd.Series([], dtype=object, name='directions'))\n",
    "# total = total.compute()\n",
    "# total.head()"
   ]
  },
  {
   "cell_type": "code",
   "execution_count": 12,
   "metadata": {},
   "outputs": [],
   "source": [
    "novel = pd.DataFrame(data = {\n",
    "    'page': total.link.compute().map(get_domain),\n",
    "    'ingredients_count': total.ingredients.map(len).compute(),\n",
    "    'directions_count': total.directions.map(len).compute()\n",
    "})"
   ]
  },
  {
   "cell_type": "code",
   "execution_count": 13,
   "metadata": {},
   "outputs": [
    {
     "data": {
      "text/html": [
       "<div>\n",
       "<style scoped>\n",
       "    .dataframe tbody tr th:only-of-type {\n",
       "        vertical-align: middle;\n",
       "    }\n",
       "\n",
       "    .dataframe tbody tr th {\n",
       "        vertical-align: top;\n",
       "    }\n",
       "\n",
       "    .dataframe thead th {\n",
       "        text-align: right;\n",
       "    }\n",
       "</style>\n",
       "<table border=\"1\" class=\"dataframe\">\n",
       "  <thead>\n",
       "    <tr style=\"text-align: right;\">\n",
       "      <th></th>\n",
       "      <th>page</th>\n",
       "      <th>ingredients_count</th>\n",
       "      <th>directions_count</th>\n",
       "    </tr>\n",
       "  </thead>\n",
       "  <tbody>\n",
       "    <tr>\n",
       "      <th>count</th>\n",
       "      <td>2231142.0</td>\n",
       "      <td>NaN</td>\n",
       "      <td>NaN</td>\n",
       "    </tr>\n",
       "    <tr>\n",
       "      <th>max</th>\n",
       "      <td>NaN</td>\n",
       "      <td>407.000000</td>\n",
       "      <td>164.000000</td>\n",
       "    </tr>\n",
       "    <tr>\n",
       "      <th>mean</th>\n",
       "      <td>NaN</td>\n",
       "      <td>8.727042</td>\n",
       "      <td>6.613628</td>\n",
       "    </tr>\n",
       "    <tr>\n",
       "      <th>median</th>\n",
       "      <td>NaN</td>\n",
       "      <td>8.000000</td>\n",
       "      <td>5.000000</td>\n",
       "    </tr>\n",
       "    <tr>\n",
       "      <th>min</th>\n",
       "      <td>NaN</td>\n",
       "      <td>1.000000</td>\n",
       "      <td>1.000000</td>\n",
       "    </tr>\n",
       "  </tbody>\n",
       "</table>\n",
       "</div>"
      ],
      "text/plain": [
       "             page  ingredients_count  directions_count\n",
       "count   2231142.0                NaN               NaN\n",
       "max           NaN         407.000000        164.000000\n",
       "mean          NaN           8.727042          6.613628\n",
       "median        NaN           8.000000          5.000000\n",
       "min           NaN           1.000000          1.000000"
      ]
     },
     "execution_count": 13,
     "metadata": {},
     "output_type": "execute_result"
    }
   ],
   "source": [
    "novel.agg({\n",
    "    'page': 'count',\n",
    "    'ingredients_count': ['min', 'mean', 'median', 'max'],\n",
    "    'directions_count': ['min', 'mean', 'median', 'max']\n",
    "})"
   ]
  },
  {
   "cell_type": "code",
   "execution_count": 14,
   "metadata": {},
   "outputs": [
    {
     "data": {
      "text/html": [
       "<div>\n",
       "<style scoped>\n",
       "    .dataframe tbody tr th:only-of-type {\n",
       "        vertical-align: middle;\n",
       "    }\n",
       "\n",
       "    .dataframe tbody tr th {\n",
       "        vertical-align: top;\n",
       "    }\n",
       "\n",
       "    .dataframe thead tr th {\n",
       "        text-align: left;\n",
       "    }\n",
       "\n",
       "    .dataframe thead tr:last-of-type th {\n",
       "        text-align: right;\n",
       "    }\n",
       "</style>\n",
       "<table border=\"1\" class=\"dataframe\">\n",
       "  <thead>\n",
       "    <tr>\n",
       "      <th></th>\n",
       "      <th>page</th>\n",
       "      <th colspan=\"4\" halign=\"left\">ingredients_count</th>\n",
       "      <th colspan=\"4\" halign=\"left\">directions_count</th>\n",
       "    </tr>\n",
       "    <tr>\n",
       "      <th></th>\n",
       "      <th>count</th>\n",
       "      <th>min</th>\n",
       "      <th>mean</th>\n",
       "      <th>median</th>\n",
       "      <th>max</th>\n",
       "      <th>min</th>\n",
       "      <th>mean</th>\n",
       "      <th>median</th>\n",
       "      <th>max</th>\n",
       "    </tr>\n",
       "    <tr>\n",
       "      <th>source</th>\n",
       "      <th></th>\n",
       "      <th></th>\n",
       "      <th></th>\n",
       "      <th></th>\n",
       "      <th></th>\n",
       "      <th></th>\n",
       "      <th></th>\n",
       "      <th></th>\n",
       "      <th></th>\n",
       "    </tr>\n",
       "  </thead>\n",
       "  <tbody>\n",
       "    <tr>\n",
       "      <th>Gathered</th>\n",
       "      <td>1643098</td>\n",
       "      <td>1</td>\n",
       "      <td>8.552038</td>\n",
       "      <td>8</td>\n",
       "      <td>407</td>\n",
       "      <td>1</td>\n",
       "      <td>5.220170</td>\n",
       "      <td>5</td>\n",
       "      <td>107</td>\n",
       "    </tr>\n",
       "    <tr>\n",
       "      <th>Recipes1M</th>\n",
       "      <td>588044</td>\n",
       "      <td>1</td>\n",
       "      <td>9.216037</td>\n",
       "      <td>9</td>\n",
       "      <td>99</td>\n",
       "      <td>1</td>\n",
       "      <td>10.507193</td>\n",
       "      <td>9</td>\n",
       "      <td>164</td>\n",
       "    </tr>\n",
       "  </tbody>\n",
       "</table>\n",
       "</div>"
      ],
      "text/plain": [
       "              page ingredients_count                       directions_count  \\\n",
       "             count               min      mean median  max              min   \n",
       "source                                                                        \n",
       "Gathered   1643098                 1  8.552038      8  407                1   \n",
       "Recipes1M   588044                 1  9.216037      9   99                1   \n",
       "\n",
       "                                  \n",
       "                mean median  max  \n",
       "source                            \n",
       "Gathered    5.220170      5  107  \n",
       "Recipes1M  10.507193      9  164  "
      ]
     },
     "execution_count": 14,
     "metadata": {},
     "output_type": "execute_result"
    }
   ],
   "source": [
    "pd.DataFrame(data = {\n",
    "    'source': total.source.compute(),\n",
    "    'page': total.link.compute().map(get_domain),\n",
    "    'ingredients_count': total.ingredients.map(len).compute(),\n",
    "    'directions_count': total.directions.map(len).compute()\n",
    "}).groupby('source').agg({\n",
    "    'page': 'count',\n",
    "    'ingredients_count': ['min', 'mean', 'median', 'max'],\n",
    "    'directions_count': ['min', 'mean', 'median', 'max']\n",
    "})"
   ]
  },
  {
   "cell_type": "markdown",
   "metadata": {},
   "source": [
    "# Plot"
   ]
  },
  {
   "cell_type": "code",
   "execution_count": 15,
   "metadata": {},
   "outputs": [
    {
     "data": {
      "image/png": "[encoded data removed]",
      "text/plain": [
       "<Figure size 360x432 with 1 Axes>"
      ]
     },
     "metadata": {
      "needs_background": "light"
     },
     "output_type": "display_data"
    }
   ],
   "source": [
    "data = [\n",
    "    rec1M_ingr,\n",
    "    gathered_ingr,\n",
    "    rec1M_inst,\n",
    "    gathered_inst,\n",
    "]\n",
    "\n",
    "fig, ax1 = plt.subplots(figsize=(5, 6))\n",
    "fig.canvas.set_window_title('A Boxplot Example')\n",
    "# fig.subplots_adjust(left=0.125, right=1, top=0.9, bottom=0.25)\n",
    "\n",
    "bp = ax1.boxplot(data, notch=0, sym='', vert=1, whis=1.5, showmeans=True)\n",
    "# plt.setp(bp['boxes'], color='black')\n",
    "# plt.setp(bp['whiskers'], color='black')\n",
    "# plt.setp(bp['fliers'], color='red', marker='+')\n",
    "\n",
    "# Add a horizontal grid to the plot, but make it very light in color\n",
    "# so we can use it for reading data values but not be distracting\n",
    "ax1.yaxis.grid(True, linestyle='-', which='major', color='lightgrey',alpha=0.5)\n",
    "\n",
    "# Hide these grid behind plot objects\n",
    "ax1.set_axisbelow(True)\n",
    "ax1.set_title('Comparison of counts distribution\\nbetween datasets')\n",
    "# ax1.set_xlabel('Ditribution')\n",
    "ax1.set_ylabel('Number of lines')\n",
    "\n",
    "ax1.set_xticklabels(['Recipes1M+\\ningredients', 'Gathered\\ningredients', 'Recipes1M+\\ninstructions', 'Gathered\\ninstructions'])\n",
    "\n",
    "plt.savefig('distr-comparison.png', dpi=600)\n",
    "tikzplotlib.save('distr-comparison.tex')\n",
    "plt.show()"
   ]
  },
  {
   "cell_type": "code",
   "execution_count": 16,
   "metadata": {},
   "outputs": [
    {
     "data": {
      "image/png": "[encoded data removed]",
      "text/plain": [
       "<Figure size 360x432 with 1 Axes>"
      ]
     },
     "metadata": {
      "needs_background": "light"
     },
     "output_type": "display_data"
    }
   ],
   "source": [
    "data = [\n",
    "    rec1M_ingr,\n",
    "    gathered_ingr,\n",
    "    list(novel.ingredients_count),\n",
    "    rec1M_inst,\n",
    "    gathered_inst,\n",
    "    list(novel.directions_count),\n",
    "]\n",
    "\n",
    "# data.reverse()\n",
    "\n",
    "fig, ax1 = plt.subplots(figsize=(5, 6))\n",
    "fig.canvas.set_window_title('A Boxplot Example')\n",
    "# fig.subplots_adjust(left=0.125, right=1, top=0.9, bottom=0.25)\n",
    "\n",
    "bp = ax1.boxplot(data, notch=0, sym='', vert=0, whis=1.5, showmeans=True)\n",
    "# plt.setp(bp['boxes'], color='black')\n",
    "# plt.setp(bp['whiskers'], color='black')\n",
    "# plt.setp(bp['fliers'], color='red', marker='+')\n",
    "\n",
    "# Add a horizontal grid to the plot, but make it very light in color\n",
    "# so we can use it for reading data values but not be distracting\n",
    "ax1.xaxis.grid(True, linestyle='-', which='major', color='lightgrey',alpha=0.5)\n",
    "\n",
    "# Hide these grid behind plot objects\n",
    "ax1.set_axisbelow(True)\n",
    "# ax1.set_title('Comparison of counts distribution\\nbetween datasets')\n",
    "# ax1.set_xlabel('Ditribution')\n",
    "ax1.set_xlabel('Number of lines')\n",
    "\n",
    "ax1.set_yticklabels(['Recipes1M+\\ningredients', 'Gathered\\ningredients','Novel\\ningredients', \n",
    "                     'Recipes1M+\\ninstructions', 'Gathered\\ninstructions', 'Novel\\ninstructions'])\n",
    "\n",
    "plt.savefig('distr-comparison-horizontal.png', dpi=600)\n",
    "tikzplotlib.save('distr-comparison-horizontal.tex')\n",
    "plt.show()"
   ]
  },
  {
   "cell_type": "raw",
   "metadata": {},
   "source": [
    "data = [\n",
    "    cookbooks_ingr,\n",
    "    rest_ingr,\n",
    "    cookbooks_inst,\n",
    "    rest_inst,\n",
    "]\n",
    "\n",
    "fig, ax1 = plt.subplots(figsize=(4, 6))\n",
    "fig.canvas.set_window_title('A Boxplot Example')\n",
    "fig.subplots_adjust(left=0.075, right=0.95, top=0.9, bottom=0.25)\n",
    "\n",
    "bp = ax1.boxplot(data, notch=0, sym='', vert=1, whis=1.5, showmeans=True)\n",
    "# plt.setp(bp['boxes'], color='black')\n",
    "# plt.setp(bp['whiskers'], color='black')\n",
    "# plt.setp(bp['fliers'], color='red', marker='+')\n",
    "\n",
    "# Add a horizontal grid to the plot, but make it very light in color\n",
    "# so we can use it for reading data values but not be distracting\n",
    "ax1.yaxis.grid(True, linestyle='-', which='major', color='lightgrey',\n",
    "               alpha=0.5)\n",
    "\n",
    "# Hide these grid behind plot objects\n",
    "ax1.set_axisbelow(True)\n",
    "ax1.set_title('Comparison of counts distribution\\nbetween sources in gathered datasets')\n",
    "# ax1.set_xlabel('Ditribution')\n",
    "ax1.set_ylabel('Number of lines')\n",
    "\n",
    "ax1.set_xticklabels(['Cookbooks\\ningredients', 'Rest\\ningredients', 'Cookbooks\\ninstructions', 'Rest\\ninstructions'])\n",
    "\n",
    "plt.show()"
   ]
  }
 ],
 "metadata": {
  "kernelspec": {
   "display_name": "Python 3",
   "language": "python",
   "name": "python3"
  },
  "language_info": {
   "codemirror_mode": {
    "name": "ipython",
    "version": 3
   },
   "file_extension": ".py",
   "mimetype": "text/x-python",
   "name": "python",
   "nbconvert_exporter": "python",
   "pygments_lexer": "ipython3",
   "version": "3.7.7"
  }
 },
 "nbformat": 4,
 "nbformat_minor": 4
}
