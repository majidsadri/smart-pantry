{
 "cells": [
  {
   "cell_type": "code",
   "execution_count": 1,
   "metadata": {},
   "outputs": [],
   "source": [
    "import pandas as pd\n",
    "import matplotlib.pyplot as plt\n",
    "import tikzplotlib"
   ]
  },
  {
   "cell_type": "code",
   "execution_count": 2,
   "metadata": {},
   "outputs": [
    {
     "data": {
      "text/plain": [
       "(700282, 5)"
      ]
     },
     "execution_count": 2,
     "metadata": {},
     "output_type": "execute_result"
    }
   ],
   "source": [
    "df = pd.read_csv('train-positive-pairs.csv')\n",
    "df.shape"
   ]
  },
  {
   "cell_type": "code",
   "execution_count": 3,
   "metadata": {},
   "outputs": [],
   "source": [
    "# check if there are only two records linked to each link\n",
    "assert df.groupby('link').count().title.map(lambda x: x == 2).all()"
   ]
  },
  {
   "cell_type": "code",
   "execution_count": 4,
   "metadata": {},
   "outputs": [],
   "source": [
    "# check if records linked to aech link are from different dataser\n",
    "assert df.groupby('link').source.apply(tuple).map(lambda x: x[0] != x[1]).all()"
   ]
  },
  {
   "cell_type": "code",
   "execution_count": 5,
   "metadata": {},
   "outputs": [],
   "source": [
    "df['i'] = df.index\n",
    "true_pairs = set(df.groupby('link').i.apply(tuple))\n",
    "# true_pairs"
   ]
  },
  {
   "cell_type": "code",
   "execution_count": 6,
   "metadata": {},
   "outputs": [],
   "source": [
    "# check if order of id's is valid\n",
    "assert df.groupby('link').i.apply(tuple).map(lambda x: x[0] < x[1]).all()"
   ]
  },
  {
   "cell_type": "code",
   "execution_count": 7,
   "metadata": {},
   "outputs": [
    {
     "name": "stderr",
     "output_type": "stream",
     "text": [
      "/home/wojtek/.local/lib/python3.7/site-packages/numpy/lib/arraysetops.py:568: FutureWarning: elementwise comparison failed; returning scalar instead, but in the future will perform elementwise comparison\n",
      "  mask |= (ar1 == a)\n"
     ]
    }
   ],
   "source": [
    "sim = pd.read_csv('sim-pairs-60.csv', index_col=0)"
   ]
  },
  {
   "cell_type": "code",
   "execution_count": 8,
   "metadata": {},
   "outputs": [
    {
     "data": {
      "text/plain": [
       "[(32, 16584), (32, 18745), (32, 18764), (39, 10404), (39, 11522)]"
      ]
     },
     "execution_count": 8,
     "metadata": {},
     "output_type": "execute_result"
    }
   ],
   "source": [
    "def index_pairs_from_df(dataframe):\n",
    "    result = []\n",
    "    for row in dataframe.itertuples(False, None):\n",
    "#         print(row)\n",
    "        result.append((row[0], row[1]))\n",
    "        \n",
    "    return result\n",
    "index_pairs_from_df(sim.head())"
   ]
  },
  {
   "cell_type": "code",
   "execution_count": 9,
   "metadata": {},
   "outputs": [
    {
     "data": {
      "text/html": [
       "<div>\n",
       "<style scoped>\n",
       "    .dataframe tbody tr th:only-of-type {\n",
       "        vertical-align: middle;\n",
       "    }\n",
       "\n",
       "    .dataframe tbody tr th {\n",
       "        vertical-align: top;\n",
       "    }\n",
       "\n",
       "    .dataframe thead th {\n",
       "        text-align: right;\n",
       "    }\n",
       "</style>\n",
       "<table border=\"1\" class=\"dataframe\">\n",
       "  <thead>\n",
       "    <tr style=\"text-align: right;\">\n",
       "      <th></th>\n",
       "      <th>I1</th>\n",
       "      <th>I2</th>\n",
       "      <th>similarity</th>\n",
       "    </tr>\n",
       "  </thead>\n",
       "  <tbody>\n",
       "    <tr>\n",
       "      <th>7483</th>\n",
       "      <td>8461</td>\n",
       "      <td>124894</td>\n",
       "      <td>1.0</td>\n",
       "    </tr>\n",
       "    <tr>\n",
       "      <th>13367</th>\n",
       "      <td>3276</td>\n",
       "      <td>224721</td>\n",
       "      <td>1.0</td>\n",
       "    </tr>\n",
       "    <tr>\n",
       "      <th>13581</th>\n",
       "      <td>6997</td>\n",
       "      <td>225183</td>\n",
       "      <td>1.0</td>\n",
       "    </tr>\n",
       "    <tr>\n",
       "      <th>16501</th>\n",
       "      <td>6025</td>\n",
       "      <td>278222</td>\n",
       "      <td>1.0</td>\n",
       "    </tr>\n",
       "    <tr>\n",
       "      <th>20170</th>\n",
       "      <td>1791</td>\n",
       "      <td>355504</td>\n",
       "      <td>1.0</td>\n",
       "    </tr>\n",
       "  </tbody>\n",
       "</table>\n",
       "</div>"
      ],
      "text/plain": [
       "         I1      I2  similarity\n",
       "7483   8461  124894         1.0\n",
       "13367  3276  224721         1.0\n",
       "13581  6997  225183         1.0\n",
       "16501  6025  278222         1.0\n",
       "20170  1791  355504         1.0"
      ]
     },
     "execution_count": 9,
     "metadata": {},
     "output_type": "execute_result"
    }
   ],
   "source": [
    "sim.loc[sim.similarity == 1].head()"
   ]
  },
  {
   "cell_type": "code",
   "execution_count": 10,
   "metadata": {},
   "outputs": [
    {
     "name": "stdout",
     "output_type": "stream",
     "text": [
      "False (8461, 124894)\n",
      "False (3276, 224721)\n",
      "False (6997, 225183)\n",
      "False (6025, 278222)\n",
      "True (1791, 355504)\n"
     ]
    }
   ],
   "source": [
    "for pair in index_pairs_from_df(sim.loc[sim.similarity == 1].head()):\n",
    "    print(pair in true_pairs, pair)"
   ]
  },
  {
   "cell_type": "code",
   "execution_count": 11,
   "metadata": {
    "scrolled": true
   },
   "outputs": [
    {
     "name": "stdout",
     "output_type": "stream",
     "text": [
      "----------------------------\n",
      "title                                     Sweet And Sour Lentils\n",
      "ingredients    [\"1 1/2 cups brown lentils\", \"2 cups unsweeten...\n",
      "directions     [\"Rinse the lentils. Combine them in a saucepa...\n",
      "link           www.food.com/recipe/sweet-and-sour-lentils-444615\n",
      "source                                                  Gathered\n",
      "i                                                           8461\n",
      "Name: 8461, dtype: object\n",
      "title                                     Sweet And Sour Lentils\n",
      "ingredients    [\"1 1/2 cups brown lentils\", \"2 cups unsweeten...\n",
      "directions     [\"Rinse the lentils. Combine them in a saucepa...\n",
      "link           www.food.com/recipe/sweet-and-sour-lentils-430560\n",
      "source                                                  Gathered\n",
      "i                                                         124894\n",
      "Name: 124894, dtype: object\n",
      "----------------------------\n",
      "title                                Simple Seasoned Black Beans\n",
      "ingredients    [\"1 (16 ounce) can black beans\", \"1 small onio...\n",
      "directions     [\"In a medium saucepan, combine beans, onion, ...\n",
      "link           www.food.com/recipe/simple-seasoned-black-bean...\n",
      "source                                                  Gathered\n",
      "i                                                           3276\n",
      "Name: 3276, dtype: object\n",
      "title                               Easy, Delicious Black Beans!\n",
      "ingredients    [\"1 (16 ounce) can black beans\", \"1 small onio...\n",
      "directions     [\"In a medium saucepan, combine beans, onion, ...\n",
      "link           www.food.com/recipe/easy-delicious-black-beans...\n",
      "source                                                  Gathered\n",
      "i                                                         224721\n",
      "Name: 224721, dtype: object\n",
      "----------------------------\n",
      "title                                  Awesome Blueberry Muffins\n",
      "ingredients    [\"1 1/2 cups all-purpose flour\", \"3/4 cup whit...\n",
      "directions     [\"Preheat oven to 400 degrees F (200 degrees C...\n",
      "link           www.food.com/recipe/awesome-blueberry-muffins-...\n",
      "source                                                  Gathered\n",
      "i                                                           6997\n",
      "Name: 6997, dtype: object\n",
      "title                               To Die For Blueberry Muffins\n",
      "ingredients    [\"1 1/2 cups all-purpose flour\", \"3/4 cup whit...\n",
      "directions     [\"Preheat oven to 400 degrees F (200 degrees C...\n",
      "link           www.food.com/recipe/to-die-for-blueberry-muffi...\n",
      "source                                                  Gathered\n",
      "i                                                         225183\n",
      "Name: 225183, dtype: object\n",
      "----------------------------\n",
      "title                                        Sweet White Sangria\n",
      "ingredients    [\"3 cups pineapple juice\", \"1 cup white grape ...\n",
      "directions     [\"Combine first 5 ingredients in a large pitch...\n",
      "link               www.food.com/recipe/sweet-white-sangria-38926\n",
      "source                                                  Gathered\n",
      "i                                                           6025\n",
      "Name: 6025, dtype: object\n",
      "title                                   Passionate White Sangria\n",
      "ingredients    [\"3 cups pineapple juice\", \"1 cup white grape ...\n",
      "directions     [\"Combine first 5 ingredients in a large pitch...\n",
      "link           www.food.com/recipe/passionate-white-sangria-2...\n",
      "source                                                  Gathered\n",
      "i                                                         278222\n",
      "Name: 278222, dtype: object\n",
      "----------------------------\n",
      "title                                  Chocolate Covered Peanuts\n",
      "ingredients    [\"2 jars salted peanuts\", \"4 packages milk cho...\n",
      "directions     [\"Melt chocolate over low heat until smooth.\",...\n",
      "link           www.food.com/recipe/chocolate-covered-peanuts-...\n",
      "source                                                  Gathered\n",
      "i                                                           1791\n",
      "Name: 1791, dtype: object\n",
      "title                                  Chocolate Covered Peanuts\n",
      "ingredients    [\"2 jars salted peanuts\", \"4 packages milk cho...\n",
      "directions     [\"Melt chocolate over low heat until smooth.\",...\n",
      "link           www.food.com/recipe/chocolate-covered-peanuts-...\n",
      "source                                                 Recipes1M\n",
      "i                                                         355504\n",
      "Name: 355504, dtype: object\n"
     ]
    }
   ],
   "source": [
    "# small manual checkup\n",
    "for p1, p2 in index_pairs_from_df(sim.loc[sim.similarity == 1].head()):\n",
    "    print('----------------------------')\n",
    "    print(df.iloc[p1])\n",
    "    print(df.iloc[p2])"
   ]
  },
  {
   "cell_type": "code",
   "execution_count": 12,
   "metadata": {},
   "outputs": [],
   "source": [
    "def precision(true_pairs: set, selected_pairs: set):\n",
    "    return len(true_pairs.intersection(selected_pairs))/len(selected_pairs)\n",
    "\n",
    "assert precision(set([1,2]), set([1,2,3,4,5])) == 0.4"
   ]
  },
  {
   "cell_type": "code",
   "execution_count": 13,
   "metadata": {},
   "outputs": [],
   "source": [
    "def recall(true_pairs: set, selected_pairs: set):\n",
    "    return len(true_pairs.intersection(selected_pairs))/len(true_pairs)\n",
    "\n",
    "assert recall(set([1,2]), set([1,2,3,4,5])) == 1"
   ]
  },
  {
   "cell_type": "code",
   "execution_count": 14,
   "metadata": {},
   "outputs": [
    {
     "data": {
      "text/plain": [
       "(0.4, 1.0, 0.5714285714285715)"
      ]
     },
     "execution_count": 14,
     "metadata": {},
     "output_type": "execute_result"
    }
   ],
   "source": [
    "def get_prec_recall_f1(true_pairs: set, selected_pairs: set):\n",
    "    prec = precision(true_pairs, selected_pairs)\n",
    "    rec = recall(true_pairs, selected_pairs)\n",
    "    f1 = 2*prec*rec/(prec+rec)\n",
    "    return (prec, rec, f1)\n",
    "\n",
    "get_prec_recall_f1(set([1,2]), set([1,2,3,4,5]))"
   ]
  },
  {
   "cell_type": "code",
   "execution_count": 15,
   "metadata": {},
   "outputs": [],
   "source": [
    "result = []\n",
    "for i in range(0, 41, 1):\n",
    "    treshold = 0.6 + i*0.01\n",
    "    selected = set(index_pairs_from_df(sim.loc[sim.similarity >= treshold]))\n",
    "    tup = get_prec_recall_f1(true_pairs, selected)\n",
    "    result.append((treshold, ) + tup)"
   ]
  },
  {
   "cell_type": "code",
   "execution_count": 16,
   "metadata": {},
   "outputs": [
    {
     "data": {
      "text/plain": [
       "[(0.8899999999999999,\n",
       "  0.9531922500446901,\n",
       "  0.9898726513033321,\n",
       "  0.9711862317094357),\n",
       " (0.8999999999999999,\n",
       "  0.9579156484298372,\n",
       "  0.9873993619713202,\n",
       "  0.9724340736844622),\n",
       " (0.9099999999999999,\n",
       "  0.9624861383068762,\n",
       "  0.9840921228876367,\n",
       "  0.9731692231219163),\n",
       " (0.9199999999999999,\n",
       "  0.9668677925959343,\n",
       "  0.9793740236076324,\n",
       "  0.9730807266061398),\n",
       " (0.9299999999999999,\n",
       "  0.9711378796783968,\n",
       "  0.9721169471727105,\n",
       "  0.9716271667844172),\n",
       " (0.94, 0.975382689649777, 0.9614041200544924, 0.9683429603718875),\n",
       " (0.95, 0.9793904553064763, 0.9439340151538952, 0.9613354159213271)]"
      ]
     },
     "execution_count": 16,
     "metadata": {},
     "output_type": "execute_result"
    }
   ],
   "source": [
    "result[29:36]"
   ]
  },
  {
   "cell_type": "code",
   "execution_count": 17,
   "metadata": {},
   "outputs": [],
   "source": [
    "# pivot the result\n",
    "tre = []\n",
    "pre = []\n",
    "rec = []\n",
    "f1 = []\n",
    "for t, p, r, f in result[::2]:\n",
    "    tre.append(t)\n",
    "    pre.append(p)\n",
    "    rec.append(r)\n",
    "    f1.append(f)"
   ]
  },
  {
   "cell_type": "code",
   "execution_count": 18,
   "metadata": {},
   "outputs": [
    {
     "data": {
      "image/png": "[encoded data removed]",
      "text/plain": [
       "<Figure size 432x288 with 1 Axes>"
      ]
     },
     "metadata": {
      "needs_background": "light"
     },
     "output_type": "display_data"
    }
   ],
   "source": [
    "fig, ax = plt.subplots()\n",
    "\n",
    "pre_line = ax.plot(tre, pre, label='Precision', linestyle='dashed', marker='.')\n",
    "rec_line = ax.plot(tre, rec, label='Recall', linestyle='dotted', marker='.')\n",
    "f1_line = ax.plot(tre, f1, label=\"F-measure\", linestyle='solid', marker='.')\n",
    "\n",
    "ax.yaxis.grid(True, linestyle='-', which='major', color='lightgrey',alpha=0.5)\n",
    "ax.xaxis.grid(True, linestyle='-', which='major', color='lightgrey',alpha=0.5)\n",
    "\n",
    "ax.set_ylabel('Value')\n",
    "ax.set_xlabel('Treshold')\n",
    "\n",
    "plt.axvline(x=0.92, color='k', linestyle='--', label='Treshold=0.92')\n",
    "\n",
    "ax.legend()\n",
    "plt.savefig('hyperparam-cosine-sim-treshold.png', dpi=600)\n",
    "tikzplotlib.save('hyperparam-cosine-sim-treshold.tex')\n",
    "plt.show()"
   ]
  }
 ],
 "metadata": {
  "kernelspec": {
   "display_name": "Python 3",
   "language": "python",
   "name": "python3"
  },
  "language_info": {
   "codemirror_mode": {
    "name": "ipython",
    "version": 3
   },
   "file_extension": ".py",
   "mimetype": "text/x-python",
   "name": "python",
   "nbconvert_exporter": "python",
   "pygments_lexer": "ipython3",
   "version": "3.7.7"
  }
 },
 "nbformat": 4,
 "nbformat_minor": 4
}
