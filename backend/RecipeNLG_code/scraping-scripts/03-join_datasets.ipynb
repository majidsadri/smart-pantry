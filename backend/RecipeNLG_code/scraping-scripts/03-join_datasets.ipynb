{
 "cells": [
  {
   "cell_type": "code",
   "execution_count": 1,
   "metadata": {},
   "outputs": [],
   "source": [
    "import pandas as pd\n",
    "import dask.dataframe as dd\n",
    "import json"
   ]
  },
  {
   "cell_type": "raw",
   "metadata": {},
   "source": [
    "%%bash\n",
    "wget http://data.csail.mit.edu/im2recipe/recipe1M_layers.tar.gz #For dataset information, head to: http://im2recipe.csail.mit.edu/\n",
    "tar -xzf recipe1M_layers.tar.gz"
   ]
  },
  {
   "cell_type": "markdown",
   "metadata": {},
   "source": [
    "# Read datasets\n",
    "The dataset does not fit into memory, so dask usage is essential"
   ]
  },
  {
   "cell_type": "code",
   "execution_count": 2,
   "metadata": {},
   "outputs": [],
   "source": [
    "recipes1M = dd.read_csv('0-datasets/rec1M/rec1M-*.csv')\n",
    "recipes1M = recipes1M.drop(['Unnamed: 0', 'id', 'partition'], axis=1)\n",
    "recipes1M = recipes1M.rename(columns={\"instructions\":\"directions\", \"url\":\"link\"})"
   ]
  },
  {
   "cell_type": "code",
   "execution_count": 3,
   "metadata": {},
   "outputs": [],
   "source": [
    "dataset = dd.read_csv('0-datasets/v-0.9.3-single.csv')"
   ]
  },
  {
   "cell_type": "raw",
   "metadata": {},
   "source": [
    "dataset.ingredients = dataset.ingredients.map(json.loads, meta=pd.Series([], dtype=object, name='ingredients'))\n",
    "dataset.directions = dataset.directions.map(json.loads, meta=pd.Series([], dtype=object, name='directions'))"
   ]
  },
  {
   "cell_type": "markdown",
   "metadata": {},
   "source": [
    "Parse lines in recipe1M dataset, stick to the common format  \n",
    "1) deserialize to list  \n",
    "2) map lists to remove dict-syntax  \n",
    "3) serialize back to json-string"
   ]
  },
  {
   "cell_type": "code",
   "execution_count": 4,
   "metadata": {},
   "outputs": [],
   "source": [
    "recipes1M.ingredients = recipes1M.ingredients.map(json.loads, meta=pd.Series([], dtype=object, name='ingredients'))\n",
    "recipes1M.directions = recipes1M.directions.map(json.loads, meta=pd.Series([], dtype=object, name='directions'))"
   ]
  },
  {
   "cell_type": "code",
   "execution_count": 5,
   "metadata": {},
   "outputs": [],
   "source": [
    "recipes1M.ingredients = recipes1M.ingredients.map(lambda x: list(map(lambda y: y['text'], x)), meta=pd.Series([], dtype=object, name='ingredients'))\n",
    "recipes1M.directions = recipes1M.directions.map(lambda x: list(map(lambda y: y['text'], x)), meta=pd.Series([], dtype=object, name='directions'))"
   ]
  },
  {
   "cell_type": "code",
   "execution_count": 6,
   "metadata": {},
   "outputs": [],
   "source": [
    "recipes1M.ingredients = recipes1M.ingredients.map(json.dumps, meta=pd.Series([], dtype=object, name='ingredients'))\n",
    "recipes1M.directions = recipes1M.directions.map(json.dumps, meta=pd.Series([], dtype=object, name='directions'))"
   ]
  },
  {
   "cell_type": "code",
   "execution_count": 7,
   "metadata": {},
   "outputs": [
    {
     "data": {
      "text/html": [
       "<div>\n",
       "<style scoped>\n",
       "    .dataframe tbody tr th:only-of-type {\n",
       "        vertical-align: middle;\n",
       "    }\n",
       "\n",
       "    .dataframe tbody tr th {\n",
       "        vertical-align: top;\n",
       "    }\n",
       "\n",
       "    .dataframe thead th {\n",
       "        text-align: right;\n",
       "    }\n",
       "</style>\n",
       "<table border=\"1\" class=\"dataframe\">\n",
       "  <thead>\n",
       "    <tr style=\"text-align: right;\">\n",
       "      <th></th>\n",
       "      <th>ingredients</th>\n",
       "      <th>directions</th>\n",
       "      <th>title</th>\n",
       "      <th>link</th>\n",
       "    </tr>\n",
       "  </thead>\n",
       "  <tbody>\n",
       "    <tr>\n",
       "      <th>0</th>\n",
       "      <td>[\"6 ounces penne\", \"2 cups Beechers Flagship C...</td>\n",
       "      <td>[\"Preheat the oven to 350 F. Butter or oil an ...</td>\n",
       "      <td>Worlds Best Mac and Cheese</td>\n",
       "      <td>http://www.epicurious.com/recipes/food/views/-...</td>\n",
       "    </tr>\n",
       "    <tr>\n",
       "      <th>1</th>\n",
       "      <td>[\"1 c. elbow macaroni\", \"1 c. cubed American c...</td>\n",
       "      <td>[\"Cook macaroni according to package direction...</td>\n",
       "      <td>Dilly Macaroni Salad Recipe</td>\n",
       "      <td>http://cookeatshare.com/recipes/dilly-macaroni...</td>\n",
       "    </tr>\n",
       "    <tr>\n",
       "      <th>2</th>\n",
       "      <td>[\"8 tomatoes, quartered\", \"Kosher salt\", \"1 re...</td>\n",
       "      <td>[\"Add the tomatoes to a food processor with a ...</td>\n",
       "      <td>Gazpacho</td>\n",
       "      <td>http://www.foodnetwork.com/recipes/gazpacho1.html</td>\n",
       "    </tr>\n",
       "    <tr>\n",
       "      <th>3</th>\n",
       "      <td>[\"2 12 cups milk\", \"1 12 cups water\", \"14 cup ...</td>\n",
       "      <td>[\"Preheat oven to 350 degrees Fahrenheit.\", \"S...</td>\n",
       "      <td>Crunchy Onion Potato Bake</td>\n",
       "      <td>http://www.food.com/recipe/crunchy-onion-potat...</td>\n",
       "    </tr>\n",
       "    <tr>\n",
       "      <th>4</th>\n",
       "      <td>[\"1 (3 ounce) package watermelon gelatin\", \"14...</td>\n",
       "      <td>[\"Dissolve Jello in boiling water.\", \"Allow to...</td>\n",
       "      <td>Cool 'n Easy Creamy Watermelon Pie</td>\n",
       "      <td>http://www.food.com/recipe/cool-n-easy-creamy-...</td>\n",
       "    </tr>\n",
       "  </tbody>\n",
       "</table>\n",
       "</div>"
      ],
      "text/plain": [
       "                                         ingredients  \\\n",
       "0  [\"6 ounces penne\", \"2 cups Beechers Flagship C...   \n",
       "1  [\"1 c. elbow macaroni\", \"1 c. cubed American c...   \n",
       "2  [\"8 tomatoes, quartered\", \"Kosher salt\", \"1 re...   \n",
       "3  [\"2 12 cups milk\", \"1 12 cups water\", \"14 cup ...   \n",
       "4  [\"1 (3 ounce) package watermelon gelatin\", \"14...   \n",
       "\n",
       "                                          directions  \\\n",
       "0  [\"Preheat the oven to 350 F. Butter or oil an ...   \n",
       "1  [\"Cook macaroni according to package direction...   \n",
       "2  [\"Add the tomatoes to a food processor with a ...   \n",
       "3  [\"Preheat oven to 350 degrees Fahrenheit.\", \"S...   \n",
       "4  [\"Dissolve Jello in boiling water.\", \"Allow to...   \n",
       "\n",
       "                                title  \\\n",
       "0          Worlds Best Mac and Cheese   \n",
       "1         Dilly Macaroni Salad Recipe   \n",
       "2                            Gazpacho   \n",
       "3           Crunchy Onion Potato Bake   \n",
       "4  Cool 'n Easy Creamy Watermelon Pie   \n",
       "\n",
       "                                                link  \n",
       "0  http://www.epicurious.com/recipes/food/views/-...  \n",
       "1  http://cookeatshare.com/recipes/dilly-macaroni...  \n",
       "2  http://www.foodnetwork.com/recipes/gazpacho1.html  \n",
       "3  http://www.food.com/recipe/crunchy-onion-potat...  \n",
       "4  http://www.food.com/recipe/cool-n-easy-creamy-...  "
      ]
     },
     "execution_count": 7,
     "metadata": {},
     "output_type": "execute_result"
    }
   ],
   "source": [
    "recipes1M.head()"
   ]
  },
  {
   "cell_type": "code",
   "execution_count": 8,
   "metadata": {},
   "outputs": [
    {
     "data": {
      "text/html": [
       "<div>\n",
       "<style scoped>\n",
       "    .dataframe tbody tr th:only-of-type {\n",
       "        vertical-align: middle;\n",
       "    }\n",
       "\n",
       "    .dataframe tbody tr th {\n",
       "        vertical-align: top;\n",
       "    }\n",
       "\n",
       "    .dataframe thead th {\n",
       "        text-align: right;\n",
       "    }\n",
       "</style>\n",
       "<table border=\"1\" class=\"dataframe\">\n",
       "  <thead>\n",
       "    <tr style=\"text-align: right;\">\n",
       "      <th></th>\n",
       "      <th>ingredients</th>\n",
       "      <th>directions</th>\n",
       "      <th>title</th>\n",
       "      <th>link</th>\n",
       "    </tr>\n",
       "  </thead>\n",
       "  <tbody>\n",
       "    <tr>\n",
       "      <th>unique</th>\n",
       "      <td>1021415</td>\n",
       "      <td>1008591</td>\n",
       "      <td>809994</td>\n",
       "      <td>1028642</td>\n",
       "    </tr>\n",
       "    <tr>\n",
       "      <th>count</th>\n",
       "      <td>1029720</td>\n",
       "      <td>1029720</td>\n",
       "      <td>1029720</td>\n",
       "      <td>1029720</td>\n",
       "    </tr>\n",
       "    <tr>\n",
       "      <th>top</th>\n",
       "      <td>[\"1 paper, serviette (large)\", \"1 cloth, servi...</td>\n",
       "      <td>[\"Put ingredients into bread machine and press...</td>\n",
       "      <td>Banana Bread</td>\n",
       "      <td>http://www.kraftrecipes.com/recipes/surejell-a...</td>\n",
       "    </tr>\n",
       "    <tr>\n",
       "      <th>freq</th>\n",
       "      <td>63</td>\n",
       "      <td>249</td>\n",
       "      <td>247</td>\n",
       "      <td>13</td>\n",
       "    </tr>\n",
       "  </tbody>\n",
       "</table>\n",
       "</div>"
      ],
      "text/plain": [
       "                                              ingredients  \\\n",
       "unique                                            1021415   \n",
       "count                                             1029720   \n",
       "top     [\"1 paper, serviette (large)\", \"1 cloth, servi...   \n",
       "freq                                                   63   \n",
       "\n",
       "                                               directions         title  \\\n",
       "unique                                            1008591        809994   \n",
       "count                                             1029720       1029720   \n",
       "top     [\"Put ingredients into bread machine and press...  Banana Bread   \n",
       "freq                                                  249           247   \n",
       "\n",
       "                                                     link  \n",
       "unique                                            1028642  \n",
       "count                                             1029720  \n",
       "top     http://www.kraftrecipes.com/recipes/surejell-a...  \n",
       "freq                                                   13  "
      ]
     },
     "execution_count": 8,
     "metadata": {},
     "output_type": "execute_result"
    }
   ],
   "source": [
    "recipes1M.describe().compute()"
   ]
  },
  {
   "cell_type": "code",
   "execution_count": 9,
   "metadata": {},
   "outputs": [
    {
     "data": {
      "text/html": [
       "<div>\n",
       "<style scoped>\n",
       "    .dataframe tbody tr th:only-of-type {\n",
       "        vertical-align: middle;\n",
       "    }\n",
       "\n",
       "    .dataframe tbody tr th {\n",
       "        vertical-align: top;\n",
       "    }\n",
       "\n",
       "    .dataframe thead th {\n",
       "        text-align: right;\n",
       "    }\n",
       "</style>\n",
       "<table border=\"1\" class=\"dataframe\">\n",
       "  <thead>\n",
       "    <tr style=\"text-align: right;\">\n",
       "      <th></th>\n",
       "      <th>title</th>\n",
       "      <th>ingredients</th>\n",
       "      <th>directions</th>\n",
       "      <th>link</th>\n",
       "    </tr>\n",
       "  </thead>\n",
       "  <tbody>\n",
       "    <tr>\n",
       "      <th>unique</th>\n",
       "      <td>904381</td>\n",
       "      <td>1703702</td>\n",
       "      <td>1684363</td>\n",
       "      <td>1727259</td>\n",
       "    </tr>\n",
       "    <tr>\n",
       "      <th>count</th>\n",
       "      <td>1727646</td>\n",
       "      <td>1727646</td>\n",
       "      <td>1727646</td>\n",
       "      <td>1727646</td>\n",
       "    </tr>\n",
       "    <tr>\n",
       "      <th>top</th>\n",
       "      <td>Chicken Casserole</td>\n",
       "      <td>[\"Ingredients\"]</td>\n",
       "      <td>[\"Mix all ingredients together.\"]</td>\n",
       "      <td>https://www.allrecipes.com/recipe/215239/three...</td>\n",
       "    </tr>\n",
       "    <tr>\n",
       "      <th>freq</th>\n",
       "      <td>4129</td>\n",
       "      <td>55</td>\n",
       "      <td>259</td>\n",
       "      <td>4</td>\n",
       "    </tr>\n",
       "  </tbody>\n",
       "</table>\n",
       "</div>"
      ],
      "text/plain": [
       "                    title      ingredients                         directions  \\\n",
       "unique             904381          1703702                            1684363   \n",
       "count             1727646          1727646                            1727646   \n",
       "top     Chicken Casserole  [\"Ingredients\"]  [\"Mix all ingredients together.\"]   \n",
       "freq                 4129               55                                259   \n",
       "\n",
       "                                                     link  \n",
       "unique                                            1727259  \n",
       "count                                             1727646  \n",
       "top     https://www.allrecipes.com/recipe/215239/three...  \n",
       "freq                                                    4  "
      ]
     },
     "execution_count": 9,
     "metadata": {},
     "output_type": "execute_result"
    }
   ],
   "source": [
    "dataset.describe().compute()"
   ]
  },
  {
   "cell_type": "markdown",
   "metadata": {},
   "source": [
    "# Some time with duplicates\n",
    "Lets focus on duplicates from recipes1M, since they seem to be more attractive"
   ]
  },
  {
   "cell_type": "raw",
   "metadata": {},
   "source": [
    "temp1 = recipes1M.loc[recipes1M.directions.map(lambda x: x.find(\"Put ingredients into bread machine and press\")>=0)].compute()\n",
    "temp1.head()"
   ]
  },
  {
   "cell_type": "raw",
   "metadata": {},
   "source": [
    "list(temp1.loc[temp1.index == 10041].directions)[0]"
   ]
  },
  {
   "cell_type": "raw",
   "metadata": {},
   "source": [
    "list(temp1.loc[temp1.index == 22036].directions)[0]"
   ]
  },
  {
   "cell_type": "raw",
   "metadata": {},
   "source": [
    "temp2 = recipes1M.loc[recipes1M.ingredients.map(lambda x: x.find(\"1 paper, serviette (large)\")>=0)].compute()\n",
    "temp2.head()"
   ]
  },
  {
   "cell_type": "raw",
   "metadata": {},
   "source": [
    "list(temp2.loc[temp2.index == 11832].ingredients)[0]"
   ]
  },
  {
   "cell_type": "raw",
   "metadata": {},
   "source": [
    "list(temp2.loc[temp2.index == 11832].directions)[0]"
   ]
  },
  {
   "cell_type": "raw",
   "metadata": {},
   "source": [
    "list(temp2.loc[temp2.index == 11832].link)[0]"
   ]
  },
  {
   "cell_type": "raw",
   "metadata": {},
   "source": [
    "list(temp2.loc[temp2.index == 11832].title)[0]"
   ]
  },
  {
   "cell_type": "markdown",
   "metadata": {},
   "source": [
    "# Dataset zu gross"
   ]
  },
  {
   "cell_type": "code",
   "execution_count": 10,
   "metadata": {},
   "outputs": [],
   "source": [
    "dataset[\"source\"] = \"Gathered\"\n",
    "recipes1M[\"source\"] = \"Recipes1M\""
   ]
  },
  {
   "cell_type": "code",
   "execution_count": 11,
   "metadata": {},
   "outputs": [],
   "source": [
    "total_dataset = dataset.append(recipes1M)"
   ]
  },
  {
   "cell_type": "code",
   "execution_count": 12,
   "metadata": {},
   "outputs": [
    {
     "data": {
      "text/html": [
       "<div>\n",
       "<style scoped>\n",
       "    .dataframe tbody tr th:only-of-type {\n",
       "        vertical-align: middle;\n",
       "    }\n",
       "\n",
       "    .dataframe tbody tr th {\n",
       "        vertical-align: top;\n",
       "    }\n",
       "\n",
       "    .dataframe thead th {\n",
       "        text-align: right;\n",
       "    }\n",
       "</style>\n",
       "<table border=\"1\" class=\"dataframe\">\n",
       "  <thead>\n",
       "    <tr style=\"text-align: right;\">\n",
       "      <th></th>\n",
       "      <th>title</th>\n",
       "      <th>ingredients</th>\n",
       "      <th>directions</th>\n",
       "      <th>link</th>\n",
       "      <th>source</th>\n",
       "    </tr>\n",
       "  </thead>\n",
       "  <tbody>\n",
       "    <tr>\n",
       "      <th>unique</th>\n",
       "      <td>1457864</td>\n",
       "      <td>2613089</td>\n",
       "      <td>2582155</td>\n",
       "      <td>2755901</td>\n",
       "      <td>2</td>\n",
       "    </tr>\n",
       "    <tr>\n",
       "      <th>count</th>\n",
       "      <td>2757366</td>\n",
       "      <td>2757366</td>\n",
       "      <td>2757366</td>\n",
       "      <td>2757366</td>\n",
       "      <td>2757366</td>\n",
       "    </tr>\n",
       "    <tr>\n",
       "      <th>top</th>\n",
       "      <td>Chicken Casserole</td>\n",
       "      <td>[\"1 paper, serviette (large)\", \"1 cloth, servi...</td>\n",
       "      <td>[\"Mix all ingredients together.\"]</td>\n",
       "      <td>http://www.kraftrecipes.com/recipes/surejell-a...</td>\n",
       "      <td>Gathered</td>\n",
       "    </tr>\n",
       "    <tr>\n",
       "      <th>freq</th>\n",
       "      <td>4188</td>\n",
       "      <td>63</td>\n",
       "      <td>290</td>\n",
       "      <td>13</td>\n",
       "      <td>1727646</td>\n",
       "    </tr>\n",
       "  </tbody>\n",
       "</table>\n",
       "</div>"
      ],
      "text/plain": [
       "                    title                                        ingredients  \\\n",
       "unique            1457864                                            2613089   \n",
       "count             2757366                                            2757366   \n",
       "top     Chicken Casserole  [\"1 paper, serviette (large)\", \"1 cloth, servi...   \n",
       "freq                 4188                                                 63   \n",
       "\n",
       "                               directions  \\\n",
       "unique                            2582155   \n",
       "count                             2757366   \n",
       "top     [\"Mix all ingredients together.\"]   \n",
       "freq                                  290   \n",
       "\n",
       "                                                     link    source  \n",
       "unique                                            2755901         2  \n",
       "count                                             2757366   2757366  \n",
       "top     http://www.kraftrecipes.com/recipes/surejell-a...  Gathered  \n",
       "freq                                                   13   1727646  "
      ]
     },
     "execution_count": 12,
     "metadata": {},
     "output_type": "execute_result"
    }
   ],
   "source": [
    "total_dataset.describe().compute()"
   ]
  },
  {
   "cell_type": "code",
   "execution_count": 13,
   "metadata": {},
   "outputs": [],
   "source": [
    "total_dataset = total_dataset.loc[total_dataset.ingredients.map(json.dumps).map(len) > 0]\n",
    "total_dataset = total_dataset.loc[total_dataset.directions.map(json.dumps).map(len) > 0]"
   ]
  },
  {
   "cell_type": "markdown",
   "metadata": {},
   "source": [
    "# Basic duplicates removal"
   ]
  },
  {
   "cell_type": "code",
   "execution_count": 14,
   "metadata": {},
   "outputs": [],
   "source": [
    "# unify urls\n",
    "total_dataset.link = total_dataset.link.map(lambda x: x.replace('http://', ''))\n",
    "total_dataset.link = total_dataset.link.map(lambda x: x.replace('https://', ''))"
   ]
  },
  {
   "cell_type": "code",
   "execution_count": 15,
   "metadata": {},
   "outputs": [
    {
     "name": "stdout",
     "output_type": "stream",
     "text": [
      "Duplicated values: 351450\n"
     ]
    },
    {
     "data": {
      "text/plain": [
       "(703058, 5)"
      ]
     },
     "execution_count": 15,
     "metadata": {},
     "output_type": "execute_result"
    }
   ],
   "source": [
    "# numbers of link duplicates\n",
    "link_duplicates = total_dataset.groupby('link').title.count().compute()\n",
    "dup_links_set = set(link_duplicates.loc[link_duplicates > 1].index)\n",
    "print('Duplicated values:', len(dup_links_set))\n",
    "total_dataset.loc[total_dataset.link.map(lambda x: x in dup_links_set)].compute().shape"
   ]
  },
  {
   "cell_type": "markdown",
   "metadata": {},
   "source": [
    "### Prepare trainig dataset of positive duplicate pairs"
   ]
  },
  {
   "cell_type": "code",
   "execution_count": 16,
   "metadata": {},
   "outputs": [
    {
     "name": "stdout",
     "output_type": "stream",
     "text": [
      "Duplicated values: 351325\n"
     ]
    }
   ],
   "source": [
    "dup_links_pair_set = set(link_duplicates.loc[link_duplicates == 2].index)\n",
    "print('Duplicated values:', len(dup_links_pair_set))\n",
    "train = total_dataset.loc[total_dataset.link.map(lambda x: x in dup_links_pair_set)].compute()\n",
    "train.to_csv('train-positive-pairs.csv', index=False)"
   ]
  },
  {
   "cell_type": "markdown",
   "metadata": {},
   "source": [
    "### Drop recipes with duplicated links - deduplication step 1"
   ]
  },
  {
   "cell_type": "code",
   "execution_count": 17,
   "metadata": {},
   "outputs": [
    {
     "data": {
      "text/html": [
       "<div>\n",
       "<style scoped>\n",
       "    .dataframe tbody tr th:only-of-type {\n",
       "        vertical-align: middle;\n",
       "    }\n",
       "\n",
       "    .dataframe tbody tr th {\n",
       "        vertical-align: top;\n",
       "    }\n",
       "\n",
       "    .dataframe thead th {\n",
       "        text-align: right;\n",
       "    }\n",
       "</style>\n",
       "<table border=\"1\" class=\"dataframe\">\n",
       "  <thead>\n",
       "    <tr style=\"text-align: right;\">\n",
       "      <th></th>\n",
       "      <th>title</th>\n",
       "      <th>ingredients</th>\n",
       "      <th>directions</th>\n",
       "      <th>link</th>\n",
       "      <th>source</th>\n",
       "    </tr>\n",
       "  </thead>\n",
       "  <tbody>\n",
       "    <tr>\n",
       "      <th>unique</th>\n",
       "      <td>1363000</td>\n",
       "      <td>2332243</td>\n",
       "      <td>2344227</td>\n",
       "      <td>2405758</td>\n",
       "      <td>2</td>\n",
       "    </tr>\n",
       "    <tr>\n",
       "      <th>count</th>\n",
       "      <td>2405758</td>\n",
       "      <td>2405758</td>\n",
       "      <td>2405758</td>\n",
       "      <td>2405758</td>\n",
       "      <td>2405758</td>\n",
       "    </tr>\n",
       "    <tr>\n",
       "      <th>top</th>\n",
       "      <td>Chicken Casserole</td>\n",
       "      <td>[\"1 paper, serviette (large)\", \"1 cloth, servi...</td>\n",
       "      <td>[\"Mix all ingredients together.\"]</td>\n",
       "      <td>www.yummly.com/recipe/tortitas-de-papa_Potato-...</td>\n",
       "      <td>Gathered</td>\n",
       "    </tr>\n",
       "    <tr>\n",
       "      <th>freq</th>\n",
       "      <td>4176</td>\n",
       "      <td>63</td>\n",
       "      <td>278</td>\n",
       "      <td>1</td>\n",
       "      <td>1727259</td>\n",
       "    </tr>\n",
       "  </tbody>\n",
       "</table>\n",
       "</div>"
      ],
      "text/plain": [
       "                    title                                        ingredients  \\\n",
       "unique            1363000                                            2332243   \n",
       "count             2405758                                            2405758   \n",
       "top     Chicken Casserole  [\"1 paper, serviette (large)\", \"1 cloth, servi...   \n",
       "freq                 4176                                                 63   \n",
       "\n",
       "                               directions  \\\n",
       "unique                            2344227   \n",
       "count                             2405758   \n",
       "top     [\"Mix all ingredients together.\"]   \n",
       "freq                                  278   \n",
       "\n",
       "                                                     link    source  \n",
       "unique                                            2405758         2  \n",
       "count                                             2405758   2405758  \n",
       "top     www.yummly.com/recipe/tortitas-de-papa_Potato-...  Gathered  \n",
       "freq                                                    1   1727259  "
      ]
     },
     "execution_count": 17,
     "metadata": {},
     "output_type": "execute_result"
    }
   ],
   "source": [
    "total_dataset_nd = total_dataset.drop_duplicates(subset='link')\n",
    "total_dataset_nd.describe().compute()"
   ]
  },
  {
   "cell_type": "code",
   "execution_count": 18,
   "metadata": {},
   "outputs": [
    {
     "name": "stdout",
     "output_type": "stream",
     "text": [
      "Duplicated values: 21196\n"
     ]
    },
    {
     "data": {
      "text/plain": [
       "(43558, 5)"
      ]
     },
     "execution_count": 18,
     "metadata": {},
     "output_type": "execute_result"
    }
   ],
   "source": [
    "# numbers of ingredients and directions duplicates\n",
    "ing_inst_duplicates = total_dataset_nd.groupby(['ingredients', 'directions']).title.count().compute()\n",
    "ing_inst_dup_set = set(map(lambda x: x[0] + x[1], list(ing_inst_duplicates.loc[ing_inst_duplicates > 1].index)))\n",
    "print('Duplicated values:', len(ing_inst_dup_set))\n",
    "total_dataset_nd.loc[(total_dataset_nd.ingredients + total_dataset_nd.directions).map(lambda x: x in ing_inst_dup_set)].compute().shape"
   ]
  },
  {
   "cell_type": "markdown",
   "metadata": {},
   "source": [
    "### Drop recipes with duplicated instructions and ingredients - deduplication step 2"
   ]
  },
  {
   "cell_type": "code",
   "execution_count": 19,
   "metadata": {},
   "outputs": [
    {
     "data": {
      "text/html": [
       "<div>\n",
       "<style scoped>\n",
       "    .dataframe tbody tr th:only-of-type {\n",
       "        vertical-align: middle;\n",
       "    }\n",
       "\n",
       "    .dataframe tbody tr th {\n",
       "        vertical-align: top;\n",
       "    }\n",
       "\n",
       "    .dataframe thead th {\n",
       "        text-align: right;\n",
       "    }\n",
       "</style>\n",
       "<table border=\"1\" class=\"dataframe\">\n",
       "  <thead>\n",
       "    <tr style=\"text-align: right;\">\n",
       "      <th></th>\n",
       "      <th>title</th>\n",
       "      <th>ingredients</th>\n",
       "      <th>directions</th>\n",
       "      <th>link</th>\n",
       "      <th>source</th>\n",
       "    </tr>\n",
       "  </thead>\n",
       "  <tbody>\n",
       "    <tr>\n",
       "      <th>unique</th>\n",
       "      <td>1361969</td>\n",
       "      <td>2332243</td>\n",
       "      <td>2344227</td>\n",
       "      <td>2383396</td>\n",
       "      <td>2</td>\n",
       "    </tr>\n",
       "    <tr>\n",
       "      <th>count</th>\n",
       "      <td>2383396</td>\n",
       "      <td>2383396</td>\n",
       "      <td>2383396</td>\n",
       "      <td>2383396</td>\n",
       "      <td>2383396</td>\n",
       "    </tr>\n",
       "    <tr>\n",
       "      <th>top</th>\n",
       "      <td>Chicken Casserole</td>\n",
       "      <td>[\"1 paper, serviette (large)\", \"1 cloth, servi...</td>\n",
       "      <td>[\"Mix all ingredients together.\"]</td>\n",
       "      <td>www.yummly.com/recipe/tortitas-de-papa_Potato-...</td>\n",
       "      <td>Gathered</td>\n",
       "    </tr>\n",
       "    <tr>\n",
       "      <th>freq</th>\n",
       "      <td>4175</td>\n",
       "      <td>63</td>\n",
       "      <td>277</td>\n",
       "      <td>1</td>\n",
       "      <td>1710935</td>\n",
       "    </tr>\n",
       "  </tbody>\n",
       "</table>\n",
       "</div>"
      ],
      "text/plain": [
       "                    title                                        ingredients  \\\n",
       "unique            1361969                                            2332243   \n",
       "count             2383396                                            2383396   \n",
       "top     Chicken Casserole  [\"1 paper, serviette (large)\", \"1 cloth, servi...   \n",
       "freq                 4175                                                 63   \n",
       "\n",
       "                               directions  \\\n",
       "unique                            2344227   \n",
       "count                             2383396   \n",
       "top     [\"Mix all ingredients together.\"]   \n",
       "freq                                  277   \n",
       "\n",
       "                                                     link    source  \n",
       "unique                                            2383396         2  \n",
       "count                                             2383396   2383396  \n",
       "top     www.yummly.com/recipe/tortitas-de-papa_Potato-...  Gathered  \n",
       "freq                                                    1   1710935  "
      ]
     },
     "execution_count": 19,
     "metadata": {},
     "output_type": "execute_result"
    }
   ],
   "source": [
    "total_dataset_nd = total_dataset_nd.drop_duplicates(subset=('ingredients', 'directions'))\n",
    "total_dataset_nd.describe().compute()"
   ]
  },
  {
   "cell_type": "markdown",
   "metadata": {},
   "source": [
    "## Store intermidiate result"
   ]
  },
  {
   "cell_type": "code",
   "execution_count": null,
   "metadata": {},
   "outputs": [],
   "source": [
    "# store version without literal duplicates\n",
    "total_dataset_nd.to_csv('0-datasets/v-1.0.0-beta-h/dataset-*.csv', index=False)"
   ]
  }
 ],
 "metadata": {
  "kernelspec": {
   "display_name": "Python 3",
   "language": "python",
   "name": "python3"
  },
  "language_info": {
   "codemirror_mode": {
    "name": "ipython",
    "version": 3
   },
   "file_extension": ".py",
   "mimetype": "text/x-python",
   "name": "python",
   "nbconvert_exporter": "python",
   "pygments_lexer": "ipython3",
   "version": "3.7.7"
  }
 },
 "nbformat": 4,
 "nbformat_minor": 4
}
