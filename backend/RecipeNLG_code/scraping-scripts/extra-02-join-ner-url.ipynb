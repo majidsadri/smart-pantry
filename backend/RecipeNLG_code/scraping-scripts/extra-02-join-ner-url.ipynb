{
 "cells": [
  {
   "cell_type": "code",
   "execution_count": 1,
   "metadata": {},
   "outputs": [],
   "source": [
    "import pandas as pd\n",
    "import dask.dataframe as dd\n",
    "import json\n",
    "import unicodedata"
   ]
  },
  {
   "cell_type": "markdown",
   "metadata": {},
   "source": [
    "# Unicode characters preprocessing for NER dataset (previously not preprocessed in this manner)\n",
    "Copied from `02-dataset-tuning`"
   ]
  },
  {
   "cell_type": "code",
   "execution_count": 2,
   "metadata": {},
   "outputs": [],
   "source": [
    "def trim_and_remove_empty_lines(inputList: list):\n",
    "    result = list(map(lambda x: x.strip(), inputList))\n",
    "    return list(filter(lambda x: len(x) > 0, result))"
   ]
  },
  {
   "cell_type": "code",
   "execution_count": 3,
   "metadata": {},
   "outputs": [],
   "source": [
    "replace_list = [\n",
    "    ('\\u2044', '/'),('\\u00b0', 'DEGREE_SIGN'),('\\u00bd', '1/2'),('\\u00bc', '1/4'),\n",
    "    ('\\u00be', '3/4'),('\\u00e9', 'e'),('\\u2019', \"'\"),('\\u00ae', '(R)'),\n",
    "    ('\\u2013', '-'),('\\u00ba', 'DEGREE_SIGN'),('\\u00a0', ' '),('\\u00f1', 'n'),\n",
    "    ('\\u2153', '1/3'),('\\u2152', '1/10'),('\\u2151', '1/9'),('\\u2150', '1/7'),\n",
    "    ('\\u2154', '2/3'),('\\u2155', '1/5'),('\\u2156', '2/5'),('\\u2157', '3/5'),\n",
    "    ('\\u2158', '4/5'),('\\u2159', '1/6'),('\\u215a', '5/6'),('\\u215b', '1/8'),\n",
    "    ('\\u215c', '3/8'),('\\u215d', '5/8'),('\\u215e', '7/8'),('\\u201d', '\"'),\n",
    "    ('\\u2014', '-'),('\\u00e8', 'e'),('\\u201c', '\"'),('\\u2033', '\"'),\n",
    "    ('\\u2022', ''),('\\u00d7', 'x'),('\\u00ee', 'i'),('\\u2026', '...'),\n",
    "    ('\\u00c2', 'A'),('\\u2122', 'TM'),('\\u2018', \"'\"),('\\u00ad', '-'),('\\u2028', ' '),\n",
    "]"
   ]
  },
  {
   "cell_type": "code",
   "execution_count": 4,
   "metadata": {},
   "outputs": [],
   "source": [
    "def replacer(arg: str):\n",
    "    for k, v in replace_list:\n",
    "        arg = arg.replace(k, v)\n",
    "    return arg\n",
    "\n",
    "\n",
    "def parse_line(line: str):\n",
    "    line = replacer(line)\n",
    "    if not line.isascii():\n",
    "        line = unicodedata.normalize('NFKD', line).encode('ascii','ignore').decode(\"utf-8\")\n",
    "    # bring back degree sign\n",
    "    # extra remove additional spaces\n",
    "    line = line.replace('\\t', ' ').replace('\\n', ' ')\n",
    "    while '  ' in line:\n",
    "        line = line.replace('  ', ' ')\n",
    "    return line.replace('DEGREE_SIGN', '\\u00b0')\n",
    "\n",
    "\n",
    "def parse_list_of_lines(lst: list):\n",
    "    return list(map(parse_line, lst))"
   ]
  },
  {
   "cell_type": "code",
   "execution_count": 5,
   "metadata": {},
   "outputs": [],
   "source": [
    "ner = pd.read_csv('0-datasets/ner-dataset.csv').drop(columns=['directions', 'Unnamed: 0', 'Unnamed: 0.1'])"
   ]
  },
  {
   "cell_type": "code",
   "execution_count": 6,
   "metadata": {},
   "outputs": [
    {
     "data": {
      "text/html": [
       "<div>\n",
       "<style scoped>\n",
       "    .dataframe tbody tr th:only-of-type {\n",
       "        vertical-align: middle;\n",
       "    }\n",
       "\n",
       "    .dataframe tbody tr th {\n",
       "        vertical-align: top;\n",
       "    }\n",
       "\n",
       "    .dataframe thead th {\n",
       "        text-align: right;\n",
       "    }\n",
       "</style>\n",
       "<table border=\"1\" class=\"dataframe\">\n",
       "  <thead>\n",
       "    <tr style=\"text-align: right;\">\n",
       "      <th></th>\n",
       "      <th>ingredients</th>\n",
       "      <th>title</th>\n",
       "      <th>NER</th>\n",
       "    </tr>\n",
       "  </thead>\n",
       "  <tbody>\n",
       "    <tr>\n",
       "      <th>0</th>\n",
       "      <td>[\"1 c. firmly packed brown sugar\", \"1/2 c. eva...</td>\n",
       "      <td>No-Bake Nut Cookies</td>\n",
       "      <td>[\"brown sugar\", \"milk\", \"vanilla\", \"nuts\", \"bu...</td>\n",
       "    </tr>\n",
       "    <tr>\n",
       "      <th>1</th>\n",
       "      <td>[\"1 small jar chipped beef, cut up\", \"4 boned ...</td>\n",
       "      <td>Jewell Ball'S Chicken</td>\n",
       "      <td>[\"beef\", \"chicken breasts\", \"cream of mushroom...</td>\n",
       "    </tr>\n",
       "    <tr>\n",
       "      <th>2</th>\n",
       "      <td>[\"2 (16 oz.) pkg. frozen corn\", \"1 (8 oz.) pkg...</td>\n",
       "      <td>Creamy Corn</td>\n",
       "      <td>[\"frozen corn\", \"cream cheese\", \"butter\", \"gar...</td>\n",
       "    </tr>\n",
       "    <tr>\n",
       "      <th>3</th>\n",
       "      <td>[\"1 large whole chicken\", \"2 (10 1/2 oz.) cans...</td>\n",
       "      <td>Chicken Funny</td>\n",
       "      <td>[\"chicken\", \"chicken gravy\", \"cream of mushroo...</td>\n",
       "    </tr>\n",
       "    <tr>\n",
       "      <th>4</th>\n",
       "      <td>[\"1 c. peanut butter\", \"3/4 c. graham cracker ...</td>\n",
       "      <td>Reeses Cups(Candy)</td>\n",
       "      <td>[\"peanut butter\", \"graham cracker crumbs\", \"bu...</td>\n",
       "    </tr>\n",
       "  </tbody>\n",
       "</table>\n",
       "</div>"
      ],
      "text/plain": [
       "                                         ingredients                  title  \\\n",
       "0  [\"1 c. firmly packed brown sugar\", \"1/2 c. eva...    No-Bake Nut Cookies   \n",
       "1  [\"1 small jar chipped beef, cut up\", \"4 boned ...  Jewell Ball'S Chicken   \n",
       "2  [\"2 (16 oz.) pkg. frozen corn\", \"1 (8 oz.) pkg...            Creamy Corn   \n",
       "3  [\"1 large whole chicken\", \"2 (10 1/2 oz.) cans...          Chicken Funny   \n",
       "4  [\"1 c. peanut butter\", \"3/4 c. graham cracker ...   Reeses Cups(Candy)     \n",
       "\n",
       "                                                 NER  \n",
       "0  [\"brown sugar\", \"milk\", \"vanilla\", \"nuts\", \"bu...  \n",
       "1  [\"beef\", \"chicken breasts\", \"cream of mushroom...  \n",
       "2  [\"frozen corn\", \"cream cheese\", \"butter\", \"gar...  \n",
       "3  [\"chicken\", \"chicken gravy\", \"cream of mushroo...  \n",
       "4  [\"peanut butter\", \"graham cracker crumbs\", \"bu...  "
      ]
     },
     "execution_count": 6,
     "metadata": {},
     "output_type": "execute_result"
    }
   ],
   "source": [
    "ner.ingredients = ner.ingredients.map(json.loads).map(trim_and_remove_empty_lines).map(parse_list_of_lines).map(json.dumps)\n",
    "ner.head()"
   ]
  },
  {
   "cell_type": "code",
   "execution_count": 7,
   "metadata": {},
   "outputs": [],
   "source": [
    "ing_ner = ner.groupby('ingredients').NER.apply(set)"
   ]
  },
  {
   "cell_type": "code",
   "execution_count": 8,
   "metadata": {},
   "outputs": [
    {
     "data": {
      "text/plain": [
       "(2435938,)"
      ]
     },
     "execution_count": 8,
     "metadata": {},
     "output_type": "execute_result"
    }
   ],
   "source": [
    "ing_ner.shape"
   ]
  },
  {
   "cell_type": "code",
   "execution_count": 9,
   "metadata": {},
   "outputs": [
    {
     "data": {
      "text/plain": [
       "ingredients\n",
       "[\" (0.80kg/1.75lb) fingerling potatoes\", \" (0.34kg/0.75lb) brussels sprouts\", \" 3 garlic cloves, minced\", \" 2 tbsp fresh minced rosemary\", \" 1 tbsp + 1 tsp extra virgin olive oil\", \" 1/2 tbsp Sucanat (optional)\", \" 3/4 tsp fine grain sea salt\", \" Freshly ground black pepper\", \" 1/4 tsp red pepper flakes (optional)\"]                                                                                                                                                                                                {[\"fingerling potatoes\", \"brussels sprouts\", \"...\n",
       "[\" (6) Jumbo Scallops\", \" (9) bacon strips\", \" (6) frozen shrimp, chopped and de-tailed\", \" (2) Cloves Garlic, crushed;\", \" 1/4 c. Brown Mushrooms, sliced;\", \" Jarlsburg cheese (shredded)\", \" Mozzarella cheese (shredded)\", \" 1 tsp. Tarragon\", \" 1/4 c. Fresh Parsley (minced)\", \" 1 1/2 T. Thyme\", \" 1/2 tsp. Garlic Chili paste\", \" 3/4 c. milk or light cream\", \" 1/2 c. white wine\", \" 1/4 c. lemon juice\", \" 1/3 c. red onion (chopped fine)\", \" 1/2 c. white onion (sprouts) or green onions\", \" Black pepper\"]    {[\"Jumbo Scallops\", \"bacon\", \"frozen shrimp\", ...\n",
       "[\" 1 (1 1/2-pound) porterhouse steak (1- to 1 1/4-inches thick)\", \" 2 teaspoons black peppercorns, coarsely crushed (see Cooks' Notes)\", \" 2 teaspoons kosher salt\", \" 1 tablespoon vegetable oil\", \" 3 tablespoons unsalted butter, cut into tablespoon pieces, divided\", \" 3 garlic cloves, crushed\", \" 2 (4-inch) sprigs fresh rosemary\", \" 5 sprigs fresh thyme\", \" 1/2 cup medium-bodied dry red wine (such as Chianti, Rioja, or merlot)\", \" 1 cup low-sodium chicken broth\"]                                          {[\"black peppercorns\", \"kosher salt\", \"vegetab...\n",
       "[\" 1 (10-ounce) package frozen chopped spinach\", \" 2 (13 3/4-ounce) cans artichoke hearts\", \" 1/2 cup mayonnaise\", \" 1/2 cup sour cream\", \" 1 cup freshly grated Parmesan\", \" 1 cup grated pepper jack cheese\"]                                                                                                                                                                                                                                                                                                              {[\"spinach\", \"hearts\", \"mayonnaise\", \"sour cre...\n",
       "[\" 1 (12-ounce) bag of fresh cranberries, cleaned\", \" 1 3/4 cups sugar\", \" 1 Granny Smith apple, peeled, cored, and chopped\", \" 1 orange, zest grated and juiced\", \" 1 lemon, zest grated and juiced\", \" 3/4 cup raisins\", \" 3/4 cup chopped walnuts or pecans\"]                                                                                                                                                                                                                                                             {[\"fresh cranberries\", \"sugar\", \"apple\", \"oran...\n",
       "Name: NER, dtype: object"
      ]
     },
     "execution_count": 9,
     "metadata": {},
     "output_type": "execute_result"
    }
   ],
   "source": [
    "ing_ner.head()"
   ]
  },
  {
   "cell_type": "code",
   "execution_count": 10,
   "metadata": {},
   "outputs": [
    {
     "data": {
      "text/plain": [
       "False"
      ]
     },
     "execution_count": 10,
     "metadata": {},
     "output_type": "execute_result"
    }
   ],
   "source": [
    "ing_ner.map(lambda x: len(x) == 1).all()"
   ]
  },
  {
   "cell_type": "code",
   "execution_count": 11,
   "metadata": {},
   "outputs": [
    {
     "data": {
      "text/plain": [
       "False"
      ]
     },
     "execution_count": 11,
     "metadata": {},
     "output_type": "execute_result"
    }
   ],
   "source": [
    "ing_ner.apply(list).map(lambda x: len(x) == 1).all()"
   ]
  },
  {
   "cell_type": "code",
   "execution_count": 12,
   "metadata": {},
   "outputs": [
    {
     "data": {
      "text/plain": [
       "ingredients\n",
       "[\" (0.80kg/1.75lb) fingerling potatoes\", \" (0.34kg/0.75lb) brussels sprouts\", \" 3 garlic cloves, minced\", \" 2 tbsp fresh minced rosemary\", \" 1 tbsp + 1 tsp extra virgin olive oil\", \" 1/2 tbsp Sucanat (optional)\", \" 3/4 tsp fine grain sea salt\", \" Freshly ground black pepper\", \" 1/4 tsp red pepper flakes (optional)\"]                                                                                                                                                                                                [\"fingerling potatoes\", \"brussels sprouts\", \"g...\n",
       "[\" (6) Jumbo Scallops\", \" (9) bacon strips\", \" (6) frozen shrimp, chopped and de-tailed\", \" (2) Cloves Garlic, crushed;\", \" 1/4 c. Brown Mushrooms, sliced;\", \" Jarlsburg cheese (shredded)\", \" Mozzarella cheese (shredded)\", \" 1 tsp. Tarragon\", \" 1/4 c. Fresh Parsley (minced)\", \" 1 1/2 T. Thyme\", \" 1/2 tsp. Garlic Chili paste\", \" 3/4 c. milk or light cream\", \" 1/2 c. white wine\", \" 1/4 c. lemon juice\", \" 1/3 c. red onion (chopped fine)\", \" 1/2 c. white onion (sprouts) or green onions\", \" Black pepper\"]    [\"Jumbo Scallops\", \"bacon\", \"frozen shrimp\", \"...\n",
       "[\" 1 (1 1/2-pound) porterhouse steak (1- to 1 1/4-inches thick)\", \" 2 teaspoons black peppercorns, coarsely crushed (see Cooks' Notes)\", \" 2 teaspoons kosher salt\", \" 1 tablespoon vegetable oil\", \" 3 tablespoons unsalted butter, cut into tablespoon pieces, divided\", \" 3 garlic cloves, crushed\", \" 2 (4-inch) sprigs fresh rosemary\", \" 5 sprigs fresh thyme\", \" 1/2 cup medium-bodied dry red wine (such as Chianti, Rioja, or merlot)\", \" 1 cup low-sodium chicken broth\"]                                          [\"black peppercorns\", \"kosher salt\", \"vegetabl...\n",
       "[\" 1 (10-ounce) package frozen chopped spinach\", \" 2 (13 3/4-ounce) cans artichoke hearts\", \" 1/2 cup mayonnaise\", \" 1/2 cup sour cream\", \" 1 cup freshly grated Parmesan\", \" 1 cup grated pepper jack cheese\"]                                                                                                                                                                                                                                                                                                              [\"spinach\", \"hearts\", \"mayonnaise\", \"sour crea...\n",
       "[\" 1 (12-ounce) bag of fresh cranberries, cleaned\", \" 1 3/4 cups sugar\", \" 1 Granny Smith apple, peeled, cored, and chopped\", \" 1 orange, zest grated and juiced\", \" 1 lemon, zest grated and juiced\", \" 3/4 cup raisins\", \" 3/4 cup chopped walnuts or pecans\"]                                                                                                                                                                                                                                                             [\"fresh cranberries\", \"sugar\", \"apple\", \"orang...\n",
       "Name: NER, dtype: object"
      ]
     },
     "execution_count": 12,
     "metadata": {},
     "output_type": "execute_result"
    }
   ],
   "source": [
    "ing_ner = ing_ner.apply(list).map(lambda x: x[0])\n",
    "ing_ner.head()"
   ]
  },
  {
   "cell_type": "code",
   "execution_count": 13,
   "metadata": {},
   "outputs": [
    {
     "data": {
      "text/plain": [
       "'[\"fingerling potatoes\", \"brussels sprouts\", \"garlic\", \"rosemary\", \"+\", \"salt\", \"ground black pepper\", \"red pepper\"]'"
      ]
     },
     "execution_count": 13,
     "metadata": {},
     "output_type": "execute_result"
    }
   ],
   "source": [
    "ing_ner.iloc[0]"
   ]
  },
  {
   "cell_type": "code",
   "execution_count": 14,
   "metadata": {},
   "outputs": [
    {
     "data": {
      "text/plain": [
       "(2231142, 5)"
      ]
     },
     "execution_count": 14,
     "metadata": {},
     "output_type": "execute_result"
    }
   ],
   "source": [
    "core = pd.read_csv('0-datasets/v-1.1.1-single-h.csv')\n",
    "core.shape"
   ]
  },
  {
   "cell_type": "code",
   "execution_count": 15,
   "metadata": {},
   "outputs": [],
   "source": [
    "df = core.join(ing_ner, on=\"ingredients\", rsuffix=\"_ing\")"
   ]
  },
  {
   "cell_type": "code",
   "execution_count": 16,
   "metadata": {},
   "outputs": [
    {
     "data": {
      "text/html": [
       "<div>\n",
       "<style scoped>\n",
       "    .dataframe tbody tr th:only-of-type {\n",
       "        vertical-align: middle;\n",
       "    }\n",
       "\n",
       "    .dataframe tbody tr th {\n",
       "        vertical-align: top;\n",
       "    }\n",
       "\n",
       "    .dataframe thead th {\n",
       "        text-align: right;\n",
       "    }\n",
       "</style>\n",
       "<table border=\"1\" class=\"dataframe\">\n",
       "  <thead>\n",
       "    <tr style=\"text-align: right;\">\n",
       "      <th></th>\n",
       "      <th>title</th>\n",
       "      <th>ingredients</th>\n",
       "      <th>directions</th>\n",
       "      <th>link</th>\n",
       "      <th>source</th>\n",
       "      <th>NER</th>\n",
       "    </tr>\n",
       "  </thead>\n",
       "  <tbody>\n",
       "    <tr>\n",
       "      <th>0</th>\n",
       "      <td>No-Bake Nut Cookies</td>\n",
       "      <td>[\"1 c. firmly packed brown sugar\", \"1/2 c. eva...</td>\n",
       "      <td>[\"In a heavy 2-quart saucepan, mix brown sugar...</td>\n",
       "      <td>www.cookbooks.com/Recipe-Details.aspx?id=44874</td>\n",
       "      <td>Gathered</td>\n",
       "      <td>[\"brown sugar\", \"milk\", \"vanilla\", \"nuts\", \"bu...</td>\n",
       "    </tr>\n",
       "    <tr>\n",
       "      <th>1</th>\n",
       "      <td>Jewell Ball'S Chicken</td>\n",
       "      <td>[\"1 small jar chipped beef, cut up\", \"4 boned ...</td>\n",
       "      <td>[\"Place chipped beef on bottom of baking dish....</td>\n",
       "      <td>www.cookbooks.com/Recipe-Details.aspx?id=699419</td>\n",
       "      <td>Gathered</td>\n",
       "      <td>[\"beef\", \"chicken breasts\", \"cream of mushroom...</td>\n",
       "    </tr>\n",
       "    <tr>\n",
       "      <th>2</th>\n",
       "      <td>Creamy Corn</td>\n",
       "      <td>[\"2 (16 oz.) pkg. frozen corn\", \"1 (8 oz.) pkg...</td>\n",
       "      <td>[\"In a slow cooker, combine all ingredients. C...</td>\n",
       "      <td>www.cookbooks.com/Recipe-Details.aspx?id=10570</td>\n",
       "      <td>Gathered</td>\n",
       "      <td>[\"frozen corn\", \"cream cheese\", \"butter\", \"gar...</td>\n",
       "    </tr>\n",
       "    <tr>\n",
       "      <th>3</th>\n",
       "      <td>Chicken Funny</td>\n",
       "      <td>[\"1 large whole chicken\", \"2 (10 1/2 oz.) cans...</td>\n",
       "      <td>[\"Boil and debone chicken.\", \"Put bite size pi...</td>\n",
       "      <td>www.cookbooks.com/Recipe-Details.aspx?id=897570</td>\n",
       "      <td>Gathered</td>\n",
       "      <td>[\"chicken\", \"chicken gravy\", \"cream of mushroo...</td>\n",
       "    </tr>\n",
       "    <tr>\n",
       "      <th>4</th>\n",
       "      <td>Reeses Cups(Candy)</td>\n",
       "      <td>[\"1 c. peanut butter\", \"3/4 c. graham cracker ...</td>\n",
       "      <td>[\"Combine first four ingredients and press in ...</td>\n",
       "      <td>www.cookbooks.com/Recipe-Details.aspx?id=659239</td>\n",
       "      <td>Gathered</td>\n",
       "      <td>[\"peanut butter\", \"graham cracker crumbs\", \"bu...</td>\n",
       "    </tr>\n",
       "  </tbody>\n",
       "</table>\n",
       "</div>"
      ],
      "text/plain": [
       "                   title                                        ingredients  \\\n",
       "0    No-Bake Nut Cookies  [\"1 c. firmly packed brown sugar\", \"1/2 c. eva...   \n",
       "1  Jewell Ball'S Chicken  [\"1 small jar chipped beef, cut up\", \"4 boned ...   \n",
       "2            Creamy Corn  [\"2 (16 oz.) pkg. frozen corn\", \"1 (8 oz.) pkg...   \n",
       "3          Chicken Funny  [\"1 large whole chicken\", \"2 (10 1/2 oz.) cans...   \n",
       "4   Reeses Cups(Candy)    [\"1 c. peanut butter\", \"3/4 c. graham cracker ...   \n",
       "\n",
       "                                          directions  \\\n",
       "0  [\"In a heavy 2-quart saucepan, mix brown sugar...   \n",
       "1  [\"Place chipped beef on bottom of baking dish....   \n",
       "2  [\"In a slow cooker, combine all ingredients. C...   \n",
       "3  [\"Boil and debone chicken.\", \"Put bite size pi...   \n",
       "4  [\"Combine first four ingredients and press in ...   \n",
       "\n",
       "                                              link    source  \\\n",
       "0   www.cookbooks.com/Recipe-Details.aspx?id=44874  Gathered   \n",
       "1  www.cookbooks.com/Recipe-Details.aspx?id=699419  Gathered   \n",
       "2   www.cookbooks.com/Recipe-Details.aspx?id=10570  Gathered   \n",
       "3  www.cookbooks.com/Recipe-Details.aspx?id=897570  Gathered   \n",
       "4  www.cookbooks.com/Recipe-Details.aspx?id=659239  Gathered   \n",
       "\n",
       "                                                 NER  \n",
       "0  [\"brown sugar\", \"milk\", \"vanilla\", \"nuts\", \"bu...  \n",
       "1  [\"beef\", \"chicken breasts\", \"cream of mushroom...  \n",
       "2  [\"frozen corn\", \"cream cheese\", \"butter\", \"gar...  \n",
       "3  [\"chicken\", \"chicken gravy\", \"cream of mushroo...  \n",
       "4  [\"peanut butter\", \"graham cracker crumbs\", \"bu...  "
      ]
     },
     "execution_count": 16,
     "metadata": {},
     "output_type": "execute_result"
    }
   ],
   "source": [
    "df.head()"
   ]
  },
  {
   "cell_type": "code",
   "execution_count": 17,
   "metadata": {},
   "outputs": [
    {
     "data": {
      "text/html": [
       "<div>\n",
       "<style scoped>\n",
       "    .dataframe tbody tr th:only-of-type {\n",
       "        vertical-align: middle;\n",
       "    }\n",
       "\n",
       "    .dataframe tbody tr th {\n",
       "        vertical-align: top;\n",
       "    }\n",
       "\n",
       "    .dataframe thead th {\n",
       "        text-align: right;\n",
       "    }\n",
       "</style>\n",
       "<table border=\"1\" class=\"dataframe\">\n",
       "  <thead>\n",
       "    <tr style=\"text-align: right;\">\n",
       "      <th></th>\n",
       "      <th>title</th>\n",
       "      <th>ingredients</th>\n",
       "      <th>directions</th>\n",
       "      <th>link</th>\n",
       "      <th>source</th>\n",
       "      <th>NER</th>\n",
       "    </tr>\n",
       "  </thead>\n",
       "  <tbody>\n",
       "    <tr>\n",
       "      <th>count</th>\n",
       "      <td>2231142</td>\n",
       "      <td>2231142</td>\n",
       "      <td>2231142</td>\n",
       "      <td>2231142</td>\n",
       "      <td>2231142</td>\n",
       "      <td>2196172</td>\n",
       "    </tr>\n",
       "    <tr>\n",
       "      <th>unique</th>\n",
       "      <td>1312871</td>\n",
       "      <td>2226362</td>\n",
       "      <td>2211644</td>\n",
       "      <td>2231142</td>\n",
       "      <td>2</td>\n",
       "      <td>2102226</td>\n",
       "    </tr>\n",
       "    <tr>\n",
       "      <th>top</th>\n",
       "      <td>Chicken Casserole</td>\n",
       "      <td>[\"1 c. peanut butter\", \"1 c. sugar\", \"1 egg\"]</td>\n",
       "      <td>[\"Mix all ingredients together.\"]</td>\n",
       "      <td>www.cookbooks.com/Recipe-Details.aspx?id=357269</td>\n",
       "      <td>Gathered</td>\n",
       "      <td>[\"sugar\", \"water\"]</td>\n",
       "    </tr>\n",
       "    <tr>\n",
       "      <th>freq</th>\n",
       "      <td>4099</td>\n",
       "      <td>28</td>\n",
       "      <td>274</td>\n",
       "      <td>1</td>\n",
       "      <td>1643098</td>\n",
       "      <td>162</td>\n",
       "    </tr>\n",
       "  </tbody>\n",
       "</table>\n",
       "</div>"
      ],
      "text/plain": [
       "                    title                                    ingredients  \\\n",
       "count             2231142                                        2231142   \n",
       "unique            1312871                                        2226362   \n",
       "top     Chicken Casserole  [\"1 c. peanut butter\", \"1 c. sugar\", \"1 egg\"]   \n",
       "freq                 4099                                             28   \n",
       "\n",
       "                               directions  \\\n",
       "count                             2231142   \n",
       "unique                            2211644   \n",
       "top     [\"Mix all ingredients together.\"]   \n",
       "freq                                  274   \n",
       "\n",
       "                                                   link    source  \\\n",
       "count                                           2231142   2231142   \n",
       "unique                                          2231142         2   \n",
       "top     www.cookbooks.com/Recipe-Details.aspx?id=357269  Gathered   \n",
       "freq                                                  1   1643098   \n",
       "\n",
       "                       NER  \n",
       "count              2196172  \n",
       "unique             2102226  \n",
       "top     [\"sugar\", \"water\"]  \n",
       "freq                   162  "
      ]
     },
     "execution_count": 17,
     "metadata": {},
     "output_type": "execute_result"
    }
   ],
   "source": [
    "df.describe()"
   ]
  },
  {
   "cell_type": "code",
   "execution_count": 18,
   "metadata": {},
   "outputs": [
    {
     "data": {
      "text/plain": [
       "(2231142, 6)"
      ]
     },
     "execution_count": 18,
     "metadata": {},
     "output_type": "execute_result"
    }
   ],
   "source": [
    "df.shape"
   ]
  },
  {
   "cell_type": "code",
   "execution_count": 19,
   "metadata": {},
   "outputs": [],
   "source": [
    "df.to_csv('0-datasets/v-1.1.1-single-h-NER-incomplete.csv')"
   ]
  }
 ],
 "metadata": {
  "kernelspec": {
   "display_name": "Python 3",
   "language": "python",
   "name": "python3"
  },
  "language_info": {
   "codemirror_mode": {
    "name": "ipython",
    "version": 3
   },
   "file_extension": ".py",
   "mimetype": "text/x-python",
   "name": "python",
   "nbconvert_exporter": "python",
   "pygments_lexer": "ipython3",
   "version": "3.7.7"
  }
 },
 "nbformat": 4,
 "nbformat_minor": 4
}
