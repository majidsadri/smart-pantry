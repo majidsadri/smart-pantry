{
 "cells": [
  {
   "cell_type": "markdown",
   "metadata": {},
   "source": [
    "# Yummly\n",
    "Analysis of data from yummly.com"
   ]
  },
  {
   "cell_type": "code",
   "execution_count": 1,
   "metadata": {},
   "outputs": [],
   "source": [
    "import json"
   ]
  },
  {
   "cell_type": "markdown",
   "metadata": {},
   "source": [
    "# Example complete recipe JSON object"
   ]
  },
  {
   "cell_type": "code",
   "execution_count": 2,
   "metadata": {},
   "outputs": [],
   "source": [
    "raw = '{\"@context\":\"https://schema.org/\",\"@type\":\"Recipe\",\"name\":\"No-Bake Lemon-Mango Cheesecakes with Speculoos crust\",\"image\":\"https://lh5.ggpht.com/PgU8Bqq-c_SYCOfUHqw3a27ndzcmRdYyFXs-KjNSWHOHgzUkhI9ioAMbPNoV0Yf_g-W64eo2Jq1GIptcGyMNLes\",\"description\":\"Perfect for times when you just don’t want to use your oven. Cheesecake sitting on a cookie. What could be better than that? Combining the tart flavors of lemon and mango adds a hint of the exotic to this rich dessert.\",\"mainEntity\":true,\"author\":{\"@type\":\"Person\",\"name\":\"On dine chez Nanou\"},\"totalTime\":\"PT35M\",\"recipeYield\":\"4 servings\",\"nutrition\":{\"@type\":\"NutritionInformation\",\"calories\":\"750 calories\",\"carbohydrateContent\":\"69 grams\",\"cholesterolContent\":\"135 milligrams\",\"fatContent\":\"51 grams\",\"fiberContent\":\"3 grams\",\"proteinContent\":\"10 grams\",\"saturatedFatContent\":\"28 grams\",\"sodiumContent\":\"520 milligrams\",\"sugarContent\":\"55 grams\"},\"recipeCategory\":[\"Desserts\"],\"cookingMethod\":[\"Boiling\",\"Blending\"],\"keywords\":\"Desserts, Boiling, Blending\",\"recipeIngredient\":[\"1 1/8 cups cookies spéculoos\",\"4 1/4 tablespoons butter\",\"1 1/4 cups cream cheese\",\"1 cup powdered sugar\",\"1 lemon\",\"5/8 cup creme fraiche or sour cream\",\"1 3/8 teaspoons gelatin powder unflavored\",\"1 3/16 cups mango puree\"],\"recipeInstructions\":[{\"@type\":\"HowToStep\",\"text\":\"Using a blender, smash the cookies into pieces, add the diced butter and mix, pulsing  to incorporate.\"},{\"@type\":\"HowToStep\",\"text\":\"Place circular cookie molds on a baking sheet covered with a plastic wrap.\"},{\"@type\":\"HowToStep\",\"text\":\"Spread some cookie mixture on each circle and press with a spoon to cover the bottom.\"},{\"@type\":\"HowToStep\",\"text\":\"Keep cool.\"},{\"@type\":\"HowToStep\",\"text\":\"Sprinkle the gelatin in a bowl of cold water to soften it.\"},{\"@type\":\"HowToStep\",\"text\":\"With an electric mixer beat the cream cheese, sugar, lemon juice, and sour cream and until smooth.\"},{\"@type\":\"HowToStep\",\"text\":\"In a small bowl, over a saucepan of boiling water, 3 Tablespoons of mango puree.\"},{\"@type\":\"HowToStep\",\"text\":\"Add the gelatin and stir until well dissolved.\"},{\"@type\":\"HowToStep\",\"text\":\"Blend into the remaining mango purée  mixing with a fork and add into the cream cheese mixture while beating continuously.\"},{\"@type\":\"HowToStep\",\"text\":\"Fill the cookie molds with this mixture.\"},{\"@type\":\"HowToStep\",\"text\":\"Let it cool overnight in the refrigerator.\"},{\"@type\":\"HowToStep\",\"text\":\"To unmold, pass a hot knife blade along the sides of the circle.\"}],\"dateModified\":\"2019-09-03\"}'"
   ]
  },
  {
   "cell_type": "code",
   "execution_count": 3,
   "metadata": {},
   "outputs": [],
   "source": [
    "structured = json.loads(raw)"
   ]
  },
  {
   "cell_type": "code",
   "execution_count": 4,
   "metadata": {},
   "outputs": [
    {
     "data": {
      "text/plain": [
       "'No-Bake Lemon-Mango Cheesecakes with Speculoos crust'"
      ]
     },
     "execution_count": 4,
     "metadata": {},
     "output_type": "execute_result"
    }
   ],
   "source": [
    "structured['name']"
   ]
  },
  {
   "cell_type": "code",
   "execution_count": 5,
   "metadata": {},
   "outputs": [
    {
     "data": {
      "text/plain": [
       "True"
      ]
     },
     "execution_count": 5,
     "metadata": {},
     "output_type": "execute_result"
    }
   ],
   "source": [
    "'recipeInstructions' in structured"
   ]
  },
  {
   "cell_type": "markdown",
   "metadata": {},
   "source": [
    "# Example recipe JSON object without instructions"
   ]
  },
  {
   "cell_type": "code",
   "execution_count": 6,
   "metadata": {},
   "outputs": [],
   "source": [
    "raw2 = '{\"@context\":\"https://schema.org/\",\"@type\":\"Recipe\",\"name\":\"Mango Cheesecake\",\"image\":\"https://lh3.googleusercontent.com/voyjO2FJaJFxYabTMEWTY1tR-4BIjzxgaasddF24WLZ7KOXr29binCGXrcy-D1kRbrwMtUgx3emPeKs42oYw\",\"description\":\"Mango Cheesecake With Mango, Cream Cheese, Sugar, Water, Gelatine Powder, Cream, Biscuits, Butter\",\"mainEntity\":true,\"author\":{\"@type\":\"Person\",\"name\":\"Best Recipes Australia\"},\"totalTime\":\"PT45M\",\"recipeYield\":\"12 servings\",\"nutrition\":{\"@type\":\"NutritionInformation\",\"calories\":\"350 calories\",\"carbohydrateContent\":\"23 grams\",\"cholesterolContent\":\"80 milligrams\",\"fatContent\":\"27 grams\",\"fiberContent\":\"1 grams\",\"proteinContent\":\"6 grams\",\"saturatedFatContent\":\"15 grams\",\"sodiumContent\":\"290 milligrams\",\"sugarContent\":\"16 grams\"},\"recipeCategory\":[\"Desserts\"],\"cookingMethod\":[\"Microwaving\"],\"keywords\":\"Desserts, No Bake Cheesecake, Microwaving, Cheesecake\",\"recipeIngredient\":[\"3 cups mango diced\",\"2 1/8 cups cream cheese\",\"1/2 cup sugar *to taste\",\"1/4 cup water\",\"1 tablespoon gelatine powder\",\"1 1/4 cups cream\",\"1/2 cup biscuits sweet plain\",\"5 1/4 tablespoons butter\"],\"dateModified\":\"2019-09-05\"}'"
   ]
  },
  {
   "cell_type": "code",
   "execution_count": 7,
   "metadata": {},
   "outputs": [],
   "source": [
    "structured2 = json.loads(raw2)"
   ]
  },
  {
   "cell_type": "code",
   "execution_count": 8,
   "metadata": {},
   "outputs": [
    {
     "data": {
      "text/plain": [
       "'Mango Cheesecake'"
      ]
     },
     "execution_count": 8,
     "metadata": {},
     "output_type": "execute_result"
    }
   ],
   "source": [
    "structured2['name']"
   ]
  },
  {
   "cell_type": "code",
   "execution_count": 9,
   "metadata": {},
   "outputs": [
    {
     "data": {
      "text/plain": [
       "False"
      ]
     },
     "execution_count": 9,
     "metadata": {},
     "output_type": "execute_result"
    }
   ],
   "source": [
    "'recipeInstructions' in structured2"
   ]
  },
  {
   "cell_type": "markdown",
   "metadata": {},
   "source": [
    "# Rewriting json"
   ]
  },
  {
   "cell_type": "code",
   "execution_count": 10,
   "metadata": {},
   "outputs": [],
   "source": [
    "def rewrite(structured):\n",
    "    key = 'recipeInstructions'\n",
    "    result = dict()\n",
    "    if key in structured:\n",
    "        result['title'] = structured['name']\n",
    "        result['ingredients'] = structured['recipeIngredient']\n",
    "        result['directions'] = list(map(lambda x: x['text'],structured[key]))\n",
    "        result['link'] = ''\n",
    "    return result"
   ]
  },
  {
   "cell_type": "code",
   "execution_count": 11,
   "metadata": {},
   "outputs": [
    {
     "data": {
      "text/plain": [
       "{'title': 'No-Bake Lemon-Mango Cheesecakes with Speculoos crust',\n",
       " 'ingredients': ['1 1/8 cups cookies spéculoos',\n",
       "  '4 1/4 tablespoons butter',\n",
       "  '1 1/4 cups cream cheese',\n",
       "  '1 cup powdered sugar',\n",
       "  '1 lemon',\n",
       "  '5/8 cup creme fraiche or sour cream',\n",
       "  '1 3/8 teaspoons gelatin powder unflavored',\n",
       "  '1 3/16 cups mango puree'],\n",
       " 'directions': ['Using a blender, smash the cookies into pieces, add the diced butter and mix, pulsing  to incorporate.',\n",
       "  'Place circular cookie molds on a baking sheet covered with a plastic wrap.',\n",
       "  'Spread some cookie mixture on each circle and press with a spoon to cover the bottom.',\n",
       "  'Keep cool.',\n",
       "  'Sprinkle the gelatin in a bowl of cold water to soften it.',\n",
       "  'With an electric mixer beat the cream cheese, sugar, lemon juice, and sour cream and until smooth.',\n",
       "  'In a small bowl, over a saucepan of boiling water, 3 Tablespoons of mango puree.',\n",
       "  'Add the gelatin and stir until well dissolved.',\n",
       "  'Blend into the remaining mango purée  mixing with a fork and add into the cream cheese mixture while beating continuously.',\n",
       "  'Fill the cookie molds with this mixture.',\n",
       "  'Let it cool overnight in the refrigerator.',\n",
       "  'To unmold, pass a hot knife blade along the sides of the circle.'],\n",
       " 'link': ''}"
      ]
     },
     "execution_count": 11,
     "metadata": {},
     "output_type": "execute_result"
    }
   ],
   "source": [
    "rewrite(structured)"
   ]
  },
  {
   "cell_type": "code",
   "execution_count": 12,
   "metadata": {},
   "outputs": [
    {
     "data": {
      "text/plain": [
       "{}"
      ]
     },
     "execution_count": 12,
     "metadata": {},
     "output_type": "execute_result"
    }
   ],
   "source": [
    "rewrite(structured2)"
   ]
  },
  {
   "cell_type": "markdown",
   "metadata": {},
   "source": [
    "# Quantity analysis\n",
    "Check how many recipes and references there are in current provided mongo dump"
   ]
  },
  {
   "cell_type": "raw",
   "metadata": {},
   "source": [
    "#raed data\n",
    "with open('scrapy_items_yummly_2.json') as jf:\n",
    "    raw_data = json.load(jf)"
   ]
  },
  {
   "cell_type": "code",
   "execution_count": 13,
   "metadata": {},
   "outputs": [
    {
     "name": "stdout",
     "output_type": "stream",
     "text": [
      "Error - wrong format\n",
      "{\"_id\":{ \"$oid\": \"5d97af566acba9a291ba3f7b\" },\"name\":\"A CUPCAKE FOR LOVE\",\"source\":\"https://www.yummly.com/page/acupcakeforlove\",\"link\":\"https://www.yummly.com/recipe/The\"-Infinity\"-Burger-Chinese-5-Spice-Chicken-Burger-with-Caramelised-Pineapples-and-Home-made-Chilli-Mayo-1776131\"}\n",
      "\n",
      "Error - wrong format\n",
      "{\"_id\":{ \"$oid\": \"5d99b2b66acba9a291bc4a18\" },\"name\":\"MYRECIPES\",\"source\":\"https://www.yummly.com/page/myrecipes\",\"link\":\"https://www.yummly.com/recipe/Chocolate\"-Infinity\"-Pie-1076633\"}\n",
      "\n",
      "Error - wrong format\n",
      "{\"_id\":{ \"$oid\": \"5d99b2b86acba9a291bc4a1a\" },\"name\":\"JAMONKEY\",\"source\":\"https://www.yummly.com/page/jamonkey\",\"link\":\"https://www.yummly.com/recipe/\"Infinity\"-Stone-Gummies-2476173\"}\n",
      "\n",
      "Error - wrong format\n",
      "{\"_id\":{ \"$oid\": \"5d99b2c66acba9a291bc4a29\" },\"name\":\"JAMIE GELLER\",\"source\":\"https://www.yummly.com/page/jamiegeller\",\"link\":\"https://www.yummly.com/recipe/Chocolate\"-Infinity\"-Pie-1009535\"}\n",
      "\n",
      "Error - wrong format\n",
      "{\"_id\":{ \"$oid\": \"5d99b2c76acba9a291bc4a2a\" },\"name\":\"EPOCH TIMES\",\"source\":\"https://www.yummly.com/page/theepochtimescom\",\"link\":\"https://www.yummly.com/recipe/Chocolate\"-Infinity\"-Pie-1028250\"}\n",
      "\n",
      "Error - wrong format\n",
      "{\"_id\":{ \"$oid\": \"5d99b2c86acba9a291bc4a2b\" },\"name\":\"PARADE'S COMMUNITY TABLE\",\"source\":\"https://www.yummly.com/page/communitytablecom\",\"link\":\"https://www.yummly.com/recipe/Chocolate\"-Infinity\"-Pie-998331\"}\n",
      "\n",
      "Error - wrong format\n",
      "{\"_id\":{ \"$oid\": \"5d9cd07f6acba9a291bf5fce\" },\"name\":\"SIMPLT INSPIRED MEALS\",\"source\":\"https://www.yummly.com/page/simplyinspiredmeals\",\"link\":\"https://www.yummly.com/recipe/\"Infinity\"-Stone-Overnight-Oatmeal-2493882\"}\n",
      "\n",
      "Error - wrong format\n",
      "{\"_id\":{ \"$oid\": \"5da42ff96acba9a291c688b0\" },\"name\":\"BIBING WITH BABISH\",\"source\":\"https://www.yummly.com/page/bingingwithbabishcom\",\"link\":\"https://www.yummly.com/recipe/\"Infinity\"-War-9012382\"}\n",
      "\n"
     ]
    }
   ],
   "source": [
    "# json lines - for big files\n",
    "with open('scrapy_items_yummly_6.jsonl') as jf:\n",
    "    raw_data = []\n",
    "    for line in jf.readlines():\n",
    "        try:\n",
    "            raw_data.append(json.loads(line.strip()))\n",
    "        except:\n",
    "            print('Error - wrong format')\n",
    "            print(line)\n",
    "    # raw_data = list(map(lambda x: json.loads(x.strip()), jf.readlines()))"
   ]
  },
  {
   "cell_type": "code",
   "execution_count": 14,
   "metadata": {},
   "outputs": [
    {
     "data": {
      "text/plain": [
       "1527418"
      ]
     },
     "execution_count": 14,
     "metadata": {},
     "output_type": "execute_result"
    }
   ],
   "source": [
    "len(raw_data)"
   ]
  },
  {
   "cell_type": "code",
   "execution_count": 15,
   "metadata": {},
   "outputs": [
    {
     "data": {
      "text/plain": [
       "1461480"
      ]
     },
     "execution_count": 15,
     "metadata": {},
     "output_type": "execute_result"
    }
   ],
   "source": [
    "# filter refs\n",
    "refs = list(filter(lambda x: 'source' in x, raw_data))\n",
    "len(refs)"
   ]
  },
  {
   "cell_type": "code",
   "execution_count": 16,
   "metadata": {},
   "outputs": [
    {
     "data": {
      "text/plain": [
       "65938"
      ]
     },
     "execution_count": 16,
     "metadata": {},
     "output_type": "execute_result"
    }
   ],
   "source": [
    "# filter recipes\n",
    "recs = list(filter(lambda x: 'source' not in x, raw_data))\n",
    "len(recs)"
   ]
  },
  {
   "cell_type": "markdown",
   "metadata": {},
   "source": [
    "### Source frequency\n",
    "Group refs by source and check how many refs in provided subset references this source. Later it will be used to define websites to scrape."
   ]
  },
  {
   "cell_type": "code",
   "execution_count": 17,
   "metadata": {},
   "outputs": [],
   "source": [
    "name_freq = dict()\n",
    "for r in refs:\n",
    "    n = r['name']\n",
    "    if n not in name_freq:\n",
    "        name_freq[n] = 1\n",
    "    else:\n",
    "        name_freq[n] += 1"
   ]
  },
  {
   "cell_type": "code",
   "execution_count": 18,
   "metadata": {},
   "outputs": [],
   "source": [
    "lst = list(name_freq.items())\n",
    "lst.sort(key=lambda x: x[0])\n",
    "lst.sort(key=lambda x: x[1], reverse=True)"
   ]
  },
  {
   "cell_type": "code",
   "execution_count": 19,
   "metadata": {},
   "outputs": [
    {
     "data": {
      "text/plain": [
       "[('FOOD.COM', 61717),\n",
       " ('ALLRECIPES', 37598),\n",
       " ('MYRECIPES', 29399),\n",
       " ('FOOD52', 18758),\n",
       " ('EPICURIOUS', 18213),\n",
       " ('MARTHA STEWART', 13421),\n",
       " ('ALLRECIPES UK', 12641),\n",
       " ('TASTE OF HOME', 11857),\n",
       " ('SERIOUS EATS', 10812),\n",
       " ('BBC GOOD FOOD', 8699),\n",
       " ('CDKITCHEN', 7772),\n",
       " ('JUST A PINCH', 6417),\n",
       " ('EAT SMARTER', 5967),\n",
       " ('FOOD NETWORK UK', 5729),\n",
       " ('BON APPÉTIT', 5395),\n",
       " ('WILLIAMS-SONOMA', 5245),\n",
       " ('EVERYDAY WITH RACHAEL RAY', 5142),\n",
       " ('BETTY CROCKER', 4964),\n",
       " ('THE SPRUCE', 4867),\n",
       " ('EATING WELL', 4511)]"
      ]
     },
     "execution_count": 19,
     "metadata": {},
     "output_type": "execute_result"
    }
   ],
   "source": [
    "lst[:20]"
   ]
  },
  {
   "cell_type": "code",
   "execution_count": 20,
   "metadata": {},
   "outputs": [
    {
     "data": {
      "text/plain": [
       "35244"
      ]
     },
     "execution_count": 20,
     "metadata": {},
     "output_type": "execute_result"
    }
   ],
   "source": [
    "len(lst)"
   ]
  },
  {
   "cell_type": "markdown",
   "metadata": {},
   "source": [
    "# Store recipes"
   ]
  },
  {
   "cell_type": "code",
   "execution_count": 29,
   "metadata": {},
   "outputs": [],
   "source": [
    "recs2 = list(filter(lambda x: 'directions' in x, recs))"
   ]
  },
  {
   "cell_type": "code",
   "execution_count": 30,
   "metadata": {},
   "outputs": [],
   "source": [
    "for r in recs2:\n",
    "    assert len(r) == 5"
   ]
  },
  {
   "cell_type": "code",
   "execution_count": 34,
   "metadata": {},
   "outputs": [],
   "source": [
    "with open('scrapy_items_yummly.jsonl', 'w+') as jf:\n",
    "    for r in recs2:\n",
    "        jf.write(json.dumps(r)+'\\n')"
   ]
  }
 ],
 "metadata": {
  "kernelspec": {
   "display_name": "Python 3",
   "language": "python",
   "name": "python3"
  },
  "language_info": {
   "codemirror_mode": {
    "name": "ipython",
    "version": 3
   },
   "file_extension": ".py",
   "mimetype": "text/x-python",
   "name": "python",
   "nbconvert_exporter": "python",
   "pygments_lexer": "ipython3",
   "version": "3.7.5"
  }
 },
 "nbformat": 4,
 "nbformat_minor": 4
}
