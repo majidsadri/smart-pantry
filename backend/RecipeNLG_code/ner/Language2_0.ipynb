{
  "nbformat": 4,
  "nbformat_minor": 0,
  "metadata": {
    "colab": {
      "name": "Language2.0.ipynb",
      "provenance": [],
      "machine_shape": "hm"
    },
    "kernelspec": {
      "name": "python3",
      "display_name": "Python 3"
    },
    "accelerator": "TPU"
  },
  "cells": [
    {
      "cell_type": "code",
      "metadata": {
        "id": "zVB43BOC2DcK",
        "colab_type": "code",
        "colab": {}
      },
      "source": [
        "a = 1\n",
        "while a == 1:\n",
        "  a = 1"
      ],
      "execution_count": 0,
      "outputs": []
    },
    {
      "cell_type": "code",
      "metadata": {
        "id": "6f_mDXHxXpfJ",
        "colab_type": "code",
        "colab": {}
      },
      "source": [
        "import pandas as pd\n",
        "import numpy as np\n",
        "import nltk\n",
        "from nltk.tokenize import sent_tokenize, word_tokenize\n",
        "from nltk.corpus import stopwords\n",
        "from nltk.stem import PorterStemmer, LancasterStemmer, WordNetLemmatizer \n",
        "import gensim \n",
        "from gensim.models import Word2Vec\n",
        "from tqdm import tqdm\n",
        "import re\n",
        "from textblob import TextBlob\n",
        "import copy\n",
        "import json"
      ],
      "execution_count": 0,
      "outputs": []
    },
    {
      "cell_type": "code",
      "metadata": {
        "id": "WiI87tGqZDh0",
        "colab_type": "code",
        "outputId": "943b8467-971d-49a5-aba3-5b06b672ad3b",
        "colab": {
          "base_uri": "https://localhost:8080/",
          "height": 632
        }
      },
      "source": [
        "pip install spacy_cld"
      ],
      "execution_count": 2,
      "outputs": [
        {
          "output_type": "stream",
          "text": [
            "Collecting spacy_cld\n",
            "  Downloading https://files.pythonhosted.org/packages/e3/3b/f5344007259b5beb0a8e0d7b9e6b0d2c5c4dcfe674bc94b7497bcc201ee0/spacy_cld-0.1.0.tar.gz\n",
            "Requirement already satisfied: spacy<3.0.0,>=2.0.0 in /usr/local/lib/python3.6/dist-packages (from spacy_cld) (2.2.4)\n",
            "Collecting pycld2>=0.31\n",
            "\u001b[?25l  Downloading https://files.pythonhosted.org/packages/21/d2/8b0def84a53c88d0eb27c67b05269fbd16ad68df8c78849e7b5d65e6aec3/pycld2-0.41.tar.gz (41.4MB)\n",
            "\u001b[K     |████████████████████████████████| 41.4MB 103kB/s \n",
            "\u001b[?25hRequirement already satisfied: tqdm<5.0.0,>=4.38.0 in /usr/local/lib/python3.6/dist-packages (from spacy<3.0.0,>=2.0.0->spacy_cld) (4.41.1)\n",
            "Requirement already satisfied: murmurhash<1.1.0,>=0.28.0 in /usr/local/lib/python3.6/dist-packages (from spacy<3.0.0,>=2.0.0->spacy_cld) (1.0.2)\n",
            "Requirement already satisfied: wasabi<1.1.0,>=0.4.0 in /usr/local/lib/python3.6/dist-packages (from spacy<3.0.0,>=2.0.0->spacy_cld) (0.6.0)\n",
            "Requirement already satisfied: numpy>=1.15.0 in /usr/local/lib/python3.6/dist-packages (from spacy<3.0.0,>=2.0.0->spacy_cld) (1.18.4)\n",
            "Requirement already satisfied: blis<0.5.0,>=0.4.0 in /usr/local/lib/python3.6/dist-packages (from spacy<3.0.0,>=2.0.0->spacy_cld) (0.4.1)\n",
            "Requirement already satisfied: preshed<3.1.0,>=3.0.2 in /usr/local/lib/python3.6/dist-packages (from spacy<3.0.0,>=2.0.0->spacy_cld) (3.0.2)\n",
            "Requirement already satisfied: srsly<1.1.0,>=1.0.2 in /usr/local/lib/python3.6/dist-packages (from spacy<3.0.0,>=2.0.0->spacy_cld) (1.0.2)\n",
            "Requirement already satisfied: requests<3.0.0,>=2.13.0 in /usr/local/lib/python3.6/dist-packages (from spacy<3.0.0,>=2.0.0->spacy_cld) (2.23.0)\n",
            "Requirement already satisfied: cymem<2.1.0,>=2.0.2 in /usr/local/lib/python3.6/dist-packages (from spacy<3.0.0,>=2.0.0->spacy_cld) (2.0.3)\n",
            "Requirement already satisfied: thinc==7.4.0 in /usr/local/lib/python3.6/dist-packages (from spacy<3.0.0,>=2.0.0->spacy_cld) (7.4.0)\n",
            "Requirement already satisfied: setuptools in /usr/local/lib/python3.6/dist-packages (from spacy<3.0.0,>=2.0.0->spacy_cld) (46.1.3)\n",
            "Requirement already satisfied: plac<1.2.0,>=0.9.6 in /usr/local/lib/python3.6/dist-packages (from spacy<3.0.0,>=2.0.0->spacy_cld) (1.1.3)\n",
            "Requirement already satisfied: catalogue<1.1.0,>=0.0.7 in /usr/local/lib/python3.6/dist-packages (from spacy<3.0.0,>=2.0.0->spacy_cld) (1.0.0)\n",
            "Requirement already satisfied: chardet<4,>=3.0.2 in /usr/local/lib/python3.6/dist-packages (from requests<3.0.0,>=2.13.0->spacy<3.0.0,>=2.0.0->spacy_cld) (3.0.4)\n",
            "Requirement already satisfied: certifi>=2017.4.17 in /usr/local/lib/python3.6/dist-packages (from requests<3.0.0,>=2.13.0->spacy<3.0.0,>=2.0.0->spacy_cld) (2020.4.5.1)\n",
            "Requirement already satisfied: urllib3!=1.25.0,!=1.25.1,<1.26,>=1.21.1 in /usr/local/lib/python3.6/dist-packages (from requests<3.0.0,>=2.13.0->spacy<3.0.0,>=2.0.0->spacy_cld) (1.24.3)\n",
            "Requirement already satisfied: idna<3,>=2.5 in /usr/local/lib/python3.6/dist-packages (from requests<3.0.0,>=2.13.0->spacy<3.0.0,>=2.0.0->spacy_cld) (2.9)\n",
            "Requirement already satisfied: importlib-metadata>=0.20; python_version < \"3.8\" in /usr/local/lib/python3.6/dist-packages (from catalogue<1.1.0,>=0.0.7->spacy<3.0.0,>=2.0.0->spacy_cld) (1.6.0)\n",
            "Requirement already satisfied: zipp>=0.5 in /usr/local/lib/python3.6/dist-packages (from importlib-metadata>=0.20; python_version < \"3.8\"->catalogue<1.1.0,>=0.0.7->spacy<3.0.0,>=2.0.0->spacy_cld) (3.1.0)\n",
            "Building wheels for collected packages: spacy-cld, pycld2\n",
            "  Building wheel for spacy-cld (setup.py) ... \u001b[?25l\u001b[?25hdone\n",
            "  Created wheel for spacy-cld: filename=spacy_cld-0.1.0-cp36-none-any.whl size=4065 sha256=005bfb5953ca4eb1c3429c872d6893ee26a47fb7db9bf106b3c10d708d75970f\n",
            "  Stored in directory: /root/.cache/pip/wheels/7e/a6/a5/604befa6807cc78a6852be9e933c080362b2498fca796cd34e\n",
            "  Building wheel for pycld2 (setup.py) ... \u001b[?25l\u001b[?25hdone\n",
            "  Created wheel for pycld2: filename=pycld2-0.41-cp36-cp36m-linux_x86_64.whl size=9833460 sha256=3a0d0a4c62e48b6ec88c3146bf41255455d96e2eea40229bbce203226727332d\n",
            "  Stored in directory: /root/.cache/pip/wheels/c6/8f/e9/08a1a8932a490175bd140206cd86a3dbcfc70498100de11079\n",
            "Successfully built spacy-cld pycld2\n",
            "Installing collected packages: pycld2, spacy-cld\n",
            "Successfully installed pycld2-0.41 spacy-cld-0.1.0\n"
          ],
          "name": "stdout"
        }
      ]
    },
    {
      "cell_type": "code",
      "metadata": {
        "id": "3oziWrudZGA-",
        "colab_type": "code",
        "colab": {}
      },
      "source": [
        "import spacy\n",
        "from spacy_cld import LanguageDetector"
      ],
      "execution_count": 0,
      "outputs": []
    },
    {
      "cell_type": "code",
      "metadata": {
        "id": "swqy4pfx1-T3",
        "colab_type": "code",
        "outputId": "e4c06ab3-12d1-46ef-d693-949e01b4c4cd",
        "colab": {
          "base_uri": "https://localhost:8080/",
          "height": 122
        }
      },
      "source": [
        "from google.colab import drive\n",
        "drive.mount('/content/drive')"
      ],
      "execution_count": 4,
      "outputs": [
        {
          "output_type": "stream",
          "text": [
            "Go to this URL in a browser: https://accounts.google.com/o/oauth2/auth?client_id=947318989803-6bn6qk8qdgf4n4g3pfee6491hc0brc4i.apps.googleusercontent.com&redirect_uri=urn%3aietf%3awg%3aoauth%3a2.0%3aoob&response_type=code&scope=email%20https%3a%2f%2fwww.googleapis.com%2fauth%2fdocs.test%20https%3a%2f%2fwww.googleapis.com%2fauth%2fdrive%20https%3a%2f%2fwww.googleapis.com%2fauth%2fdrive.photos.readonly%20https%3a%2f%2fwww.googleapis.com%2fauth%2fpeopleapi.readonly\n",
            "\n",
            "Enter your authorization code:\n",
            "··········\n",
            "Mounted at /content/drive\n"
          ],
          "name": "stdout"
        }
      ]
    },
    {
      "cell_type": "code",
      "metadata": {
        "id": "SwQxeQXJ1-9V",
        "colab_type": "code",
        "outputId": "b90d8d6f-bb94-4f4f-9f35-c9236d6aaad6",
        "colab": {
          "base_uri": "https://localhost:8080/",
          "height": 34
        }
      },
      "source": [
        "!ls \"/content/drive/My Drive/DATASET\""
      ],
      "execution_count": 5,
      "outputs": [
        {
          "output_type": "stream",
          "text": [
            "dataset-0.csv  DATASET.csv\n"
          ],
          "name": "stdout"
        }
      ]
    },
    {
      "cell_type": "code",
      "metadata": {
        "id": "TGXXuMj62GIj",
        "colab_type": "code",
        "colab": {}
      },
      "source": [
        "!cp \"/content/drive/My Drive/DATASET/dataset-0.csv\" \"recipes.csv\""
      ],
      "execution_count": 0,
      "outputs": []
    },
    {
      "cell_type": "code",
      "metadata": {
        "id": "xc_NpF3WXxiH",
        "colab_type": "code",
        "outputId": "dad7d5c9-f915-46e0-f2c9-ac28a81719ca",
        "colab": {
          "base_uri": "https://localhost:8080/",
          "height": 419
        }
      },
      "source": [
        "recipes = pd.read_csv('recipes.csv', encoding='utf8') \n",
        "recipes"
      ],
      "execution_count": 7,
      "outputs": [
        {
          "output_type": "execute_result",
          "data": {
            "text/html": [
              "<div>\n",
              "<style scoped>\n",
              "    .dataframe tbody tr th:only-of-type {\n",
              "        vertical-align: middle;\n",
              "    }\n",
              "\n",
              "    .dataframe tbody tr th {\n",
              "        vertical-align: top;\n",
              "    }\n",
              "\n",
              "    .dataframe thead th {\n",
              "        text-align: right;\n",
              "    }\n",
              "</style>\n",
              "<table border=\"1\" class=\"dataframe\">\n",
              "  <thead>\n",
              "    <tr style=\"text-align: right;\">\n",
              "      <th></th>\n",
              "      <th>title</th>\n",
              "      <th>ingredients</th>\n",
              "      <th>directions</th>\n",
              "      <th>link</th>\n",
              "      <th>source</th>\n",
              "    </tr>\n",
              "  </thead>\n",
              "  <tbody>\n",
              "    <tr>\n",
              "      <th>0</th>\n",
              "      <td>No-Bake Nut Cookies</td>\n",
              "      <td>[\"1 c. firmly packed brown sugar\", \"1/2 c. eva...</td>\n",
              "      <td>[\"In a heavy 2-quart saucepan, mix brown sugar...</td>\n",
              "      <td>www.cookbooks.com/Recipe-Details.aspx?id=44874</td>\n",
              "      <td>Gathered</td>\n",
              "    </tr>\n",
              "    <tr>\n",
              "      <th>1</th>\n",
              "      <td>Jewell Ball'S Chicken</td>\n",
              "      <td>[\"1 small jar chipped beef, cut up\", \"4 boned ...</td>\n",
              "      <td>[\"Place chipped beef on bottom of baking dish....</td>\n",
              "      <td>www.cookbooks.com/Recipe-Details.aspx?id=699419</td>\n",
              "      <td>Gathered</td>\n",
              "    </tr>\n",
              "    <tr>\n",
              "      <th>2</th>\n",
              "      <td>Creamy Corn</td>\n",
              "      <td>[\"2 (16 oz.) pkg. frozen corn\", \"1 (8 oz.) pkg...</td>\n",
              "      <td>[\"In a slow cooker, combine all ingredients. C...</td>\n",
              "      <td>www.cookbooks.com/Recipe-Details.aspx?id=10570</td>\n",
              "      <td>Gathered</td>\n",
              "    </tr>\n",
              "    <tr>\n",
              "      <th>3</th>\n",
              "      <td>Chicken Funny</td>\n",
              "      <td>[\"1 large whole chicken\", \"2 (10 1/2 oz.) cans...</td>\n",
              "      <td>[\"Boil and debone chicken.\", \"Put bite size pi...</td>\n",
              "      <td>www.cookbooks.com/Recipe-Details.aspx?id=897570</td>\n",
              "      <td>Gathered</td>\n",
              "    </tr>\n",
              "    <tr>\n",
              "      <th>4</th>\n",
              "      <td>Reeses Cups(Candy)</td>\n",
              "      <td>[\"1 c. peanut butter\", \"3/4 c. graham cracker ...</td>\n",
              "      <td>[\"Combine first four ingredients and press in ...</td>\n",
              "      <td>www.cookbooks.com/Recipe-Details.aspx?id=659239</td>\n",
              "      <td>Gathered</td>\n",
              "    </tr>\n",
              "    <tr>\n",
              "      <th>...</th>\n",
              "      <td>...</td>\n",
              "      <td>...</td>\n",
              "      <td>...</td>\n",
              "      <td>...</td>\n",
              "      <td>...</td>\n",
              "    </tr>\n",
              "    <tr>\n",
              "      <th>2383391</th>\n",
              "      <td>Sunny's Fake Crepes</td>\n",
              "      <td>[\"1/2 cup chocolate hazelnut spread (recommend...</td>\n",
              "      <td>[\"Spread hazelnut spread on 1 side of each tor...</td>\n",
              "      <td>www.foodnetwork.com/recipes/sunny-anderson/sun...</td>\n",
              "      <td>Recipes1M</td>\n",
              "    </tr>\n",
              "    <tr>\n",
              "      <th>2383392</th>\n",
              "      <td>Devil Eggs</td>\n",
              "      <td>[\"1 dozen eggs\", \"1 paprika\", \"1 salt and pepp...</td>\n",
              "      <td>[\"Boil eggs on medium for 30mins.\", \"Then cool...</td>\n",
              "      <td>cookpad.com/us/recipes/355411-devil-eggs</td>\n",
              "      <td>Recipes1M</td>\n",
              "    </tr>\n",
              "    <tr>\n",
              "      <th>2383393</th>\n",
              "      <td>Extremely Easy and Quick - Namul Daikon Salad</td>\n",
              "      <td>[\"150 grams Daikon radish\", \"1 tbsp Sesame oil...</td>\n",
              "      <td>[\"Julienne the daikon and squeeze out the exce...</td>\n",
              "      <td>cookpad.com/us/recipes/153324-extremely-easy-a...</td>\n",
              "      <td>Recipes1M</td>\n",
              "    </tr>\n",
              "    <tr>\n",
              "      <th>2383394</th>\n",
              "      <td>Pan-Roasted Pork Chops With Apple Fritters</td>\n",
              "      <td>[\"1 cup apple cider\", \"6 tablespoons sugar\", \"...</td>\n",
              "      <td>[\"In a large bowl, mix the apple cider with 4 ...</td>\n",
              "      <td>cooking.nytimes.com/recipes/1015164</td>\n",
              "      <td>Recipes1M</td>\n",
              "    </tr>\n",
              "    <tr>\n",
              "      <th>2383395</th>\n",
              "      <td>Polpette in Spicy Tomato Sauce</td>\n",
              "      <td>[\"1 pound ground veal\", \"1/2 pound sweet Itali...</td>\n",
              "      <td>[\"Preheat the oven to 350.\", \"In a bowl, mix t...</td>\n",
              "      <td>www.foodandwine.com/recipes/polpette-spicy-tom...</td>\n",
              "      <td>Recipes1M</td>\n",
              "    </tr>\n",
              "  </tbody>\n",
              "</table>\n",
              "<p>2383396 rows × 5 columns</p>\n",
              "</div>"
            ],
            "text/plain": [
              "                                                 title  ...     source\n",
              "0                                  No-Bake Nut Cookies  ...   Gathered\n",
              "1                                Jewell Ball'S Chicken  ...   Gathered\n",
              "2                                          Creamy Corn  ...   Gathered\n",
              "3                                        Chicken Funny  ...   Gathered\n",
              "4                                 Reeses Cups(Candy)    ...   Gathered\n",
              "...                                                ...  ...        ...\n",
              "2383391                            Sunny's Fake Crepes  ...  Recipes1M\n",
              "2383392                                     Devil Eggs  ...  Recipes1M\n",
              "2383393  Extremely Easy and Quick - Namul Daikon Salad  ...  Recipes1M\n",
              "2383394     Pan-Roasted Pork Chops With Apple Fritters  ...  Recipes1M\n",
              "2383395                 Polpette in Spicy Tomato Sauce  ...  Recipes1M\n",
              "\n",
              "[2383396 rows x 5 columns]"
            ]
          },
          "metadata": {
            "tags": []
          },
          "execution_count": 7
        }
      ]
    },
    {
      "cell_type": "code",
      "metadata": {
        "id": "rB7A-7rOJo27",
        "colab_type": "code",
        "outputId": "0f75b8e3-8dc9-46d2-c7a2-c1c435413d0c",
        "colab": {
          "base_uri": "https://localhost:8080/",
          "height": 419
        }
      },
      "source": [
        "language = pd.read_csv('language.csv', encoding='utf8') \n",
        "language = language.drop(language.columns[0], axis=1)\n",
        "language"
      ],
      "execution_count": 8,
      "outputs": [
        {
          "output_type": "execute_result",
          "data": {
            "text/html": [
              "<div>\n",
              "<style scoped>\n",
              "    .dataframe tbody tr th:only-of-type {\n",
              "        vertical-align: middle;\n",
              "    }\n",
              "\n",
              "    .dataframe tbody tr th {\n",
              "        vertical-align: top;\n",
              "    }\n",
              "\n",
              "    .dataframe thead th {\n",
              "        text-align: right;\n",
              "    }\n",
              "</style>\n",
              "<table border=\"1\" class=\"dataframe\">\n",
              "  <thead>\n",
              "    <tr style=\"text-align: right;\">\n",
              "      <th></th>\n",
              "      <th>title</th>\n",
              "      <th>ingredients</th>\n",
              "      <th>directions</th>\n",
              "      <th>link</th>\n",
              "      <th>source</th>\n",
              "    </tr>\n",
              "  </thead>\n",
              "  <tbody>\n",
              "    <tr>\n",
              "      <th>0</th>\n",
              "      <td>Mostaccioli And Ground Beef Supper</td>\n",
              "      <td>[\"1/2 lb. pkg. mostaccioli (uncooked)\", \"1 lb....</td>\n",
              "      <td>[\"I prefer Creamettes brand mostaccioli.\"]</td>\n",
              "      <td>www.cookbooks.com/Recipe-Details.aspx?id=1028860</td>\n",
              "      <td>Gathered</td>\n",
              "    </tr>\n",
              "    <tr>\n",
              "      <th>1</th>\n",
              "      <td>Plum Cake</td>\n",
              "      <td>[\"2 c. flour\", \"1/2 tsp. soda\", \"1/4 tsp. salt...</td>\n",
              "      <td>[\"Combine; pour over cake.\"]</td>\n",
              "      <td>www.cookbooks.com/Recipe-Details.aspx?id=305055</td>\n",
              "      <td>Gathered</td>\n",
              "    </tr>\n",
              "    <tr>\n",
              "      <th>2</th>\n",
              "      <td>Cinnamon Rolls</td>\n",
              "      <td>[\"1 Tbsp. yeast\", \"1 c. warm water\", \"1/4 c. s...</td>\n",
              "      <td>[\"Let stand for 30 min.\"]</td>\n",
              "      <td>www.cookbooks.com/Recipe-Details.aspx?id=26495</td>\n",
              "      <td>Gathered</td>\n",
              "    </tr>\n",
              "    <tr>\n",
              "      <th>3</th>\n",
              "      <td>Never Fail Jelly Roll</td>\n",
              "      <td>[\"6 eggs, separated\", \"1 c. sugar\", \"1 c. flou...</td>\n",
              "      <td>[\"Bake 15 min. at 375\\u00b0F.\"]</td>\n",
              "      <td>www.cookbooks.com/Recipe-Details.aspx?id=28476</td>\n",
              "      <td>Gathered</td>\n",
              "    </tr>\n",
              "    <tr>\n",
              "      <th>4</th>\n",
              "      <td>Poulet Au Miel</td>\n",
              "      <td>[\"1/4 tasse de miel\", \"1/4 tasse de beurre\", \"...</td>\n",
              "      <td>[\"Faire chauffer le miel et lebeurre et la sau...</td>\n",
              "      <td>www.cookbooks.com/Recipe-Details.aspx?id=722806</td>\n",
              "      <td>Gathered</td>\n",
              "    </tr>\n",
              "    <tr>\n",
              "      <th>...</th>\n",
              "      <td>...</td>\n",
              "      <td>...</td>\n",
              "      <td>...</td>\n",
              "      <td>...</td>\n",
              "      <td>...</td>\n",
              "    </tr>\n",
              "    <tr>\n",
              "      <th>2927</th>\n",
              "      <td>Quinoa salvaje</td>\n",
              "      <td>[\"1 cup Quinoa Blanca\", \"1/2 cup Quinoa Roja\",...</td>\n",
              "      <td>[\"Cocer la quinoa (blanca y roja) con 1 1/2 ta...</td>\n",
              "      <td>cookpad.com/us/recipes/369135-quinoa-salvaje</td>\n",
              "      <td>Recipes1M</td>\n",
              "    </tr>\n",
              "    <tr>\n",
              "      <th>2928</th>\n",
              "      <td>Galletas de Calabaza Recipe</td>\n",
              "      <td>[\"1/2 taza de mantequilla, al tiempo\", \"1 taza...</td>\n",
              "      <td>[\"Junta todos los ingredientes secos en un tra...</td>\n",
              "      <td>cookeatshare.com/recipes/galletas-de-calabaza-...</td>\n",
              "      <td>Recipes1M</td>\n",
              "    </tr>\n",
              "    <tr>\n",
              "      <th>2929</th>\n",
              "      <td>Curly Milkyway Recipe Woooka</td>\n",
              "      <td>[\"1 resz whisky (Scotch es kArA 1/4lbelA 1/4l ...</td>\n",
              "      <td>[\"Veszunk egy longdrinkes poharat.\", \"Beleontj...</td>\n",
              "      <td>www.chowhound.com/recipes/curly-milkyway-28640</td>\n",
              "      <td>Recipes1M</td>\n",
              "    </tr>\n",
              "    <tr>\n",
              "      <th>2930</th>\n",
              "      <td>bigne al cioccolato Recipe</td>\n",
              "      <td>[\"impasto per bigne:\", \"3 uova\", \"200 ml di ac...</td>\n",
              "      <td>[\"versare in una casseruola l acqua, il sale,l...</td>\n",
              "      <td>cookeatshare.com/recipes/bign-al-cioccolato-94393</td>\n",
              "      <td>Recipes1M</td>\n",
              "    </tr>\n",
              "    <tr>\n",
              "      <th>2931</th>\n",
              "      <td>Botana del Queso Brie con un Jarabe de Azucar ...</td>\n",
              "      <td>[\"A 1/4 taza de azA degrees car morena\", \"A 1/...</td>\n",
              "      <td>[\"En un traste mescla la azA degrees car, nuez...</td>\n",
              "      <td>cookeatshare.com/recipes/botana-del-queso-brie...</td>\n",
              "      <td>Recipes1M</td>\n",
              "    </tr>\n",
              "  </tbody>\n",
              "</table>\n",
              "<p>2932 rows × 5 columns</p>\n",
              "</div>"
            ],
            "text/plain": [
              "                                                  title  ...     source\n",
              "0                    Mostaccioli And Ground Beef Supper  ...   Gathered\n",
              "1                                             Plum Cake  ...   Gathered\n",
              "2                                        Cinnamon Rolls  ...   Gathered\n",
              "3                                 Never Fail Jelly Roll  ...   Gathered\n",
              "4                                        Poulet Au Miel  ...   Gathered\n",
              "...                                                 ...  ...        ...\n",
              "2927                                     Quinoa salvaje  ...  Recipes1M\n",
              "2928                        Galletas de Calabaza Recipe  ...  Recipes1M\n",
              "2929                       Curly Milkyway Recipe Woooka  ...  Recipes1M\n",
              "2930                         bigne al cioccolato Recipe  ...  Recipes1M\n",
              "2931  Botana del Queso Brie con un Jarabe de Azucar ...  ...  Recipes1M\n",
              "\n",
              "[2932 rows x 5 columns]"
            ]
          },
          "metadata": {
            "tags": []
          },
          "execution_count": 8
        }
      ]
    },
    {
      "cell_type": "code",
      "metadata": {
        "id": "xVM2jKt3AnXA",
        "colab_type": "code",
        "outputId": "1f93f9c4-4529-4092-b14d-b36a78811568",
        "colab": {
          "base_uri": "https://localhost:8080/",
          "height": 34
        }
      },
      "source": [
        "r_instruction = []\n",
        "for i in tqdm(range(0, len(recipes))):\n",
        "  r_instruction.append(json.loads(recipes.directions[i])) "
      ],
      "execution_count": 0,
      "outputs": [
        {
          "output_type": "stream",
          "text": [
            "100%|██████████| 2383396/2383396 [01:30<00:00, 26198.65it/s]\n"
          ],
          "name": "stderr"
        }
      ]
    },
    {
      "cell_type": "code",
      "metadata": {
        "id": "OhXwrh2EYheB",
        "colab_type": "code",
        "colab": {}
      },
      "source": [
        "nlp = spacy.load('en')"
      ],
      "execution_count": 0,
      "outputs": []
    },
    {
      "cell_type": "code",
      "metadata": {
        "id": "kSyuBlstYhbe",
        "colab_type": "code",
        "colab": {}
      },
      "source": [
        "language_detector = LanguageDetector()\n",
        "nlp.add_pipe(language_detector)"
      ],
      "execution_count": 0,
      "outputs": []
    },
    {
      "cell_type": "code",
      "metadata": {
        "id": "7kmiz47zTtuu",
        "colab_type": "code",
        "colab": {
          "base_uri": "https://localhost:8080/",
          "height": 85
        },
        "outputId": "1a39bc73-9cff-4c7c-e1f9-47695b166f21"
      },
      "source": [
        "for i in tqdm(range(2135347, len(recipes))):\n",
        "  text = recipes.directions[i][2:-2]\n",
        "  if len(text) > 5:\n",
        "    language_text = nlp(text)\n",
        "    if language_text._.languages != ['en']:\n",
        "      textblob = TextBlob(text)\n",
        "      if textblob.detect_language() != 'en':\n",
        "        print(i)\n",
        "        language = language.append(recipes.iloc[i], ignore_index=True)\n"
      ],
      "execution_count": 0,
      "outputs": [
        {
          "output_type": "stream",
          "text": [
            "  0%|          | 5/248049 [00:00<14:19:03,  4.81it/s]"
          ],
          "name": "stderr"
        },
        {
          "output_type": "stream",
          "text": [
            "2135347\n"
          ],
          "name": "stdout"
        },
        {
          "output_type": "stream",
          "text": [
            "  1%|          | 1722/248049 [00:51<3:23:52, 20.14it/s]"
          ],
          "name": "stderr"
        },
        {
          "output_type": "stream",
          "text": [
            "2137065\n"
          ],
          "name": "stdout"
        },
        {
          "output_type": "stream",
          "text": [
            "  1%|          | 2642/248049 [01:17<2:44:34, 24.85it/s]"
          ],
          "name": "stderr"
        },
        {
          "output_type": "stream",
          "text": [
            "2137981\n"
          ],
          "name": "stdout"
        },
        {
          "output_type": "stream",
          "text": [
            "  3%|▎         | 8409/248049 [04:01<2:27:36, 27.06it/s]"
          ],
          "name": "stderr"
        }
      ]
    },
    {
      "cell_type": "code",
      "metadata": {
        "id": "PQwjyVchhMAM",
        "colab_type": "code",
        "colab": {}
      },
      "source": [
        "language.to_csv('language.csv')"
      ],
      "execution_count": 0,
      "outputs": []
    },
    {
      "cell_type": "code",
      "metadata": {
        "id": "-EM1wbJrnPsI",
        "colab_type": "code",
        "colab": {}
      },
      "source": [
        "language"
      ],
      "execution_count": 0,
      "outputs": []
    },
    {
      "cell_type": "code",
      "metadata": {
        "id": "9Odghmo_hFym",
        "colab_type": "code",
        "colab": {}
      },
      "source": [
        ""
      ],
      "execution_count": 0,
      "outputs": []
    }
  ]
}